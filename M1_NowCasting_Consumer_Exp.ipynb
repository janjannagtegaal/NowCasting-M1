{
 "cells": [
  {
   "cell_type": "markdown",
   "metadata": {},
   "source": [
    "<div style=\"color:#00BFFF\">\n",
    "\n",
    "# Nowcasting Consumer Expenditure: "
   ]
  },
  {
   "cell_type": "markdown",
   "metadata": {},
   "source": [
    "<div style=\"color:#5F9EA0\">\n",
    "\n",
    "## Uncovering Reliable Proxies for Consumer Spending Behaviour. "
   ]
  },
  {
   "cell_type": "markdown",
   "metadata": {},
   "source": [
    "#### 1.1. Introduction: The Problem (Why)\n",
    "\n",
    "The current quarterly GDP reports lag in reflecting the dynamic changes in the economy, impacting decision-makers who rely on timely economic data. This project is devised to mitigate this issue by identifying high-frequency, readily updated data proxies that offer quicker insights into consumer expenditure patterns.\n",
    "\n",
    "#### 1.2. Project Scope and Objectives (What)\n",
    "\n",
    "The project's primary objective is to systematically identify, harmonise, and validate high-frequency data sources as proxies for real-time tracking of consumer expenditure in the United States. The goal is to refine these proxies to provide more immediate data on consumer spending habits, thus bridging the gap caused by the delayed reporting of official GDP figures.\n",
    "\n",
    "#### Key Questions:\n",
    "\n",
    "- Which high-frequency data sources can serve as accurate proxies for consumer spending?\n",
    "- How can we validate these proxies against established measures of consumer expenditure?\n",
    "- What techniques can we employ to ensure these proxies offer immediate and reliable insights into current consumer spending trends?\n",
    "- How will we address potential discrepancies between different data sources in terms of scale, units, or reporting standards?\n",
    "- Are there any unforeseen challenges in harmonizing data frequencies (monthly vs. quarterly) that could impact the accuracy of our analysis?\n",
    "- How can we ensure the economic relevance of our findings, beyond statistical correlations?\n",
    "- What contingency plans do we have for dealing with data anomalies or irregularities that might skew our analysis?\n",
    "\n",
    "#### 1.3. Methodology\n",
    "\n",
    "The methodology is designed to focus on data preparation and validation:\n",
    "\n",
    "- **Exploratory Data Analysis (EDA)**: To understand the characteristics and quality of the high-frequency monthly indicators and their initial relationships to consumer spending.\n",
    "- **Data Harmonization**: To transform and align the monthly indicators with the quarterly GDP data, using log transformations and adjustments for seasonality and rate of change.\n",
    "- **Proxy Validation**: To establish a correlation with established measures of consumer spending through statistical analysis, ensuring that the proxies are reliable and relevant.\n",
    "\n",
    "#### 1.4. Assumptions\n",
    "\n",
    "**Data Quality and Relevance:** We operate under the assumption that the high-frequency data from FRED and other sources accurately reflect current economic trends and consumer sentiments. However, there is an inherent risk of data bias or inaccuracy, which could impact the reliability of our findings.\n",
    "\n",
    "**Predictive Power and Relevance:** While we aim to identify effective proxies for consumer expenditure, there's a risk that these proxies may not fully capture the complexities of consumer behaviour or may not adapt swiftly to sudden economic shifts.\n",
    "\n",
    "**External Factors:** The project also assumes a stable economic environment. Sudden external shocks (like global events or policy changes) could significantly affect consumer behaviour, potentially reducing the predictive accuracy of our proxies.  \n",
    "\n"
   ]
  },
  {
   "cell_type": "markdown",
   "metadata": {},
   "source": [
    "#### 2. Primary Dataset Description\n",
    "\n",
    "**Short Description:** The primary dataset is \"Table 1.1.5. Gross Domestic Product\" from the U.S. Bureau of Economic Analysis. It comprises seasonally adjusted quarterly U.S. Gross Domestic Product (GDP) rates in billions of dollars.\n",
    "\n",
    "**Relevance:** The dataset's detailed information on U.S. GDP over several years is integral to the project's goal of nowcasting consumption. The data's granularity and time-series nature will allow for comprehensive analysis and identification of trends, making it pivotal for the project's success.\n",
    "\n",
    "**Data frequency:** The data reflecting the economic output of the United States is crucial for analyzing economic trends and growth patterns. The presentation of data is done quarterly by the GDP component.\n",
    "\n",
    "**Location:** Available at [U.S. Bureau of Economic Analysis](https://apps.bea.gov/iTable/?reqid=19&step=2&isuri=1&categories=survey&_gl=1*j1lvlb*_ga*MTk0MDMyMjk0MC4xNzA1NDk1NTk4*_ga_J4698JNNFT*MTcwNTQ5NTU5OC4xLjEuMTcwNTQ5NzA2MC42MC4wLjA.#eyJhcHBpZCI6MTksInN0ZXBzIjpbMSwyLDMsM10sImRhdGEiOltbImNhdGVnb3JpZXMiLCJTdXJ2ZXkiXSxbIk5JUEFfVGFibGVfTGlzdCIsIjUiXSxbIkZpcnN0X1llYXIiLCIxOTQ3Il0sWyJMYXN0X1llYXIiLCIyMDIzIl0sWyJTY2FsZSIsIi05Il0sWyJTZXJpZXMiLCJRIl1dfQ==). ([BEA](https://apps.bea.gov/iTable/?reqid=19&step=2&isuri=1&categories=survey&_gl=1*j1lvlb*_ga*MTk0MDMyMjk0MC4xNzA1NDk1NTk4*_ga_J4698JNNFT*MTcwNTQ5NTU5OC4xLjEuMTcwNTQ5NzA2MC42MC4wLjA.#eyJhcHBpZCI6MTksInN0ZXBzIjpbMSwyLDMsM10sImRhdGEiOltbImNhdGVnb3JpZXMiLCJTdXJ2ZXkiXSxbIk5JUEFfVGFibGVfTGlzdCIsIjUiXSxbIkZpcnN0X1llYXIiLCIxOTQ3Il0sWyJMYXN0X1llYXIiLCIyMDIzIl0sWyJTY2FsZSIsIi05Il0sWyJTZXJpZXMiLCJRIl1dfQ==))\n",
    "\n",
    "**Format:** CSV\n",
    "\n",
    "**Access Method:** The dataset is readily available and can be easily accessed and downloaded directly from the U.S. Bureau of Economic Analysis website.\n"
   ]
  },
  {
   "cell_type": "markdown",
   "metadata": {},
   "source": [
    "#### 3 Secondary Datasets\n",
    "\n",
    "##### Federal Reserve Economic Data (FRED)\n",
    "\n",
    "**Short Description:** This dataset is sourced from the Federal Reserve Bank of St. Louis's FRED macroeconomic database. It contains a variety of economic data points available at monthly intervals, with a particular focus on US GDP data. The data covers consumer spending indicators, a crucial component of the Gross Domestic Product (GDP).\n",
    "\n",
    "**Relevance**: Complements the primary dataset with additional economic indicators, useful for cross-referencing and correlation analysis.\n",
    "\n",
    "**Data frequency:** The monthly frequency of this dataset provides a more detailed temporal resolution than the primary dataset, which may reveal more immediate economic trends. This granularity will be useful in identifying more immediate proxies for nowcasting.\n",
    "\n",
    "**Estimated Size**: 0.6MB\n",
    "\n",
    "**Location**: https://research.stlouisfed.org/econ/mccracken/fred-databases/\n",
    "\n",
    "**Format**: CSV.\n",
    "\n",
    "**Access Method**: Direct download."
   ]
  },
  {
   "cell_type": "markdown",
   "metadata": {},
   "source": [
    "<div style=\"color:#5F9EA0\">\n",
    "\n",
    "## Setup Environment and import libraries"
   ]
  },
  {
   "cell_type": "code",
   "execution_count": 1,
   "metadata": {},
   "outputs": [],
   "source": [
    "# Activate the virtual environment by running in terminal: \n",
    "# python -m venv myenv\n",
    "# source myenv/bin/activate\n",
    "# ! source /myenv/bin/activate\n",
    "\n",
    "# ------- PIP INSTALLS -------\n",
    "# ! pip install --upgrade pip\n",
    "# ! python3.10 -m pip install --upgrade pip\n",
    "# ! pip install -r requirements.txt\n",
    "\n",
    "# Run the imports file\n",
    "%matplotlib inline"
   ]
  },
  {
   "cell_type": "code",
   "execution_count": 2,
   "metadata": {},
   "outputs": [],
   "source": [
    "# import nbformat\n",
    "# import os\n",
    "\n",
    "# def extract_imports_from_notebook(notebook_path):\n",
    "#     with open(notebook_path, 'r', encoding='utf-8') as file:\n",
    "#         nb = nbformat.read(file, as_version=4)\n",
    "\n",
    "#     imports = set()\n",
    "#     for cell in nb['cells']:\n",
    "#         if cell['cell_type'] == 'code':\n",
    "#             lines = cell['source'].split('\\n')\n",
    "#             for line in lines:\n",
    "#                 if line.startswith('import ') or line.startswith('from '):\n",
    "#                     imports.add(line.split()[1].split('.')[0])\n",
    "\n",
    "#     return imports\n",
    "\n",
    "# # Path to Jupyter notebook\n",
    "# notebook_path = './M1_NowCasting_Consumer_Exp.ipynb'\n",
    "# imports = extract_imports_from_notebook(notebook_path)\n",
    "\n",
    "# # Print out the unique imports\n",
    "# print(\"Libraries to install:\")\n",
    "# for lib in imports:\n",
    "#     print(lib)\n"
   ]
  },
  {
   "cell_type": "code",
   "execution_count": 3,
   "metadata": {},
   "outputs": [],
   "source": [
    "# ------- Standard Library Imports -------\n",
    "import os\n",
    "import json\n",
    "import re\n",
    "import textwrap\n",
    "import types\n",
    "import warnings\n",
    "import subprocess\n",
    "import base64\n",
    "import math\n",
    "import statistics\n",
    "from datetime import datetime\n",
    "from pprint import pprint\n",
    "from typing import List\n",
    "\n",
    "# ------- Third-Party Library Imports -------\n",
    "# Data handling and numerical operations\n",
    "import pandas as pd\n",
    "from pandas import NaT\n",
    "import numpy as np\n",
    "\n",
    "# File handling and environment\n",
    "import pyodbc\n",
    "\n",
    "# Utility and display modules\n",
    "from IPython.display import display, HTML\n",
    "\n",
    "# Visualizations\n",
    "import matplotlib.pyplot as plt\n",
    "import seaborn as sns\n",
    "\n",
    "# Remove warnings\n",
    "warnings.filterwarnings('ignore')\n",
    "\n",
    "# Set the display options\n",
    "# pd.set_option('display.max_rows', None)  \n",
    "# pd.set_option('display.max_columns', None)  \n",
    "# pd.set_option('display.width', None)  \n",
    "# pd.set_option('display.max_colwidth', None)  "
   ]
  },
  {
   "cell_type": "markdown",
   "metadata": {},
   "source": [
    "<div style=\"color:#5F9EA0;\">\n",
    "\n",
    "## Load and Pre Process BEAU Quarterly GDP dataset"
   ]
  },
  {
   "cell_type": "markdown",
   "metadata": {},
   "source": [
    "**Loads and preprocesses** the GDP data from a CSV file. Process a DataFrame to create a structured description column.\n",
    "\n",
    "**Handling Missing Values**: Utilize median imputation for missing values, as it's less influenced by outliers and provides a more representative central tendency.\n",
    "\n",
    "**Outliers and Anomalies**: Apply Interquartile Range (IQR) or Z-score analysis to identify and address outliers. This step ensures the integrity of data by minimizing the impact of extreme values.\n",
    "\n",
    "**Data Type Standardization**: Use Python's Pandas library to standardise data formats and types across datasets. This step is crucial to ensure consistency, particularly when dealing with various formats like percentages, counts, and currencies."
   ]
  },
  {
   "cell_type": "code",
   "execution_count": 4,
   "metadata": {},
   "outputs": [],
   "source": [
    "def load_and_preprocess_gdp_data(file_path):\n",
    "    \"\"\"\n",
    "    Loads and preprocesses the GDP data from a CSV file.\n",
    "    Args:file_path (str): The path to the CSV file containing GDP data.\n",
    "    Returns:pandas.DataFrame: Preprocessed GDP data.\n",
    "    \"\"\"\n",
    "\n",
    "    # Load the data with specified rows to skip and number of rows to read\n",
    "    pce_df = pd.read_csv(file_path, skiprows=3, nrows=28)\n",
    "\n",
    "    # Drop the first column (unnecessary or identifier column)\n",
    "    pce_df.drop(pce_df.columns[0], axis=1, inplace=True)\n",
    "\n",
    "    # Rename the first column as 'description'\n",
    "    pce_df.rename(columns={pce_df.columns[0]: 'description'}, inplace=True)\n",
    "\n",
    "    # Remove any characters after (and including) the \".\" in column names\n",
    "    pce_df.columns = pce_df.columns.str.replace(r'\\..*', '', regex=True)\n",
    "\n",
    "    # Concatenate the column names with the first row values, handling NaNs\n",
    "    pce_df.columns = pce_df.columns + \" \" + pce_df.iloc[0].fillna('')\n",
    "\n",
    "    # Drop the first row as it's now part of the column names\n",
    "    pce_df.drop(pce_df.index[0], inplace=True)\n",
    "\n",
    "    # Reset the index of the DataFrame\n",
    "    pce_df.reset_index(drop=True, inplace=True)\n",
    "\n",
    "    # Correct any trailing space issues in the 'description' column name\n",
    "    pce_df.rename(columns=lambda x: x.strip(), inplace=True)\n",
    "\n",
    "    return pce_df\n"
   ]
  },
  {
   "cell_type": "code",
   "execution_count": 5,
   "metadata": {},
   "outputs": [],
   "source": [
    "def create_structured_description(pce_df):\n",
    "    \"\"\"\n",
    "    Process a DataFrame to create a structured description column.\n",
    "    This function takes a DataFrame with a 'description' column and adds structure to it\n",
    "    based on indentation levels, indicating hierarchical relationships.\n",
    "    \"\"\"\n",
    "\n",
    "    # Function to determine the indentation level (number of leading spaces)\n",
    "    def indentation_level(s):\n",
    "        \"\"\"Return the number of leading spaces in a string, indicating the indentation level.\"\"\"\n",
    "        return len(s) - len(s.lstrip())\n",
    "\n",
    "    # Apply the function to find indentation levels\n",
    "    pce_df['indentation'] = pce_df['description'].apply(indentation_level)\n",
    "\n",
    "    # Initialize an empty list to store the new structured names\n",
    "    structured_names = []\n",
    "    current_parent = \"\"\n",
    "    current_subparent = \"\"\n",
    "\n",
    "    # Iterate through the DataFrame to construct the hierarchical names\n",
    "    for index, row in pce_df.iterrows():\n",
    "        if row['indentation'] == 0:\n",
    "            name = row['description'].strip()\n",
    "            current_parent = name\n",
    "        elif row['indentation'] == 4:\n",
    "            name = f\"{current_parent} : {row['description'].strip()}\"\n",
    "            current_subparent = row['description'].strip()\n",
    "        elif row['indentation'] == 8:\n",
    "            name = f\"{current_parent} : {current_subparent} : {row['description'].strip()}\"\n",
    "        else:\n",
    "            name = row['description'].strip()\n",
    "\n",
    "        structured_names.append(name)\n",
    "\n",
    "    # Assigning the structured names to the 'description' column\n",
    "    pce_df['description'] = structured_names\n",
    "\n",
    "    # Dropping the 'indentation' column as it's no longer needed\n",
    "    pce_df.drop('indentation', axis=1, inplace=True)\n",
    "\n",
    "    return pce_df\n"
   ]
  },
  {
   "cell_type": "code",
   "execution_count": 6,
   "metadata": {},
   "outputs": [],
   "source": [
    "\n",
    "def create_short_description(pce_df):\n",
    "    \"\"\"\n",
    "    Create a column 'short_description' in the gdp_df DataFrame with abbreviated descriptions.\n",
    "    Parameters:gdp_df (DataFrame): A DataFrame containing GDP data with a column 'description'.\n",
    "    Returns:DataFrame: The modified DataFrame including a new 'short_description' column.\n",
    "    \"\"\"\n",
    "    def abbreviate_description(desc):\n",
    "\n",
    "        # Define a mapping from full descriptions to their abbreviations\n",
    "        abbreviations = {\n",
    "            \"Gross domestic product\": \"GDP\",\n",
    "            \"Personal consumption expenditures\": \"PCE\",\n",
    "            \"Gross private domestic investment\": \"GPDI\",\n",
    "            \"Net exports of goods and services\": \"NXGS\",\n",
    "            \"Government consumption expenditures and gross investment\": \"GCEGI\",\n",
    "        }\n",
    "\n",
    "        # Split the description into parts and abbreviate each part\n",
    "        parts = desc.split(\" : \")\n",
    "        abbreviated_parts = [abbreviations.get(part, part) for part in parts]\n",
    "\n",
    "        # Join the abbreviated parts and replace spaces with underscores\n",
    "        abrev_descr = \"_\".join(abbreviated_parts).replace(' ', '_')\n",
    "        \n",
    "        # remove all leading \"_\" characters\n",
    "        abrev_descr = abrev_descr.lstrip('_')\n",
    "        \n",
    "        #remove leading and trailing spaces from the description column\n",
    "        abrev_descr = abrev_descr.strip()\n",
    "        \n",
    "        return abrev_descr\n",
    "\n",
    "    # Apply the abbreviation function to each description\n",
    "    pce_df['short_description'] = pce_df['description'].apply(abbreviate_description)\n",
    "    pce_df['description'] = pce_df['description'].str.lstrip(\" :\").str.strip()\n",
    "\n",
    "    # Insert the new column 'short_description' right after the 'description' column\n",
    "    description_index = pce_df.columns.get_loc(\"description\")\n",
    "    pce_df.insert(description_index + 1, 'short_description', pce_df.pop('short_description'))\n",
    "    \n",
    "    #drop the 'description' column\n",
    "    pce_df.drop('description', axis=1, inplace=True)\n",
    "    \n",
    "    #move last row to after 1st row fo readability\n",
    "    last_row = pce_df.iloc[-1].copy()\n",
    "    pce_df = pce_df.iloc[:-1]\n",
    "    pce_df = pd.concat([pce_df.iloc[:1], last_row.to_frame().T, pce_df.iloc[1:]]).reset_index(drop=True)\n",
    "\n",
    "    return pce_df\n"
   ]
  },
  {
   "cell_type": "code",
   "execution_count": 7,
   "metadata": {},
   "outputs": [],
   "source": [
    "def transform_date_formats(pce_df):\n",
    "    # Step 1: Extract only non-date columns\n",
    "    non_date_columns = pce_df.columns[:1]  # Assuming first column is non-date column\n",
    "\n",
    "    # Step 2: Extract and transform date columns\n",
    "    date_columns = pce_df.columns[1:]  # Date columns start from the 2nd column\n",
    "\n",
    "    # Function to convert quarter to last date of the quarter\n",
    "    def quarter_to_date(q):\n",
    "        year, quarter = q.split(' Q')\n",
    "        year = int(year)\n",
    "        if quarter == '1':\n",
    "            return f\"{year}-03-31\"\n",
    "        elif quarter == '2':\n",
    "            return f\"{year}-06-30\"\n",
    "        elif quarter == '3':\n",
    "            return f\"{year}-09-30\"\n",
    "        elif quarter == '4':\n",
    "            return f\"{year}-12-31\"\n",
    "\n",
    "    # Apply this function to each of the date columns\n",
    "    transformed_date_columns = [quarter_to_date(col) for col in date_columns]\n",
    "\n",
    "    # Step 3: Combine the columns back together\n",
    "    pce_df.columns = list(non_date_columns) + transformed_date_columns\n",
    "\n",
    "    # Transpose the dataset for easier manipulation (columns become rows)\n",
    "    pce_df = pce_df.set_index('short_description').transpose()\n",
    "\n",
    "    # Converting the index to datetime\n",
    "    pce_df.index = pd.to_datetime(pce_df.index)\n",
    "\n",
    "    pce_df.index.freq = 'Q'\n",
    "\n",
    "    # Convert all columns to numeric\n",
    "    for col in pce_df.columns:\n",
    "        pce_df[col] = pd.to_numeric(pce_df[col], errors='coerce')\n",
    "\n",
    "    return pce_df\n"
   ]
  },
  {
   "cell_type": "code",
   "execution_count": 8,
   "metadata": {},
   "outputs": [],
   "source": [
    "file_path = './data/bea/bea_usgdp.csv'\n",
    "pce_df = load_and_preprocess_gdp_data(file_path)\n",
    "\n",
    "pce_df = create_structured_description(pce_df)\n",
    "pce_df = create_short_description(pce_df)\n",
    "\n",
    "# extract only PCE data\n",
    "pce_df = pce_df[pce_df['short_description'].str.contains('PCE')]\n",
    "\n",
    "# Call the function with your DataFrame\n",
    "pce_df = transform_date_formats(pce_df)\n",
    "\n",
    "pce_df.to_csv('bea_pce.csv')"
   ]
  },
  {
   "cell_type": "code",
   "execution_count": 9,
   "metadata": {},
   "outputs": [],
   "source": [
    "# Corrected function without the unnecessary to_timestamp() conversion\n",
    "def plot_time_series_with_iqr_and_extended_range_subplot(df, ax, column):\n",
    "    # Use the index as it is already in datetime format\n",
    "    datetime_index = df.index\n",
    "\n",
    "    # Calculate statistics\n",
    "    median = df[column].median()\n",
    "    std = df[column].std()\n",
    "    Q1 = df[column].quantile(0.25)\n",
    "    Q3 = df[column].quantile(0.75)\n",
    "    IQR = Q3 - Q1\n",
    "    lower_whisker = median - 2.698 * std\n",
    "    upper_whisker = median + 2.698 * std\n",
    "    \n",
    "    # Plot the time series line graph\n",
    "    ax.plot(datetime_index, df[column], marker='o', markersize=3, color='black', linewidth=1, label='PCE')\n",
    "\n",
    "    # Shade the IQR\n",
    "    ax.fill_between(datetime_index, Q1, Q3, color='grey', alpha=0.4, label='IQR')\n",
    "    \n",
    "    # Shade the extended range\n",
    "    ax.fill_between(datetime_index, lower_whisker, upper_whisker, color='lightgrey', alpha=0.3, label='Extended Range')\n",
    "    \n",
    "    # Mark potential outliers\n",
    "    outliers = df[column][(df[column] < lower_whisker) | (df[column] > upper_whisker)]\n",
    "    ax.scatter(outliers.index, outliers, color='red', zorder=5, label='Outliers')\n",
    "\n",
    "    # Add median line\n",
    "    ax.axhline(median, color='darkgreen', linestyle='--', linewidth=1.0, label='Median')\n",
    "    \n",
    "    # Add upper and lower whiskers lines\n",
    "    ax.axhline(upper_whisker, color='grey', linestyle='--', linewidth=1, label='Upper Whisker')\n",
    "    ax.axhline(lower_whisker, color='grey', linestyle='--', linewidth=1, label='Lower Whisker')\n",
    "\n",
    "    # Add labels and legend\n",
    "    ax.set_xlabel('Time')\n",
    "    ax.set_ylabel(column)\n",
    "    ax.set_title(f'{column}')\n",
    "    ax.legend(bbox_to_anchor=(1.05, 1), loc='upper left')\n",
    "    ax.grid(False)\n",
    "    \n",
    "def plot_stacked_area_chart(data, ax):\n",
    "    # Plotting the stacked area chart for specified columns\n",
    "    ax.stackplot(data.index, data['PCE_Goods_Durable_goods'], data['PCE_Goods_Nondurable_goods'], data['PCE_Services'], \n",
    "                 labels=['PCE_Goods_Durable_goods', 'PCE_Goods_Nondurable_goods', 'PCE_Services'], \n",
    "                 alpha=0.5)\n",
    "\n",
    "    # Add labels and legend\n",
    "    ax.set_xlabel('Time')\n",
    "    ax.set_ylabel('Expenditure')\n",
    "    ax.set_title('Stacked Area Chart of PCE Components')\n",
    "    ax.legend(loc='upper left')\n",
    "    ax.grid(False)\n"
   ]
  },
  {
   "cell_type": "markdown",
   "metadata": {},
   "source": [
    "The rate of change is typically calculated as \n",
    "(\n",
    "Current Value\n",
    "−\n",
    "Previous Value\n",
    "Previous Value\n",
    ")\n",
    "×\n",
    "100\n",
    "%\n",
    "( \n",
    "Previous Value\n",
    "Current Value−Previous Value\n",
    "​\t\n",
    " )×100%, which can be easily computed using the pct_change() function in pandas, and then multiplying by 100 to convert it to a percentage."
   ]
  },
  {
   "cell_type": "code",
   "execution_count": 10,
   "metadata": {},
   "outputs": [
    {
     "data": {
      "image/png": "[encoded data removed]",
      "text/plain": [
       "<Figure size 1400x500 with 2 Axes>"
      ]
     },
     "metadata": {},
     "output_type": "display_data"
    },
    {
     "data": {
      "image/png": "[encoded data removed]",
      "text/plain": [
       "<Figure size 1800x500 with 3 Axes>"
      ]
     },
     "metadata": {},
     "output_type": "display_data"
    },
    {
     "data": {
      "text/html": [
       "<div>\n",
       "<style scoped>\n",
       "    .dataframe tbody tr th:only-of-type {\n",
       "        vertical-align: middle;\n",
       "    }\n",
       "\n",
       "    .dataframe tbody tr th {\n",
       "        vertical-align: top;\n",
       "    }\n",
       "\n",
       "    .dataframe thead th {\n",
       "        text-align: right;\n",
       "    }\n",
       "</style>\n",
       "<table border=\"1\" class=\"dataframe\">\n",
       "  <thead>\n",
       "    <tr style=\"text-align: right;\">\n",
       "      <th>short_description</th>\n",
       "      <th>PCE</th>\n",
       "      <th>PCE_Goods_Durable_goods</th>\n",
       "      <th>PCE_Goods_Nondurable_goods</th>\n",
       "      <th>PCE_Services</th>\n",
       "    </tr>\n",
       "    <tr>\n",
       "      <th>short_description</th>\n",
       "      <th></th>\n",
       "      <th></th>\n",
       "      <th></th>\n",
       "      <th></th>\n",
       "    </tr>\n",
       "  </thead>\n",
       "  <tbody>\n",
       "    <tr>\n",
       "      <th>PCE</th>\n",
       "      <td>1.000000</td>\n",
       "      <td>0.991587</td>\n",
       "      <td>0.998508</td>\n",
       "      <td>0.999515</td>\n",
       "    </tr>\n",
       "    <tr>\n",
       "      <th>PCE_Goods_Durable_goods</th>\n",
       "      <td>0.991587</td>\n",
       "      <td>1.000000</td>\n",
       "      <td>0.992201</td>\n",
       "      <td>0.987662</td>\n",
       "    </tr>\n",
       "    <tr>\n",
       "      <th>PCE_Goods_Nondurable_goods</th>\n",
       "      <td>0.998508</td>\n",
       "      <td>0.992201</td>\n",
       "      <td>1.000000</td>\n",
       "      <td>0.996748</td>\n",
       "    </tr>\n",
       "    <tr>\n",
       "      <th>PCE_Services</th>\n",
       "      <td>0.999515</td>\n",
       "      <td>0.987662</td>\n",
       "      <td>0.996748</td>\n",
       "      <td>1.000000</td>\n",
       "    </tr>\n",
       "  </tbody>\n",
       "</table>\n",
       "</div>"
      ],
      "text/plain": [
       "short_description                PCE  PCE_Goods_Durable_goods  \\\n",
       "short_description                                               \n",
       "PCE                         1.000000                 0.991587   \n",
       "PCE_Goods_Durable_goods     0.991587                 1.000000   \n",
       "PCE_Goods_Nondurable_goods  0.998508                 0.992201   \n",
       "PCE_Services                0.999515                 0.987662   \n",
       "\n",
       "short_description           PCE_Goods_Nondurable_goods  PCE_Services  \n",
       "short_description                                                     \n",
       "PCE                                           0.998508      0.999515  \n",
       "PCE_Goods_Durable_goods                       0.992201      0.987662  \n",
       "PCE_Goods_Nondurable_goods                    1.000000      0.996748  \n",
       "PCE_Services                                  0.996748      1.000000  "
      ]
     },
     "execution_count": 10,
     "metadata": {},
     "output_type": "execute_result"
    }
   ],
   "source": [
    "# Calculate the rate of change for each column\n",
    "pce_real_growth = pce_df.pct_change().dropna() * 100\n",
    "\n",
    "# Selecting the relevant columns for correlation\n",
    "columns_for_correlation = ['PCE', 'PCE_Goods_Durable_goods', 'PCE_Goods_Nondurable_goods', 'PCE_Services']\n",
    "correlation_data = pce_df[columns_for_correlation]\n",
    "\n",
    "# Plot stacked area chart and time series with IQR and extended range\n",
    "fig, axs = plt.subplots(1, 2, figsize=(14, 5))\n",
    "fig.tight_layout(pad=4.0)\n",
    "plot_stacked_area_chart(pce_df, axs[0])\n",
    "plot_time_series_with_iqr_and_extended_range_subplot(pce_real_growth, axs[1], 'PCE')\n",
    "axs[1].set_title('Rate of Change for PCE')\n",
    "plt.show()\n",
    "\n",
    "# Plot scatter plots with regression lines\n",
    "fig, axs = plt.subplots(1, 3, figsize=(18, 5))\n",
    "components = ['PCE_Goods_Durable_goods', 'PCE_Goods_Nondurable_goods', 'PCE_Services']\n",
    "for i, component in enumerate(components):\n",
    "    sns.regplot(x=component, y='PCE', data=correlation_data, ax=axs[i])\n",
    "    axs[i].set_title(f'Scatter Plot of {component} vs PCE')\n",
    "    axs[i].set_xlabel(component)\n",
    "    axs[i].set_ylabel('PCE')\n",
    "plt.tight_layout()\n",
    "plt.show()\n",
    "\n",
    "# Display the correlation matrix\n",
    "correlation_matrix = correlation_data.corr()\n",
    "correlation_matrix"
   ]
  },
  {
   "cell_type": "markdown",
   "metadata": {},
   "source": [
    "**Interpretation of Scatter Plots with Regression Lines:**\n",
    "\n",
    "Scatter plots with regression lines for each component ('PCE_Goods_Durable_goods', 'PCE_Goods_Nondurable_goods', 'PCE_Services') against 'PCE' illustrate the linear relationships between these components and the total PCE. The regression lines provide a visual indicator of the direction, strength, and linearity of these relationships.\n",
    "\n",
    "**Interpretation of the Correlation Matrix:**\n",
    "\n",
    "The correlation matrix, particularly its visualization through the heatmap, shows the Pearson correlation coefficients between 'PCE' and its components. The coefficients near 1 indicate a very strong positive linear relationship. Specifically:"
   ]
  },
  {
   "cell_type": "code",
   "execution_count": 11,
   "metadata": {},
   "outputs": [
    {
     "name": "stdout",
     "output_type": "stream",
     "text": [
      "No extreme values for PCE\n",
      "No extreme values for PCE_Goods\n",
      "No extreme values for PCE_Goods_Durable_goods\n",
      "No extreme values for PCE_Goods_Nondurable_goods\n",
      "No extreme values for PCE_Services\n"
     ]
    }
   ],
   "source": [
    "def remove_outliers(data):\n",
    "    \"\"\"\n",
    "    Replaces outliers in a DataFrame with NaN based on IQR.\n",
    "    \"\"\"\n",
    "    Q1 = data.quantile(0.25)\n",
    "    Q3 = data.quantile(0.75)\n",
    "    IQR = Q3 - Q1\n",
    "\n",
    "    # Define the mask using the typical IQR criterion\n",
    "    mask = (data < (Q1 - 1.5 * IQR)) | (data > (Q3 + 1.5 * IQR))\n",
    "\n",
    "    # Replace extreme values with NaN and store the corresponding values\n",
    "    extreme_values = {}\n",
    "    for column in data.columns:\n",
    "        extreme_values[column] = data[column][mask[column]].dropna().reset_index()\n",
    "\n",
    "    data[mask] = np.nan\n",
    "    return data, extreme_values\n",
    "\n",
    "# Call the function\n",
    "fred_orig, extreme_values = remove_outliers(pce_df)\n",
    "\n",
    "# Print the column names and values where outliers were found\n",
    "for column, values_df in extreme_values.items():\n",
    "    if not values_df.empty:\n",
    "        print(f\"Extreme values for {column}:\")\n",
    "        print(values_df)\n",
    "    else:\n",
    "        print(f\"No extreme values for {column}\")\n"
   ]
  },
  {
   "cell_type": "code",
   "execution_count": 12,
   "metadata": {},
   "outputs": [
    {
     "data": {
      "text/html": [
       "<div>\n",
       "<style scoped>\n",
       "    .dataframe tbody tr th:only-of-type {\n",
       "        vertical-align: middle;\n",
       "    }\n",
       "\n",
       "    .dataframe tbody tr th {\n",
       "        vertical-align: top;\n",
       "    }\n",
       "\n",
       "    .dataframe thead th {\n",
       "        text-align: right;\n",
       "    }\n",
       "</style>\n",
       "<table border=\"1\" class=\"dataframe\">\n",
       "  <thead>\n",
       "    <tr style=\"text-align: right;\">\n",
       "      <th>short_description</th>\n",
       "      <th>PCE</th>\n",
       "      <th>PCE_Goods</th>\n",
       "      <th>PCE_Goods_Durable_goods</th>\n",
       "      <th>PCE_Goods_Nondurable_goods</th>\n",
       "      <th>PCE_Services</th>\n",
       "    </tr>\n",
       "  </thead>\n",
       "  <tbody>\n",
       "    <tr>\n",
       "      <th>1947-03-31</th>\n",
       "      <td>156.2</td>\n",
       "      <td>95.6</td>\n",
       "      <td>20.7</td>\n",
       "      <td>74.9</td>\n",
       "      <td>60.6</td>\n",
       "    </tr>\n",
       "    <tr>\n",
       "      <th>1947-06-30</th>\n",
       "      <td>160.0</td>\n",
       "      <td>98.2</td>\n",
       "      <td>21.4</td>\n",
       "      <td>76.9</td>\n",
       "      <td>61.8</td>\n",
       "    </tr>\n",
       "    <tr>\n",
       "      <th>1947-09-30</th>\n",
       "      <td>163.5</td>\n",
       "      <td>100.4</td>\n",
       "      <td>21.8</td>\n",
       "      <td>78.6</td>\n",
       "      <td>63.1</td>\n",
       "    </tr>\n",
       "    <tr>\n",
       "      <th>1947-12-31</th>\n",
       "      <td>167.7</td>\n",
       "      <td>103.5</td>\n",
       "      <td>23.5</td>\n",
       "      <td>80.0</td>\n",
       "      <td>64.2</td>\n",
       "    </tr>\n",
       "    <tr>\n",
       "      <th>1948-03-31</th>\n",
       "      <td>170.4</td>\n",
       "      <td>105.1</td>\n",
       "      <td>23.5</td>\n",
       "      <td>81.5</td>\n",
       "      <td>65.3</td>\n",
       "    </tr>\n",
       "  </tbody>\n",
       "</table>\n",
       "</div>"
      ],
      "text/plain": [
       "short_description    PCE  PCE_Goods  PCE_Goods_Durable_goods  \\\n",
       "1947-03-31         156.2       95.6                     20.7   \n",
       "1947-06-30         160.0       98.2                     21.4   \n",
       "1947-09-30         163.5      100.4                     21.8   \n",
       "1947-12-31         167.7      103.5                     23.5   \n",
       "1948-03-31         170.4      105.1                     23.5   \n",
       "\n",
       "short_description  PCE_Goods_Nondurable_goods  PCE_Services  \n",
       "1947-03-31                               74.9          60.6  \n",
       "1947-06-30                               76.9          61.8  \n",
       "1947-09-30                               78.6          63.1  \n",
       "1947-12-31                               80.0          64.2  \n",
       "1948-03-31                               81.5          65.3  "
      ]
     },
     "execution_count": 12,
     "metadata": {},
     "output_type": "execute_result"
    }
   ],
   "source": [
    "pce_df.head()"
   ]
  },
  {
   "cell_type": "markdown",
   "metadata": {},
   "source": [
    "<div style=\"color:#5F9EA0;\">\n",
    "\n",
    "## Load and Pre Process FRED monthly  dataset"
   ]
  },
  {
   "cell_type": "markdown",
   "metadata": {},
   "source": [
    "<div style=\"color:#5F9EA0;\">\n",
    "\n",
    "##### Loading the FRED data"
   ]
  },
  {
   "cell_type": "markdown",
   "metadata": {},
   "source": [
    "The `load_fredmd_data` function, below, performs the following actions, once for the FRED-MD dataset and once for the FRED-QD dataset:\n",
    "\n",
    "1. Based on the `vintage` argument, it downloads a particular vintage of these datasets from the base URL https://files.stlouisfed.org/files/htdocs/fred-md into the `orig_[m|q]` variable.\n",
    "2. Extracts the column describing which transformation to apply into the `transform_[m|q]` (and, for the quarterly dataset, also extracts the column describing which factor an earlier paper assigned each variable to).\n",
    "3. Extracts the observation date (from the \"sasdate\" column) and uses it as the index of the dataset.\n",
    "4. Applies the transformations from step (2).\n",
    "5. Removes outliers for the period 1959-01 through 2019-12."
   ]
  },
  {
   "cell_type": "code",
   "execution_count": 13,
   "metadata": {},
   "outputs": [],
   "source": [
    "def load_fredmd_data(vintage):\n",
    "    \"\"\"\n",
    "    Loads and processes the FRED-MD data.\n",
    "    \"\"\"\n",
    "    # Define the base URL for the FRED-MD dataset\n",
    "    base_url = 'https://files.stlouisfed.org/files/htdocs/fred-md'\n",
    "\n",
    "    # Load the dataset for the specified 'vintage', dropping rows that are entirely NA\n",
    "    fred_orig = pd.read_csv(f'{base_url}/monthly/{vintage}.csv').dropna(how='all')\n",
    "\n",
    "    # Extract transformation codes (second column onwards) from the first row\n",
    "    transform_info = fred_orig.iloc[0, 1:]\n",
    "\n",
    "    # Drop the first row (containing transformation info) from the dataset\n",
    "    fred_orig = fred_orig.iloc[1:]\n",
    "\n",
    "    # Convert 'sasdate' column to a PeriodIndex with monthly frequency for time-series analysis\n",
    "    fred_orig.index = pd.PeriodIndex(fred_orig.sasdate.tolist(), freq='M')\n",
    "\n",
    "    # Remove the 'sasdate' column as it's now set as the index\n",
    "    fred_orig.drop('sasdate', axis=1, inplace=True)\n",
    "\n",
    "    # Return the processed data and the transformation information\n",
    "    return fred_orig, transform_info\n",
    "\n",
    "# Load data for the current vintage and unpack into original data and transformation info\n",
    "fred_orig, transform_info = load_fredmd_data(\"current\")\n"
   ]
  },
  {
   "cell_type": "code",
   "execution_count": 14,
   "metadata": {},
   "outputs": [
    {
     "data": {
      "text/html": [
       "<div>\n",
       "<style scoped>\n",
       "    .dataframe tbody tr th:only-of-type {\n",
       "        vertical-align: middle;\n",
       "    }\n",
       "\n",
       "    .dataframe tbody tr th {\n",
       "        vertical-align: top;\n",
       "    }\n",
       "\n",
       "    .dataframe thead th {\n",
       "        text-align: right;\n",
       "    }\n",
       "</style>\n",
       "<table border=\"1\" class=\"dataframe\">\n",
       "  <thead>\n",
       "    <tr style=\"text-align: right;\">\n",
       "      <th></th>\n",
       "      <th>RPI</th>\n",
       "      <th>W875RX1</th>\n",
       "      <th>DPCERA3M086SBEA</th>\n",
       "      <th>CMRMTSPLx</th>\n",
       "      <th>RETAILx</th>\n",
       "      <th>INDPRO</th>\n",
       "      <th>IPFPNSS</th>\n",
       "      <th>IPFINAL</th>\n",
       "      <th>IPCONGD</th>\n",
       "      <th>IPDCONGD</th>\n",
       "      <th>...</th>\n",
       "      <th>DNDGRG3M086SBEA</th>\n",
       "      <th>DSERRG3M086SBEA</th>\n",
       "      <th>CES0600000008</th>\n",
       "      <th>CES2000000008</th>\n",
       "      <th>CES3000000008</th>\n",
       "      <th>UMCSENTx</th>\n",
       "      <th>DTCOLNVHFNM</th>\n",
       "      <th>DTCTHFNM</th>\n",
       "      <th>INVEST</th>\n",
       "      <th>VIXCLSx</th>\n",
       "    </tr>\n",
       "  </thead>\n",
       "  <tbody>\n",
       "    <tr>\n",
       "      <th>1959-01</th>\n",
       "      <td>2583.560</td>\n",
       "      <td>2426.0</td>\n",
       "      <td>15.188</td>\n",
       "      <td>276676.8154</td>\n",
       "      <td>18235.77392</td>\n",
       "      <td>21.9665</td>\n",
       "      <td>23.3891</td>\n",
       "      <td>22.2688</td>\n",
       "      <td>31.7011</td>\n",
       "      <td>19.0149</td>\n",
       "      <td>...</td>\n",
       "      <td>18.294</td>\n",
       "      <td>10.152</td>\n",
       "      <td>2.13</td>\n",
       "      <td>2.45</td>\n",
       "      <td>2.04</td>\n",
       "      <td>NaN</td>\n",
       "      <td>6476.0</td>\n",
       "      <td>12298.0</td>\n",
       "      <td>84.2043</td>\n",
       "      <td>NaN</td>\n",
       "    </tr>\n",
       "    <tr>\n",
       "      <th>1959-02</th>\n",
       "      <td>2593.596</td>\n",
       "      <td>2434.8</td>\n",
       "      <td>15.346</td>\n",
       "      <td>278713.9773</td>\n",
       "      <td>18369.56308</td>\n",
       "      <td>22.3966</td>\n",
       "      <td>23.7048</td>\n",
       "      <td>22.4617</td>\n",
       "      <td>31.9337</td>\n",
       "      <td>19.1147</td>\n",
       "      <td>...</td>\n",
       "      <td>18.302</td>\n",
       "      <td>10.167</td>\n",
       "      <td>2.14</td>\n",
       "      <td>2.46</td>\n",
       "      <td>2.05</td>\n",
       "      <td>NaN</td>\n",
       "      <td>6476.0</td>\n",
       "      <td>12298.0</td>\n",
       "      <td>83.5280</td>\n",
       "      <td>NaN</td>\n",
       "    </tr>\n",
       "  </tbody>\n",
       "</table>\n",
       "<p>2 rows × 127 columns</p>\n",
       "</div>"
      ],
      "text/plain": [
       "              RPI  W875RX1  DPCERA3M086SBEA    CMRMTSPLx      RETAILx  \\\n",
       "1959-01  2583.560   2426.0           15.188  276676.8154  18235.77392   \n",
       "1959-02  2593.596   2434.8           15.346  278713.9773  18369.56308   \n",
       "\n",
       "          INDPRO  IPFPNSS  IPFINAL  IPCONGD  IPDCONGD  ...  DNDGRG3M086SBEA  \\\n",
       "1959-01  21.9665  23.3891  22.2688  31.7011   19.0149  ...           18.294   \n",
       "1959-02  22.3966  23.7048  22.4617  31.9337   19.1147  ...           18.302   \n",
       "\n",
       "         DSERRG3M086SBEA  CES0600000008  CES2000000008  CES3000000008  \\\n",
       "1959-01           10.152           2.13           2.45           2.04   \n",
       "1959-02           10.167           2.14           2.46           2.05   \n",
       "\n",
       "         UMCSENTx  DTCOLNVHFNM  DTCTHFNM   INVEST  VIXCLSx  \n",
       "1959-01       NaN       6476.0   12298.0  84.2043      NaN  \n",
       "1959-02       NaN       6476.0   12298.0  83.5280      NaN  \n",
       "\n",
       "[2 rows x 127 columns]"
      ]
     },
     "execution_count": 14,
     "metadata": {},
     "output_type": "execute_result"
    }
   ],
   "source": [
    "fred_orig.head(2)"
   ]
  },
  {
   "cell_type": "markdown",
   "metadata": {},
   "source": [
    "<div style=\"color:#5F9EA0;padding: 5px;\">\n",
    "\n",
    "##### Mapping FRED indices to Economic Data groups"
   ]
  },
  {
   "cell_type": "markdown",
   "metadata": {},
   "source": [
    "In this section, we import and organize the definitions of economic variables. \n",
    "These definitions are loaded from CSV files corresponding to the FRED-MD and FRED-QD databases. \n",
    "This process ensures that we have a clear and concise understanding of each economic variable in our dataset, which is essential for accurate analysis and interpretation of the data."
   ]
  },
  {
   "cell_type": "code",
   "execution_count": 15,
   "metadata": {},
   "outputs": [],
   "source": [
    "# Function for Column Name Mapping\n",
    "def map_column_names(data, defn_file):\n",
    "    \"\"\"\n",
    "    Maps FRED-MD column names to their descriptions.\n",
    "    \"\"\"\n",
    "    # Load the definitions file, ignoring encoding errors\n",
    "    defn = pd.read_csv(defn_file, encoding_errors='ignore')\n",
    "\n",
    "    # Set the 'fred' column as the index of the definitions DataFrame\n",
    "    defn.index = defn.fred\n",
    "\n",
    "    # Filter the definitions to include only those variables present in the data columns\n",
    "    defn = defn.loc[data.columns.intersection(defn.fred), :]\n",
    "\n",
    "    # Create a dictionary mapping FRED-MD variable names to their descriptions\n",
    "    map_dict = defn['description'].to_dict()\n",
    "\n",
    "    # Replace the names of columns in the dataset with the descriptions from the map\n",
    "    return data[map_dict.keys()].rename(columns=map_dict),defn\n",
    "\n",
    "# Map column names for fred_original \n",
    "column_defn_file = './data/FRED/FRED_Definitions_Mapping/fredmd_definitions.csv'\n",
    "fred_orig,defn = map_column_names(fred_orig, column_defn_file)"
   ]
  },
  {
   "cell_type": "code",
   "execution_count": 45,
   "metadata": {},
   "outputs": [],
   "source": [
    "# fred_orig.head(2)\n",
    "# defn[[\"description\",\"group\"]]"
   ]
  },
  {
   "cell_type": "markdown",
   "metadata": {},
   "source": [
    "Below, we get the groups for each series from the definition files above, and then show how many of the series that we'll be using fall into each of the groups.\n",
    "\n",
    "We'll also re-order the series by group, to make it easier to interpret the results.\n",
    "\n",
    "Since we're including the quarterly real GDP variable in our analysis, we need to assign it to one of the groups in the monthly dataset. It fits best in the \"Output and income\" group."
   ]
  },
  {
   "cell_type": "code",
   "execution_count": 18,
   "metadata": {},
   "outputs": [
    {
     "data": {
      "text/html": [
       "<div>\n",
       "<style scoped>\n",
       "    .dataframe tbody tr th:only-of-type {\n",
       "        vertical-align: middle;\n",
       "    }\n",
       "\n",
       "    .dataframe tbody tr th {\n",
       "        vertical-align: top;\n",
       "    }\n",
       "\n",
       "    .dataframe thead th {\n",
       "        text-align: right;\n",
       "    }\n",
       "</style>\n",
       "<table border=\"1\" class=\"dataframe\">\n",
       "  <thead>\n",
       "    <tr style=\"text-align: right;\">\n",
       "      <th></th>\n",
       "      <th># series in group</th>\n",
       "    </tr>\n",
       "    <tr>\n",
       "      <th>group</th>\n",
       "      <th></th>\n",
       "    </tr>\n",
       "  </thead>\n",
       "  <tbody>\n",
       "    <tr>\n",
       "      <th>Output and Income</th>\n",
       "      <td>15</td>\n",
       "    </tr>\n",
       "    <tr>\n",
       "      <th>Consumption, Orders, and Inventories</th>\n",
       "      <td>10</td>\n",
       "    </tr>\n",
       "    <tr>\n",
       "      <th>Labor Market</th>\n",
       "      <td>31</td>\n",
       "    </tr>\n",
       "    <tr>\n",
       "      <th>Housing</th>\n",
       "      <td>10</td>\n",
       "    </tr>\n",
       "    <tr>\n",
       "      <th>Money and Credit</th>\n",
       "      <td>12</td>\n",
       "    </tr>\n",
       "    <tr>\n",
       "      <th>Stock Market</th>\n",
       "      <td>4</td>\n",
       "    </tr>\n",
       "    <tr>\n",
       "      <th>Interest and Exchange Rates</th>\n",
       "      <td>21</td>\n",
       "    </tr>\n",
       "    <tr>\n",
       "      <th>Prices</th>\n",
       "      <td>20</td>\n",
       "    </tr>\n",
       "  </tbody>\n",
       "</table>\n",
       "</div>"
      ],
      "text/plain": [
       "                                      # series in group\n",
       "group                                                  \n",
       "Output and Income                                    15\n",
       "Consumption, Orders, and Inventories                 10\n",
       "Labor Market                                         31\n",
       "Housing                                              10\n",
       "Money and Credit                                     12\n",
       "Stock Market                                          4\n",
       "Interest and Exchange Rates                          21\n",
       "Prices                                               20"
      ]
     },
     "execution_count": 18,
     "metadata": {},
     "output_type": "execute_result"
    }
   ],
   "source": [
    "# Get the mapping of variable id to group name, for monthly variables\n",
    "groups = defn[['description', 'group']].copy()\n",
    "\n",
    "# Display the number of variables in each group\n",
    "(groups.groupby('group', sort=False)\n",
    "       .count()\n",
    "       .rename({'description': '# series in group'}, axis=1))"
   ]
  },
  {
   "cell_type": "markdown",
   "metadata": {},
   "source": [
    "<div style=\"color:#5F9EA0\">\n",
    "\n",
    "#### Remove Outliers\n",
    "</div>\n",
    "\n",
    "- Outliers are defined as observations that deviate significantly from the series mean, specifically those that are more than 10 times the interquartile range (IQR) away from the mean.\n",
    "- To carry out this outlier removal, we've created a function named `remove_outliers`. This function identifies extreme values and replaces them with NaN (missing values). It also keeps track of the year in which each extreme value was removed."
   ]
  },
  {
   "cell_type": "code",
   "execution_count": 44,
   "metadata": {},
   "outputs": [
    {
     "name": "stdout",
     "output_type": "stream",
     "text": [
      "'Extreme values for Total Reserves of Depository Institutions:'\n",
      "     index  Total Reserves of Depository Institutions\n",
      "0  2008-10                                      314.8\n",
      "1  2008-11                                      609.1\n",
      "2  2008-12                                      820.9\n",
      "3  2009-02                                      701.0\n",
      "4  2009-03                                      778.1\n",
      "5  2009-06                                      809.7\n",
      "6  2009-07                                      796.5\n",
      "'Extreme values for Reserves Of Depository Institutions:'\n",
      "      index  Reserves Of Depository Institutions\n",
      "0   2008-06                            -125500.0\n",
      "1   2008-08                            -122300.0\n",
      "2   2008-09                            -187200.0\n",
      "3   2008-10                            -333500.0\n",
      "4   2008-12                             167300.0\n",
      "5   2009-01                             296700.0\n",
      "6   2009-03                             166000.0\n",
      "7   2009-04                             323500.0\n",
      "8   2009-05                             377400.0\n",
      "9   2009-06                             371000.0\n",
      "10  2009-07                             429600.0\n",
      "11  2009-08                             497300.0\n",
      "12  2009-09                             615800.0\n",
      "13  2009-10                             791700.0\n",
      "'Extreme values for 3-Month Commercial Paper Minus FEDFUNDS:'\n",
      "     index  3-Month Commercial Paper Minus FEDFUNDS\n",
      "0  2008-10                                     2.22\n",
      "'Extreme values for 3-Month Treasury C Minus FEDFUNDS:'\n",
      "     index  3-Month Treasury C Minus FEDFUNDS\n",
      "0  2007-11                              -1.22\n",
      "1  2007-12                              -1.24\n",
      "2  2008-01                              -1.19\n",
      "3  2008-03                              -1.35\n"
     ]
    }
   ],
   "source": [
    "def remove_outliers(data):\n",
    "    \"\"\"\n",
    "    Replaces outliers in a DataFrame with NaN based on IQR.\n",
    "    \"\"\"\n",
    "    mean = data.mean()\n",
    "    iqr = data.quantile([0.25, 0.75]).diff().T.iloc[:, 1]\n",
    "\n",
    "    # Create a mask to identify extreme values\n",
    "    mask = np.abs(data) > mean + 10 * iqr\n",
    "\n",
    "    # Replace extreme values with NaN and store the corresponding year\n",
    "    extreme_values = {}\n",
    "    for column in data.columns:\n",
    "        extreme_values[column] = data[column][mask[column]].dropna().reset_index()\n",
    "\n",
    "    data[mask] = np.nan\n",
    "    return data, extreme_values\n",
    "\n",
    "# Call the function\n",
    "fred_orig, extreme_values = remove_outliers(fred_orig) # Remove outliers for a specific period\n",
    "\n",
    "# Print the column names and values where outliers were found\n",
    "for column, values_df in extreme_values.items():\n",
    "    if not values_df.empty:\n",
    "        pprint(f\"Extreme values for {column}:\")\n",
    "        pprint(values_df)\n"
   ]
  },
  {
   "cell_type": "markdown",
   "metadata": {},
   "source": [
    "<div style=\"color:#5F9EA0\">\n",
    "\n",
    "#### Saving Data"
   ]
  },
  {
   "cell_type": "code",
   "execution_count": 43,
   "metadata": {},
   "outputs": [
    {
     "data": {
      "text/html": [
       "<div>\n",
       "<style scoped>\n",
       "    .dataframe tbody tr th:only-of-type {\n",
       "        vertical-align: middle;\n",
       "    }\n",
       "\n",
       "    .dataframe tbody tr th {\n",
       "        vertical-align: top;\n",
       "    }\n",
       "\n",
       "    .dataframe thead th {\n",
       "        text-align: right;\n",
       "    }\n",
       "</style>\n",
       "<table border=\"1\" class=\"dataframe\">\n",
       "  <thead>\n",
       "    <tr style=\"text-align: right;\">\n",
       "      <th></th>\n",
       "      <th>Real Personal Income</th>\n",
       "      <th>Real personal income ex transfer receipts</th>\n",
       "      <th>Real personal consumption expenditures</th>\n",
       "      <th>Real Manu. and Trade Industries Sales</th>\n",
       "      <th>Retail and Food Services Sales</th>\n",
       "      <th>IP Index</th>\n",
       "      <th>IP: Final Products and Nonindustrial Supplies</th>\n",
       "      <th>IP: Final Products (Market Group)</th>\n",
       "      <th>IP: Consumer Goods</th>\n",
       "      <th>IP: Durable Consumer Goods</th>\n",
       "      <th>...</th>\n",
       "      <th>Personal Cons. Exp: Durable goods</th>\n",
       "      <th>Personal Cons. Exp: Nondurable goods</th>\n",
       "      <th>Personal Cons. Exp: Services</th>\n",
       "      <th>Avg Hourly Earnings : Goods-Producing</th>\n",
       "      <th>Avg Hourly Earnings : Construction</th>\n",
       "      <th>Avg Hourly Earnings : Manufacturing</th>\n",
       "      <th>Consumer Sentiment Index</th>\n",
       "      <th>Consumer Motor Vehicle Loans Outstanding</th>\n",
       "      <th>Total Consumer Loans and Leases Outstanding</th>\n",
       "      <th>Securities in Bank Credit at All Commercial Banks</th>\n",
       "    </tr>\n",
       "  </thead>\n",
       "  <tbody>\n",
       "    <tr>\n",
       "      <th>2000-01</th>\n",
       "      <td>11441.669</td>\n",
       "      <td>10000.3</td>\n",
       "      <td>67.481</td>\n",
       "      <td>1069375.0</td>\n",
       "      <td>268044.0</td>\n",
       "      <td>91.4251</td>\n",
       "      <td>99.2881</td>\n",
       "      <td>96.4854</td>\n",
       "      <td>102.5470</td>\n",
       "      <td>99.8811</td>\n",
       "      <td>...</td>\n",
       "      <td>141.202</td>\n",
       "      <td>74.551</td>\n",
       "      <td>64.396</td>\n",
       "      <td>15.01</td>\n",
       "      <td>17.11</td>\n",
       "      <td>14.13</td>\n",
       "      <td>112.0</td>\n",
       "      <td>132467.09</td>\n",
       "      <td>421056.34</td>\n",
       "      <td>1147.2425</td>\n",
       "    </tr>\n",
       "    <tr>\n",
       "      <th>2000-02</th>\n",
       "      <td>11488.814</td>\n",
       "      <td>10045.9</td>\n",
       "      <td>68.116</td>\n",
       "      <td>1050132.0</td>\n",
       "      <td>272020.0</td>\n",
       "      <td>91.7357</td>\n",
       "      <td>99.7716</td>\n",
       "      <td>97.0728</td>\n",
       "      <td>103.3177</td>\n",
       "      <td>99.5130</td>\n",
       "      <td>...</td>\n",
       "      <td>140.810</td>\n",
       "      <td>75.092</td>\n",
       "      <td>64.588</td>\n",
       "      <td>15.06</td>\n",
       "      <td>17.20</td>\n",
       "      <td>14.14</td>\n",
       "      <td>111.3</td>\n",
       "      <td>136610.16</td>\n",
       "      <td>422437.48</td>\n",
       "      <td>1140.6128</td>\n",
       "    </tr>\n",
       "  </tbody>\n",
       "</table>\n",
       "<p>2 rows × 123 columns</p>\n",
       "</div>"
      ],
      "text/plain": [
       "         Real Personal Income  Real personal income ex transfer receipts  \\\n",
       "2000-01             11441.669                                    10000.3   \n",
       "2000-02             11488.814                                    10045.9   \n",
       "\n",
       "         Real personal consumption expenditures  \\\n",
       "2000-01                                  67.481   \n",
       "2000-02                                  68.116   \n",
       "\n",
       "         Real Manu. and Trade Industries Sales  \\\n",
       "2000-01                              1069375.0   \n",
       "2000-02                              1050132.0   \n",
       "\n",
       "         Retail and Food Services Sales  IP Index  \\\n",
       "2000-01                        268044.0   91.4251   \n",
       "2000-02                        272020.0   91.7357   \n",
       "\n",
       "         IP: Final Products and Nonindustrial Supplies  \\\n",
       "2000-01                                        99.2881   \n",
       "2000-02                                        99.7716   \n",
       "\n",
       "         IP: Final Products (Market Group)  IP: Consumer Goods  \\\n",
       "2000-01                            96.4854            102.5470   \n",
       "2000-02                            97.0728            103.3177   \n",
       "\n",
       "         IP: Durable Consumer Goods  ...  Personal Cons. Exp: Durable goods  \\\n",
       "2000-01                     99.8811  ...                            141.202   \n",
       "2000-02                     99.5130  ...                            140.810   \n",
       "\n",
       "         Personal Cons. Exp: Nondurable goods  Personal Cons. Exp: Services  \\\n",
       "2000-01                                74.551                        64.396   \n",
       "2000-02                                75.092                        64.588   \n",
       "\n",
       "         Avg Hourly Earnings : Goods-Producing  \\\n",
       "2000-01                                  15.01   \n",
       "2000-02                                  15.06   \n",
       "\n",
       "         Avg Hourly Earnings : Construction  \\\n",
       "2000-01                               17.11   \n",
       "2000-02                               17.20   \n",
       "\n",
       "         Avg Hourly Earnings : Manufacturing  Consumer Sentiment Index  \\\n",
       "2000-01                                14.13                     112.0   \n",
       "2000-02                                14.14                     111.3   \n",
       "\n",
       "         Consumer Motor Vehicle Loans Outstanding  \\\n",
       "2000-01                                 132467.09   \n",
       "2000-02                                 136610.16   \n",
       "\n",
       "         Total Consumer Loans and Leases Outstanding  \\\n",
       "2000-01                                    421056.34   \n",
       "2000-02                                    422437.48   \n",
       "\n",
       "         Securities in Bank Credit at All Commercial Banks  \n",
       "2000-01                                          1147.2425  \n",
       "2000-02                                          1140.6128  \n",
       "\n",
       "[2 rows x 123 columns]"
      ]
     },
     "execution_count": 43,
     "metadata": {},
     "output_type": "execute_result"
    }
   ],
   "source": [
    "fred_orig.head(2)"
   ]
  },
  {
   "cell_type": "code",
   "execution_count": 22,
   "metadata": {},
   "outputs": [],
   "source": [
    "# Saving Data\n",
    "fred_orig.to_csv(\"./results/monthly.csv\")\n",
    "pce_df.to_csv(\"./results/pce.csv\")"
   ]
  },
  {
   "cell_type": "markdown",
   "metadata": {},
   "source": [
    "<div style=\"color:#5F9EA0\">\n",
    "\n",
    "## Data Harmonization and Transformation"
   ]
  },
  {
   "cell_type": "markdown",
   "metadata": {},
   "source": [
    "<div style=\"color:#5F9EA0\">\n",
    "\n",
    "##### Monthly Rate of Change: \n",
    "\n",
    "</div>\n",
    "- For indices that are better represented through changes (e.g., stock indices, employment rates), calculate the month-over-month rate of change. This helps to highlight immediate shifts in economic activities."
   ]
  },
  {
   "cell_type": "code",
   "execution_count": 23,
   "metadata": {},
   "outputs": [],
   "source": [
    "# Filter the data to include only observations from the year 2000 onwards\n",
    "fred_orig = fred_orig[fred_orig.index.year >= 2000]\n",
    "pce_df = pce_df[pce_df.index.year >= 2000]\n",
    "\n",
    "# Calculate the month-over-month rate of change for the FRED dataset\n",
    "fred_rate_of_change = fred_orig.pct_change()\n",
    "\n",
    "# Calculate the quarter-over-quarter rate of change for the PCE dataset\n",
    "pce_rate_of_change = pce_df.pct_change()\n"
   ]
  },
  {
   "cell_type": "markdown",
   "metadata": {},
   "source": [
    "<div style=\"color:#5F9EA0\">\n",
    "\n",
    "##### Frequency Alignment: \n",
    "</div>\n",
    "- Transform the monthly economic indices from FRED to a quarterly format to align with the BEA’s quarterly GDP data. Calculate the sum or average (as appropriate) of monthly values within each quarter. \n"
   ]
  },
  {
   "cell_type": "code",
   "execution_count": 24,
   "metadata": {},
   "outputs": [
    {
     "name": "stdout",
     "output_type": "stream",
     "text": [
      "PeriodIndex(['2000Q1', '2000Q2', '2000Q3', '2000Q4', '2001Q1'], dtype='period[Q-DEC]')\n",
      "PeriodIndex(['2000Q1', '2000Q2', '2000Q3', '2000Q4', '2001Q1'], dtype='period[Q-DEC]')\n"
     ]
    }
   ],
   "source": [
    "# Convert DateTimeIndex to PeriodIndex with quarterly frequency\n",
    "pce_rate_of_change.index = pce_rate_of_change.index.to_period('Q')\n",
    "\n",
    "# Convert the monthly rate of change data to quarterly\n",
    "# We'll use the the sum aggregation method, which is suitable for rate of change data\n",
    "fred_quarterly_rate_of_change = fred_rate_of_change.resample('Q').sum()\n",
    "\n",
    "# print the first 5 rows of the index of both datasets to compare\n",
    "print(fred_quarterly_rate_of_change.index[:5])\n",
    "print(pce_rate_of_change.index[:5])"
   ]
  },
  {
   "cell_type": "markdown",
   "metadata": {},
   "source": [
    "<div style=\"color:#5F9EA0\">\n",
    "\n",
    "**Quarterly Data Integration**: \n",
    "\n",
    "</div>\n",
    "- We will merge quarterly BEA PCE rate of change data framework with the FRED transformed quarter-over-quarter rate of change into a unified framework using pandas, ensuring seamless integration and compatibility. \n",
    "- This step is vital for consolidating different economic indicators into a single, comprehensive analysis."
   ]
  },
  {
   "cell_type": "code",
   "execution_count": 25,
   "metadata": {},
   "outputs": [],
   "source": [
    "# pce_rate_of_change.to_csv(\"./results/pce_rate_of_change.csv\")\n",
    "# fred_quarterly_rate_of_change.to_csv(\"./results/fred_quarterly_rate_of_change.csv\")"
   ]
  },
  {
   "cell_type": "code",
   "execution_count": 26,
   "metadata": {},
   "outputs": [
    {
     "data": {
      "text/plain": [
       "PCE                                                 1.000000\n",
       "All Employees: Service-Providing Industries         0.877329\n",
       "All Employees: Total nonfarm                        0.863020\n",
       "Civilian Employment                                 0.844082\n",
       "All Employees: Retail Trade                         0.837907\n",
       "All Employees: Trade, Transportation & Utilities    0.832987\n",
       "All Employees: Government                           0.714063\n",
       "All Employees: Wholesale Trade                      0.691054\n",
       "All Employees: Nondurable goods                     0.615093\n",
       "IP Index                                            0.611541\n",
       "Avg Weekly Hours : Manufacturing                    0.606079\n",
       "IP: Materials                                       0.595763\n",
       "IP: Manufacturing (SIC)                             0.579840\n",
       "All Employees: Financial Activities                 0.579413\n",
       "IP: Final Products and Nonindustrial Supplies       0.569535\n",
       "All Employees: Manufacturing                        0.569383\n",
       "Capacity Utilization: Manufacturing                 0.557938\n",
       "All Employees: Goods-Producing Industries           0.554938\n",
       "Ratio of Help Wanted/No. Unemployed                 0.535295\n",
       "CPI : Apparel                                       0.530656\n",
       "Name: PCE, dtype: float64"
      ]
     },
     "execution_count": 26,
     "metadata": {},
     "output_type": "execute_result"
    }
   ],
   "source": [
    "# only keep \"PCE\" column\n",
    "pce_rate_of_change = pce_rate_of_change[['PCE']]\n",
    "\n",
    "# Joining the datasets on their index values\n",
    "joined_dataset = pce_rate_of_change.join(fred_quarterly_rate_of_change, how='outer')\n",
    "\n",
    "# Calculate the Pearson correlation matrix for the joined dataset\n",
    "correlation_matrix = joined_dataset.corr()\n",
    "\n",
    "# Extract the correlations related to 'PCE'\n",
    "pce_correlations = correlation_matrix['PCE'].sort_values(ascending=False)\n",
    "\n",
    "# Display the correlations related to 'PCE'\n",
    "pce_correlations.head(20)  # Displaying the top few correlations for brevity"
   ]
  },
  {
   "cell_type": "code",
   "execution_count": 27,
   "metadata": {},
   "outputs": [],
   "source": [
    "# # Selecting a subset of highly correlated variables for the pair plot\n",
    "# variables_for_pairplot = pce_correlations.head(5)\n",
    "# variables_for_pairplot = variables_for_pairplot.index.tolist()\n",
    "\n",
    "# # Creating the pair plot\n",
    "# sns.pairplot(joined_dataset[variables_for_pairplot], diag_kind='kde')\n",
    "# plt.show()"
   ]
  },
  {
   "cell_type": "markdown",
   "metadata": {},
   "source": [
    "<div style=\"color:#5F9EA0\">\n",
    "\n",
    "## Linear Regression Analysis to Determine Variable Influence on PCE"
   ]
  },
  {
   "cell_type": "markdown",
   "metadata": {},
   "source": [
    "This section of the notebook conducts a linear regression analysis to explore how different variables in our dataset influence the Private Consumption Expenditure (PCE). The primary goal is to determine the strength of the linear relationship each variable has with PCE, quantified using the \\( R^2 \\) (coefficient of determination) metric.Variables with higher \\( R^2 \\) values are of particular interest as they may be key drivers of PCE variations.By understanding these relationships, we can better comprehend the dynamics influencing Private Consumption Expenditure, an essential component of economic analysis.\n",
    "\n",
    "**Steps in the Analysis:**\n",
    "\n",
    "1. **Data Preparation:**\n",
    "   - We exclude 'PCE' from the list of independent variables as it is our dependent variable.\n",
    "   - The dataset is cleaned to remove any rows with NaN or infinite values to ensure the validity of our regression analysis.\n",
    "\n",
    "2. **Linear Regression:**\n",
    "   - For each independent variable, we perform a simple linear regression against 'PCE'.\n",
    "   - Only variables with a sufficient number of observations (set by `min_threshold`) are considered to ensure robust regression results.\n",
    "\n",
    "3. **Calculation of \\( R^2 \\) Values:**\n",
    "   - After fitting the model, we predict 'PCE' using each independent variable and compute the \\( R^2 \\) value.\n",
    "   - The \\( R^2 \\) value indicates how much of the variance in 'PCE' is explained by the variable. A higher \\( R^2 \\) suggests a stronger explanatory power.\n",
    "\n",
    "4. **Sorting and Displaying Results:**\n",
    "   - The \\( R^2 \\) values are sorted in descending order, and the top results are displayed.\n",
    "   - This ranking helps us identify which variables have the most significant linear relationship with 'PCE'."
   ]
  },
  {
   "cell_type": "code",
   "execution_count": 28,
   "metadata": {},
   "outputs": [
    {
     "data": {
      "text/plain": [
       "[('All Employees: Service-Providing Industries', 0.7697065236105182),\n",
       " ('All Employees: Total nonfarm', 0.744802939987474),\n",
       " ('Civilian Employment', 0.7124750526695423),\n",
       " ('All Employees: Retail Trade', 0.7020874019744379),\n",
       " ('All Employees: Trade, Transportation & Utilities', 0.693866744808085),\n",
       " ('Civilian Unemployment Rate', 0.611706621173607),\n",
       " ('Civilians Unemployed for 5-14 Weeks', 0.6081086981728158),\n",
       " ('All Employees: Government', 0.5098859381028717),\n",
       " ('All Employees: Wholesale Trade', 0.47755560848550793),\n",
       " ('Real M2 Money Stock', 0.3801158057208808)]"
      ]
     },
     "execution_count": 28,
     "metadata": {},
     "output_type": "execute_result"
    }
   ],
   "source": [
    "from sklearn.linear_model import LinearRegression\n",
    "from sklearn.metrics import r2_score\n",
    "\n",
    "# Prepare the independent variables (excluding 'PCE')\n",
    "independent_vars = joined_dataset.drop(columns=['PCE']).columns\n",
    "\n",
    "# Prepare the dependent variable 'PCE'\n",
    "dependent_var = joined_dataset['PCE']\n",
    "\n",
    "# Setting a minimum threshold for the number of observations required for regression\n",
    "min_threshold = 30\n",
    "\n",
    "# Dictionary to store R^2 values for each variable\n",
    "r2_values = {}\n",
    "\n",
    "# Perform linear regression for each independent variable\n",
    "for var in independent_vars:\n",
    "    # Drop rows where either the independent or dependent variable is NaN or infinite\n",
    "    combined_data = joined_dataset[[var, 'PCE']].replace([np.inf, -np.inf], np.nan).dropna()\n",
    "\n",
    "    if len(combined_data) >= min_threshold:\n",
    "        # Prepare the data for regression\n",
    "        X = combined_data[var].values.reshape(-1, 1)\n",
    "        y = combined_data['PCE'].values\n",
    "\n",
    "        # Create and fit the model\n",
    "        model = LinearRegression()\n",
    "        model.fit(X, y)\n",
    "\n",
    "        # Predict and calculate R^2\n",
    "        predictions = model.predict(X)\n",
    "        r2_values[var] = r2_score(y, predictions)\n",
    "\n",
    "# Sorting the R^2 values\n",
    "r2_values_sorted = dict(sorted(r2_values.items(), key=lambda item: item[1], reverse=True))\n",
    "\n",
    "# Assuming 'defn' is a DataFrame as described\n",
    "groups = defn.set_index('description')['group'].to_dict()\n",
    "\n",
    "# Displaying the top few R^2 values for brevity\n",
    "list(r2_values_sorted.items())[:10]"
   ]
  },
  {
   "cell_type": "code",
   "execution_count": 29,
   "metadata": {},
   "outputs": [
    {
     "data": {
      "text/html": [
       "<div>\n",
       "<style scoped>\n",
       "    .dataframe tbody tr th:only-of-type {\n",
       "        vertical-align: middle;\n",
       "    }\n",
       "\n",
       "    .dataframe tbody tr th {\n",
       "        vertical-align: top;\n",
       "    }\n",
       "\n",
       "    .dataframe thead th {\n",
       "        text-align: right;\n",
       "    }\n",
       "</style>\n",
       "<table border=\"1\" class=\"dataframe\">\n",
       "  <thead>\n",
       "    <tr style=\"text-align: right;\">\n",
       "      <th></th>\n",
       "      <th></th>\n",
       "      <th>R^2</th>\n",
       "    </tr>\n",
       "    <tr>\n",
       "      <th>Economic Group</th>\n",
       "      <th>Economic Indicator</th>\n",
       "      <th></th>\n",
       "    </tr>\n",
       "  </thead>\n",
       "  <tbody>\n",
       "    <tr>\n",
       "      <th rowspan=\"10\" valign=\"top\">Output and Income</th>\n",
       "      <th>IP Index</th>\n",
       "      <td>0.373983</td>\n",
       "    </tr>\n",
       "    <tr>\n",
       "      <th>IP: Materials</th>\n",
       "      <td>0.354933</td>\n",
       "    </tr>\n",
       "    <tr>\n",
       "      <th>IP: Manufacturing (SIC)</th>\n",
       "      <td>0.336215</td>\n",
       "    </tr>\n",
       "    <tr>\n",
       "      <th>IP: Final Products and Nonindustrial Supplies</th>\n",
       "      <td>0.324370</td>\n",
       "    </tr>\n",
       "    <tr>\n",
       "      <th>Capacity Utilization: Manufacturing</th>\n",
       "      <td>0.311295</td>\n",
       "    </tr>\n",
       "    <tr>\n",
       "      <th>IP: Durable Materials</th>\n",
       "      <td>0.279216</td>\n",
       "    </tr>\n",
       "    <tr>\n",
       "      <th>IP: Final Products (Market Group)</th>\n",
       "      <td>0.221625</td>\n",
       "    </tr>\n",
       "    <tr>\n",
       "      <th>IP: Business Equipment</th>\n",
       "      <td>0.156438</td>\n",
       "    </tr>\n",
       "    <tr>\n",
       "      <th>IP: Nondurable Materials</th>\n",
       "      <td>0.152066</td>\n",
       "    </tr>\n",
       "    <tr>\n",
       "      <th>Real personal income ex transfer receipts</th>\n",
       "      <td>0.102993</td>\n",
       "    </tr>\n",
       "  </tbody>\n",
       "</table>\n",
       "</div>"
      ],
      "text/plain": [
       "                                                                      R^2\n",
       "Economic Group    Economic Indicator                                     \n",
       "Output and Income IP Index                                       0.373983\n",
       "                  IP: Materials                                  0.354933\n",
       "                  IP: Manufacturing (SIC)                        0.336215\n",
       "                  IP: Final Products and Nonindustrial Supplies  0.324370\n",
       "                  Capacity Utilization: Manufacturing            0.311295\n",
       "                  IP: Durable Materials                          0.279216\n",
       "                  IP: Final Products (Market Group)              0.221625\n",
       "                  IP: Business Equipment                         0.156438\n",
       "                  IP: Nondurable Materials                       0.152066\n",
       "                  Real personal income ex transfer receipts      0.102993"
      ]
     },
     "execution_count": 29,
     "metadata": {},
     "output_type": "execute_result"
    }
   ],
   "source": [
    "# Organizing the R^2 values by group\n",
    "grouped_r2_values = {}\n",
    "for var, r2 in r2_values.items():\n",
    "    group = groups.get(var, 'Unknown')  # Default to 'Unknown' if no group is found\n",
    "    if group not in grouped_r2_values:\n",
    "        grouped_r2_values[group] = []\n",
    "    grouped_r2_values[group].append((var, r2))\n",
    "\n",
    "# Sorting the indicators within each group by R^2 values\n",
    "for group in grouped_r2_values:\n",
    "    grouped_r2_values[group].sort(key=lambda x: x[1], reverse=True)\n",
    "\n",
    "# Creating a Multi-Level DataFrame from the grouped R^2 values\n",
    "multi_level_df = pd.DataFrame([(group, var, r2) for group, indicators in grouped_r2_values.items() for var, r2 in indicators],\n",
    "                              columns=['Economic Group', 'Economic Indicator', 'R^2'])\n",
    "\n",
    "# Setting the multi-level index\n",
    "multi_level_df.set_index(['Economic Group', 'Economic Indicator'], inplace=True)\n",
    "\n",
    "# Displaying the top few rows of the multi-level DataFrame\n",
    "multi_level_df.head(10)"
   ]
  },
  {
   "cell_type": "code",
   "execution_count": 30,
   "metadata": {},
   "outputs": [],
   "source": [
    "\n",
    "# Mapping the R^2 values to their respective groups\n",
    "grouped_r2_values = {}\n",
    "for var, r2 in r2_values.items():\n",
    "    group = groups.get(var, 'Unknown')  # Default to 'Unknown' if no group is found\n",
    "    if group not in grouped_r2_values:\n",
    "        grouped_r2_values[group] = {}\n",
    "    grouped_r2_values[group][var] = r2\n",
    "    \n",
    "#grouped_r2_values"
   ]
  },
  {
   "cell_type": "code",
   "execution_count": 31,
   "metadata": {},
   "outputs": [
    {
     "data": {
      "text/html": [
       "<div>\n",
       "<style scoped>\n",
       "    .dataframe tbody tr th:only-of-type {\n",
       "        vertical-align: middle;\n",
       "    }\n",
       "\n",
       "    .dataframe tbody tr th {\n",
       "        vertical-align: top;\n",
       "    }\n",
       "\n",
       "    .dataframe thead tr th {\n",
       "        text-align: left;\n",
       "    }\n",
       "</style>\n",
       "<table border=\"1\" class=\"dataframe\">\n",
       "  <thead>\n",
       "    <tr>\n",
       "      <th></th>\n",
       "      <th colspan=\"2\" halign=\"left\">Output and Income</th>\n",
       "      <th colspan=\"2\" halign=\"left\">Consumption, Orders, and Inventories</th>\n",
       "      <th colspan=\"2\" halign=\"left\">Labor Market</th>\n",
       "      <th colspan=\"2\" halign=\"left\">Housing</th>\n",
       "      <th colspan=\"2\" halign=\"left\">Money and Credit</th>\n",
       "      <th colspan=\"2\" halign=\"left\">Stock Market</th>\n",
       "      <th colspan=\"2\" halign=\"left\">Interest and Exchange Rates</th>\n",
       "      <th colspan=\"2\" halign=\"left\">Prices</th>\n",
       "    </tr>\n",
       "    <tr>\n",
       "      <th></th>\n",
       "      <th>Economic Indicator</th>\n",
       "      <th>R^2</th>\n",
       "      <th>Economic Indicator</th>\n",
       "      <th>R^2</th>\n",
       "      <th>Economic Indicator</th>\n",
       "      <th>R^2</th>\n",
       "      <th>Economic Indicator</th>\n",
       "      <th>R^2</th>\n",
       "      <th>Economic Indicator</th>\n",
       "      <th>R^2</th>\n",
       "      <th>Economic Indicator</th>\n",
       "      <th>R^2</th>\n",
       "      <th>Economic Indicator</th>\n",
       "      <th>R^2</th>\n",
       "      <th>Economic Indicator</th>\n",
       "      <th>R^2</th>\n",
       "    </tr>\n",
       "  </thead>\n",
       "  <tbody>\n",
       "    <tr>\n",
       "      <th>0</th>\n",
       "      <td>IP Index</td>\n",
       "      <td>0.373983</td>\n",
       "      <td>Total Business Inventories</td>\n",
       "      <td>0.254974</td>\n",
       "      <td>All Employees: Service-Providing Industries</td>\n",
       "      <td>0.769707</td>\n",
       "      <td>Housing Starts, South</td>\n",
       "      <td>0.075301</td>\n",
       "      <td>Real M2 Money Stock</td>\n",
       "      <td>0.380116</td>\n",
       "      <td>S&amp;P s Composite Common Stock: Dividend Yield</td>\n",
       "      <td>0.015525</td>\n",
       "      <td>5-Year Treasury C Minus FEDFUNDS</td>\n",
       "      <td>0.100640</td>\n",
       "      <td>CPI : Apparel</td>\n",
       "      <td>0.281596</td>\n",
       "    </tr>\n",
       "    <tr>\n",
       "      <th>1</th>\n",
       "      <td>IP: Materials</td>\n",
       "      <td>0.354933</td>\n",
       "      <td>New Orders for Consumer Goods</td>\n",
       "      <td>0.106353</td>\n",
       "      <td>All Employees: Total nonfarm</td>\n",
       "      <td>0.744803</td>\n",
       "      <td>New Private Housing Permits, South (SAAR)</td>\n",
       "      <td>0.071372</td>\n",
       "      <td>M1 Money Stock</td>\n",
       "      <td>0.361820</td>\n",
       "      <td>S&amp;P s Common Stock Price Index: Composite</td>\n",
       "      <td>0.012179</td>\n",
       "      <td>5-Year Treasury Rate</td>\n",
       "      <td>0.082012</td>\n",
       "      <td>CPI : All Items Less Food</td>\n",
       "      <td>0.250432</td>\n",
       "    </tr>\n",
       "    <tr>\n",
       "      <th>2</th>\n",
       "      <td>IP: Manufacturing (SIC)</td>\n",
       "      <td>0.336215</td>\n",
       "      <td>New Orders for Durable Goods</td>\n",
       "      <td>0.090587</td>\n",
       "      <td>Civilian Employment</td>\n",
       "      <td>0.712475</td>\n",
       "      <td>New Private Housing Permits, West (SAAR)</td>\n",
       "      <td>0.060197</td>\n",
       "      <td>M2 Money Stock</td>\n",
       "      <td>0.269206</td>\n",
       "      <td>S&amp;P s Common Stock Price Index: Industrials</td>\n",
       "      <td>0.006812</td>\n",
       "      <td>E?ective Federal Funds Rate</td>\n",
       "      <td>0.066374</td>\n",
       "      <td>CPI : Durables</td>\n",
       "      <td>0.239406</td>\n",
       "    </tr>\n",
       "    <tr>\n",
       "      <th>3</th>\n",
       "      <td>IP: Final Products and Nonindustrial Supplies</td>\n",
       "      <td>0.324370</td>\n",
       "      <td>Real personal consumption expenditures</td>\n",
       "      <td>0.083938</td>\n",
       "      <td>All Employees: Retail Trade</td>\n",
       "      <td>0.702087</td>\n",
       "      <td>New Private Housing Permits (SAAR)</td>\n",
       "      <td>0.051309</td>\n",
       "      <td>Commercial and Industrial Loans</td>\n",
       "      <td>0.232464</td>\n",
       "      <td>S&amp;P s Composite Common Stock: Price-Earnings R...</td>\n",
       "      <td>0.005381</td>\n",
       "      <td>10-Year Treasury Rate</td>\n",
       "      <td>0.050702</td>\n",
       "      <td>CPI : Transportation</td>\n",
       "      <td>0.236931</td>\n",
       "    </tr>\n",
       "    <tr>\n",
       "      <th>4</th>\n",
       "      <td>Capacity Utilization: Manufacturing</td>\n",
       "      <td>0.311295</td>\n",
       "      <td>New Orders for Nondefense Capital Goods</td>\n",
       "      <td>0.063099</td>\n",
       "      <td>All Employees: Trade, Transportation &amp; Utilities</td>\n",
       "      <td>0.693867</td>\n",
       "      <td>Housing Starts: Total New Privately Owned</td>\n",
       "      <td>0.036233</td>\n",
       "      <td>Total Consumer Loans and Leases Outstanding</td>\n",
       "      <td>0.065464</td>\n",
       "      <td>NaN</td>\n",
       "      <td>NaN</td>\n",
       "      <td>3-Month AA Financial Commercial Paper Rate</td>\n",
       "      <td>0.047863</td>\n",
       "      <td>CPI : All items less medical care</td>\n",
       "      <td>0.228849</td>\n",
       "    </tr>\n",
       "    <tr>\n",
       "      <th>5</th>\n",
       "      <td>IP: Durable Materials</td>\n",
       "      <td>0.279216</td>\n",
       "      <td>Un lled Orders for Durable Goods</td>\n",
       "      <td>0.060042</td>\n",
       "      <td>Civilian Unemployment Rate</td>\n",
       "      <td>0.611707</td>\n",
       "      <td>New Private Housing Permits, Northeast (SAAR)</td>\n",
       "      <td>0.004414</td>\n",
       "      <td>Total Reserves of Depository Institutions</td>\n",
       "      <td>0.059436</td>\n",
       "      <td>NaN</td>\n",
       "      <td>NaN</td>\n",
       "      <td>Moody s Seasoned Aaa Corporate Bond Yield</td>\n",
       "      <td>0.044637</td>\n",
       "      <td>PPI: Intermediate Materials</td>\n",
       "      <td>0.223586</td>\n",
       "    </tr>\n",
       "    <tr>\n",
       "      <th>6</th>\n",
       "      <td>IP: Final Products (Market Group)</td>\n",
       "      <td>0.221625</td>\n",
       "      <td>Total Business: Inventories to Sales Ratio</td>\n",
       "      <td>0.041213</td>\n",
       "      <td>Civilians Unemployed for 5-14 Weeks</td>\n",
       "      <td>0.608109</td>\n",
       "      <td>New Private Housing Permits, Midwest (SAAR)</td>\n",
       "      <td>0.002196</td>\n",
       "      <td>Nonrevolving consumer credit to Personal Income</td>\n",
       "      <td>0.043198</td>\n",
       "      <td>NaN</td>\n",
       "      <td>NaN</td>\n",
       "      <td>1-Year Treasury Rate</td>\n",
       "      <td>0.043114</td>\n",
       "      <td>CPI : All Items</td>\n",
       "      <td>0.218724</td>\n",
       "    </tr>\n",
       "    <tr>\n",
       "      <th>7</th>\n",
       "      <td>IP: Business Equipment</td>\n",
       "      <td>0.156438</td>\n",
       "      <td>Real Manu. and Trade Industries Sales</td>\n",
       "      <td>0.024016</td>\n",
       "      <td>All Employees: Government</td>\n",
       "      <td>0.509886</td>\n",
       "      <td>Housing Starts, Northeast</td>\n",
       "      <td>0.001440</td>\n",
       "      <td>Consumer Motor Vehicle Loans Outstanding</td>\n",
       "      <td>0.041672</td>\n",
       "      <td>NaN</td>\n",
       "      <td>NaN</td>\n",
       "      <td>Moody s Baa Corporate Bond Minus FEDFUNDS</td>\n",
       "      <td>0.026228</td>\n",
       "      <td>Personal Cons. Expend.: Chain Index</td>\n",
       "      <td>0.214941</td>\n",
       "    </tr>\n",
       "    <tr>\n",
       "      <th>8</th>\n",
       "      <td>IP: Nondurable Materials</td>\n",
       "      <td>0.152066</td>\n",
       "      <td>Consumer Sentiment Index</td>\n",
       "      <td>0.010955</td>\n",
       "      <td>All Employees: Wholesale Trade</td>\n",
       "      <td>0.477556</td>\n",
       "      <td>Housing Starts, Midwest</td>\n",
       "      <td>0.000596</td>\n",
       "      <td>Total Nonrevolving Credit</td>\n",
       "      <td>0.041229</td>\n",
       "      <td>NaN</td>\n",
       "      <td>NaN</td>\n",
       "      <td>Canada / U.S. Foreign Exchange Rate</td>\n",
       "      <td>0.025457</td>\n",
       "      <td>Personal Cons. Exp: Services</td>\n",
       "      <td>0.211007</td>\n",
       "    </tr>\n",
       "    <tr>\n",
       "      <th>9</th>\n",
       "      <td>Real personal income ex transfer receipts</td>\n",
       "      <td>0.102993</td>\n",
       "      <td>Retail and Food Services Sales</td>\n",
       "      <td>0.001446</td>\n",
       "      <td>All Employees: Nondurable goods</td>\n",
       "      <td>0.378340</td>\n",
       "      <td>Housing Starts, West</td>\n",
       "      <td>0.000019</td>\n",
       "      <td>Securities in Bank Credit at All Commercial Banks</td>\n",
       "      <td>0.009283</td>\n",
       "      <td>NaN</td>\n",
       "      <td>NaN</td>\n",
       "      <td>3-Month Commercial Paper Minus FEDFUNDS</td>\n",
       "      <td>0.022338</td>\n",
       "      <td>CPI : All items less shelter</td>\n",
       "      <td>0.203398</td>\n",
       "    </tr>\n",
       "  </tbody>\n",
       "</table>\n",
       "</div>"
      ],
      "text/plain": [
       "                               Output and Income            \\\n",
       "                              Economic Indicator       R^2   \n",
       "0                                       IP Index  0.373983   \n",
       "1                                  IP: Materials  0.354933   \n",
       "2                        IP: Manufacturing (SIC)  0.336215   \n",
       "3  IP: Final Products and Nonindustrial Supplies  0.324370   \n",
       "4            Capacity Utilization: Manufacturing  0.311295   \n",
       "5                          IP: Durable Materials  0.279216   \n",
       "6              IP: Final Products (Market Group)  0.221625   \n",
       "7                         IP: Business Equipment  0.156438   \n",
       "8                       IP: Nondurable Materials  0.152066   \n",
       "9      Real personal income ex transfer receipts  0.102993   \n",
       "\n",
       "         Consumption, Orders, and Inventories            \\\n",
       "                           Economic Indicator       R^2   \n",
       "0                  Total Business Inventories  0.254974   \n",
       "1               New Orders for Consumer Goods  0.106353   \n",
       "2                New Orders for Durable Goods  0.090587   \n",
       "3      Real personal consumption expenditures  0.083938   \n",
       "4     New Orders for Nondefense Capital Goods  0.063099   \n",
       "5            Un lled Orders for Durable Goods  0.060042   \n",
       "6  Total Business: Inventories to Sales Ratio  0.041213   \n",
       "7       Real Manu. and Trade Industries Sales  0.024016   \n",
       "8                    Consumer Sentiment Index  0.010955   \n",
       "9              Retail and Food Services Sales  0.001446   \n",
       "\n",
       "                                       Labor Market            \\\n",
       "                                 Economic Indicator       R^2   \n",
       "0       All Employees: Service-Providing Industries  0.769707   \n",
       "1                      All Employees: Total nonfarm  0.744803   \n",
       "2                               Civilian Employment  0.712475   \n",
       "3                       All Employees: Retail Trade  0.702087   \n",
       "4  All Employees: Trade, Transportation & Utilities  0.693867   \n",
       "5                        Civilian Unemployment Rate  0.611707   \n",
       "6               Civilians Unemployed for 5-14 Weeks  0.608109   \n",
       "7                         All Employees: Government  0.509886   \n",
       "8                    All Employees: Wholesale Trade  0.477556   \n",
       "9                   All Employees: Nondurable goods  0.378340   \n",
       "\n",
       "                                         Housing            \\\n",
       "                              Economic Indicator       R^2   \n",
       "0                          Housing Starts, South  0.075301   \n",
       "1      New Private Housing Permits, South (SAAR)  0.071372   \n",
       "2       New Private Housing Permits, West (SAAR)  0.060197   \n",
       "3             New Private Housing Permits (SAAR)  0.051309   \n",
       "4      Housing Starts: Total New Privately Owned  0.036233   \n",
       "5  New Private Housing Permits, Northeast (SAAR)  0.004414   \n",
       "6    New Private Housing Permits, Midwest (SAAR)  0.002196   \n",
       "7                      Housing Starts, Northeast  0.001440   \n",
       "8                        Housing Starts, Midwest  0.000596   \n",
       "9                           Housing Starts, West  0.000019   \n",
       "\n",
       "                                    Money and Credit            \\\n",
       "                                  Economic Indicator       R^2   \n",
       "0                                Real M2 Money Stock  0.380116   \n",
       "1                                     M1 Money Stock  0.361820   \n",
       "2                                     M2 Money Stock  0.269206   \n",
       "3                    Commercial and Industrial Loans  0.232464   \n",
       "4        Total Consumer Loans and Leases Outstanding  0.065464   \n",
       "5          Total Reserves of Depository Institutions  0.059436   \n",
       "6    Nonrevolving consumer credit to Personal Income  0.043198   \n",
       "7           Consumer Motor Vehicle Loans Outstanding  0.041672   \n",
       "8                          Total Nonrevolving Credit  0.041229   \n",
       "9  Securities in Bank Credit at All Commercial Banks  0.009283   \n",
       "\n",
       "                                        Stock Market            \\\n",
       "                                  Economic Indicator       R^2   \n",
       "0       S&P s Composite Common Stock: Dividend Yield  0.015525   \n",
       "1          S&P s Common Stock Price Index: Composite  0.012179   \n",
       "2        S&P s Common Stock Price Index: Industrials  0.006812   \n",
       "3  S&P s Composite Common Stock: Price-Earnings R...  0.005381   \n",
       "4                                                NaN       NaN   \n",
       "5                                                NaN       NaN   \n",
       "6                                                NaN       NaN   \n",
       "7                                                NaN       NaN   \n",
       "8                                                NaN       NaN   \n",
       "9                                                NaN       NaN   \n",
       "\n",
       "                  Interest and Exchange Rates            \\\n",
       "                           Economic Indicator       R^2   \n",
       "0            5-Year Treasury C Minus FEDFUNDS  0.100640   \n",
       "1                        5-Year Treasury Rate  0.082012   \n",
       "2                 E?ective Federal Funds Rate  0.066374   \n",
       "3                       10-Year Treasury Rate  0.050702   \n",
       "4  3-Month AA Financial Commercial Paper Rate  0.047863   \n",
       "5   Moody s Seasoned Aaa Corporate Bond Yield  0.044637   \n",
       "6                        1-Year Treasury Rate  0.043114   \n",
       "7   Moody s Baa Corporate Bond Minus FEDFUNDS  0.026228   \n",
       "8         Canada / U.S. Foreign Exchange Rate  0.025457   \n",
       "9     3-Month Commercial Paper Minus FEDFUNDS  0.022338   \n",
       "\n",
       "                                Prices            \n",
       "                    Economic Indicator       R^2  \n",
       "0                        CPI : Apparel  0.281596  \n",
       "1            CPI : All Items Less Food  0.250432  \n",
       "2                       CPI : Durables  0.239406  \n",
       "3                 CPI : Transportation  0.236931  \n",
       "4    CPI : All items less medical care  0.228849  \n",
       "5          PPI: Intermediate Materials  0.223586  \n",
       "6                      CPI : All Items  0.218724  \n",
       "7  Personal Cons. Expend.: Chain Index  0.214941  \n",
       "8         Personal Cons. Exp: Services  0.211007  \n",
       "9         CPI : All items less shelter  0.203398  "
      ]
     },
     "execution_count": 31,
     "metadata": {},
     "output_type": "execute_result"
    }
   ],
   "source": [
    "# Create a sorted DataFrame for each group\n",
    "group_dfs = []\n",
    "for group, indicators in grouped_r2_values.items():\n",
    "    # Create DataFrame and sort by R^2 values\n",
    "    group_df = pd.DataFrame(list(indicators.items()), columns=['Economic Indicator', 'R^2'])\n",
    "    group_df.sort_values(by='R^2', ascending=False, inplace=True)  # Sort by R^2 in descending order\n",
    "    group_df.reset_index(drop=True, inplace=True)  # Reset index to maintain sorted order\n",
    "    group_dfs.append(group_df)\n",
    "\n",
    "# Concatenate all sorted group DataFrames horizontally\n",
    "final_df = pd.concat(group_dfs, axis=1, keys=grouped_r2_values.keys())\n",
    "\n",
    "# Display the resulting DataFrame\n",
    "final_df.head(10)"
   ]
  },
  {
   "cell_type": "code",
   "execution_count": 32,
   "metadata": {},
   "outputs": [],
   "source": [
    "# Plotting the R^2 values\n",
    "# plt.figure(figsize=(7, 3))\n",
    "# plt.bar(range(len(r2_values_sorted)), list(r2_values_sorted.values()))\n",
    "# plt.title(r'$R^2$ - Regression on Individual Factors', fontsize=14, fontweight=600)\n",
    "# plt.xlabel('Variables')\n",
    "# plt.ylabel(r'$R^2$ Value')\n",
    "# plt.show()"
   ]
  },
  {
   "cell_type": "code",
   "execution_count": 33,
   "metadata": {},
   "outputs": [
    {
     "data": {
      "application/vnd.plotly.v1+json": {
       "config": {
        "plotlyServerURL": "https://plot.ly"
       },
       "data": [
        {
         "name": "Output and Income",
         "type": "bar",
         "x": [
          "IP Index",
          "IP: Materials",
          "IP: Manufacturing (SIC)",
          "IP: Final Products and Nonindustrial Supplies",
          "Capacity Utilization: Manufacturing",
          "IP: Durable Materials",
          "IP: Final Products (Market Group)",
          "IP: Business Equipment",
          "IP: Nondurable Materials",
          "Real personal income ex transfer receipts",
          "IP: Consumer Goods",
          "IP: Fuels",
          "IP: Nondurable Consumer Goods",
          "Real Personal Income",
          "IP: Durable Consumer Goods"
         ],
         "xaxis": "x",
         "y": [
          0.3739828862282626,
          0.3549332735917512,
          0.33621471779746237,
          0.32436975663115986,
          0.31129528829355513,
          0.27921611192980655,
          0.2216252967655341,
          0.1564375926307363,
          0.15206582573501215,
          0.10299300410871637,
          0.09633543374934106,
          0.09195486345363457,
          0.06092207229795621,
          0.04406638841890964,
          0.00061181873222238
         ],
         "yaxis": "y"
        },
        {
         "name": "Consumption, Orders, and Inventories",
         "type": "bar",
         "x": [
          "Total Business Inventories",
          "New Orders for Consumer Goods",
          "New Orders for Durable Goods",
          "Real personal consumption expenditures",
          "New Orders for Nondefense Capital Goods",
          "Un lled Orders for Durable Goods",
          "Total Business: Inventories to Sales Ratio",
          "Real Manu. and Trade Industries Sales",
          "Consumer Sentiment Index",
          "Retail and Food Services Sales"
         ],
         "xaxis": "x2",
         "y": [
          0.2549735309869958,
          0.10635263043213361,
          0.09058733402899366,
          0.08393785754319905,
          0.0630994306858379,
          0.060041826624214756,
          0.04121315404477066,
          0.024016365052470623,
          0.010954914076208966,
          0.0014459432547284656
         ],
         "yaxis": "y2"
        },
        {
         "name": "Labor Market",
         "type": "bar",
         "x": [
          "All Employees: Service-Providing Industries",
          "All Employees: Total nonfarm",
          "Civilian Employment",
          "All Employees: Retail Trade",
          "All Employees: Trade, Transportation & Utilities",
          "Civilian Unemployment Rate",
          "Civilians Unemployed for 5-14 Weeks",
          "All Employees: Government",
          "All Employees: Wholesale Trade",
          "All Employees: Nondurable goods",
          "Avg Weekly Hours : Manufacturing",
          "All Employees: Financial Activities",
          "All Employees: Manufacturing",
          "All Employees: Goods-Producing Industries",
          "Ratio of Help Wanted/No. Unemployed",
          "All Employees: Durable goods",
          "Initial Claims",
          "Avg Weekly Overtime Hours : Manufacturing",
          "All Employees: Construction",
          "All Employees: Mining and Logging: Mining",
          "Avg Weekly Hours : Goods-Producing",
          "Civilian Labor Force",
          "Avg Hourly Earnings : Manufacturing",
          "Help-Wanted Index for United States",
          "Avg Hourly Earnings : Goods-Producing",
          "Civilians Unemployed - Less Than 5 Weeks",
          "Average Duration of Unemployment (Weeks)",
          "Civilians Unemployed for 27 Weeks and Over",
          "Civilians Unemployed - 15 Weeks & Over",
          "Civilians Unemployed for 15-26 Weeks",
          "Avg Hourly Earnings : Construction"
         ],
         "xaxis": "x3",
         "y": [
          0.7697065236105182,
          0.744802939987474,
          0.7124750526695423,
          0.7020874019744379,
          0.693866744808085,
          0.611706621173607,
          0.6081086981728158,
          0.5098859381028717,
          0.47755560848550793,
          0.37833969358410235,
          0.3673323585040432,
          0.3357194117206258,
          0.3241974685750977,
          0.3079557881630671,
          0.2865409580704208,
          0.28011743652172516,
          0.25096851489279604,
          0.20848880814440662,
          0.1879300413700753,
          0.17759989176567892,
          0.17547241463786611,
          0.16079606339342223,
          0.15291848659158958,
          0.03330474633672942,
          0.03252951840049456,
          0.02979665718008062,
          0.012433735414267955,
          0.004995726297366443,
          0.0033530676338306975,
          0.0011130967736212583,
          0.00017428842043587522
         ],
         "yaxis": "y3"
        },
        {
         "name": "Housing",
         "type": "bar",
         "x": [
          "Housing Starts, South",
          "New Private Housing Permits, South (SAAR)",
          "New Private Housing Permits, West (SAAR)",
          "New Private Housing Permits (SAAR)",
          "Housing Starts: Total New Privately Owned",
          "New Private Housing Permits, Northeast (SAAR)",
          "New Private Housing Permits, Midwest (SAAR)",
          "Housing Starts, Northeast",
          "Housing Starts, Midwest",
          "Housing Starts, West"
         ],
         "xaxis": "x4",
         "y": [
          0.07530101718157067,
          0.0713715101045298,
          0.06019697530121848,
          0.05130858056557841,
          0.03623304488501533,
          0.004413759449587773,
          0.0021959311873318565,
          0.0014404647062054021,
          0.0005962760601323502,
          0.00001894618743236709
         ],
         "yaxis": "y4"
        },
        {
         "name": "Money and Credit",
         "type": "bar",
         "x": [
          "Real M2 Money Stock",
          "M1 Money Stock",
          "M2 Money Stock",
          "Commercial and Industrial Loans",
          "Total Consumer Loans and Leases Outstanding",
          "Total Reserves of Depository Institutions",
          "Nonrevolving consumer credit to Personal Income",
          "Consumer Motor Vehicle Loans Outstanding",
          "Total Nonrevolving Credit",
          "Securities in Bank Credit at All Commercial Banks",
          "Real Estate Loans at All Commercial Banks",
          "Reserves Of Depository Institutions"
         ],
         "xaxis": "x5",
         "y": [
          0.3801158057208808,
          0.3618203820923026,
          0.2692060660671678,
          0.2324638018140589,
          0.06546413512927374,
          0.0594355655460338,
          0.04319808463061037,
          0.04167223055546598,
          0.041229466293111416,
          0.009282843943033914,
          0.0004817190307201402,
          0.00004985161528570092
         ],
         "yaxis": "y5"
        },
        {
         "name": "Stock Market",
         "type": "bar",
         "x": [
          "S&P s Composite Common Stock: Dividend Yield",
          "S&P s Common Stock Price Index: Composite",
          "S&P s Common Stock Price Index: Industrials",
          "S&P s Composite Common Stock: Price-Earnings Ratio"
         ],
         "xaxis": "x6",
         "y": [
          0.015524748586066783,
          0.012178914309875277,
          0.006812285030141418,
          0.0053806507983648055
         ],
         "yaxis": "y6"
        },
        {
         "name": "Interest and Exchange Rates",
         "type": "bar",
         "x": [
          "5-Year Treasury C Minus FEDFUNDS",
          "5-Year Treasury Rate",
          "E?ective Federal Funds Rate",
          "10-Year Treasury Rate",
          "3-Month AA Financial Commercial Paper Rate",
          "Moody s Seasoned Aaa Corporate Bond Yield",
          "1-Year Treasury Rate",
          "Moody s Baa Corporate Bond Minus FEDFUNDS",
          "Canada / U.S. Foreign Exchange Rate",
          "3-Month Commercial Paper Minus FEDFUNDS",
          "U.S. / U.K. Foreign Exchange Rate",
          "6-Month Treasury Bill:",
          "Japan / U.S. Foreign Exchange Rate",
          "Moody s Seasoned Baa Corporate Bond Yield",
          "1-Year Treasury C Minus FEDFUNDS",
          "Switzerland / U.S. Foreign Exchange Rate",
          "3-Month Treasury C Minus FEDFUNDS",
          "Moody s Aaa Corporate Bond Minus FEDFUNDS",
          "3-Month Treasury Bill:",
          "10-Year Treasury C Minus FEDFUNDS",
          "6-Month Treasury C Minus FEDFUNDS"
         ],
         "xaxis": "x7",
         "y": [
          0.1006396071330593,
          0.08201216617362062,
          0.06637354118414018,
          0.050701996588930154,
          0.04786258199514526,
          0.04463690198623238,
          0.04311386307393672,
          0.026227961353541218,
          0.025456620415746034,
          0.02233791093997506,
          0.02068462110658531,
          0.017844583911093448,
          0.009291464959407358,
          0.003907561874343823,
          0.0028394897714475453,
          0.001834664497788463,
          0.001800248530915205,
          0.0012637526805899801,
          0.0009387372490092805,
          0.0003676908305801918,
          0.00010040088607699005
         ],
         "yaxis": "y7"
        },
        {
         "name": "Prices",
         "type": "bar",
         "x": [
          "CPI : Apparel",
          "CPI : All Items Less Food",
          "CPI : Durables",
          "CPI : Transportation",
          "CPI : All items less medical care",
          "PPI: Intermediate Materials",
          "CPI : All Items",
          "Personal Cons. Expend.: Chain Index",
          "Personal Cons. Exp: Services",
          "CPI : All items less shelter",
          "Personal Cons. Exp: Durable goods",
          "CPI : Commodities",
          "CPI : Services",
          "PPI: Finished Goods",
          "PPI: Finished Consumer Goods",
          "PPI: Crude Materials",
          "Personal Cons. Exp: Nondurable goods",
          "PPI: Metals and metal products:",
          "CPI : Medical Care",
          "Crude Oil, spliced WTI and Cushing"
         ],
         "xaxis": "x8",
         "y": [
          0.2815955052704343,
          0.2504321327309743,
          0.23940623932096416,
          0.23693126395825526,
          0.2288486626345997,
          0.22358565065110958,
          0.21872432769628314,
          0.2149412393220158,
          0.21100732199937522,
          0.2033979944591524,
          0.19805694867515244,
          0.16166863684886013,
          0.15601268292652049,
          0.12842233141385395,
          0.12329498724011567,
          0.10051707143486222,
          0.08233296361966969,
          0.07195717983224481,
          0.020506542094290148,
          0.000052768515004575356
         ],
         "yaxis": "y8"
        }
       ],
       "layout": {
        "annotations": [
         {
          "font": {
           "size": 16
          },
          "showarrow": false,
          "text": "Output and Income",
          "x": 0.5,
          "xanchor": "center",
          "xref": "paper",
          "y": 1,
          "yanchor": "bottom",
          "yref": "paper"
         },
         {
          "font": {
           "size": 16
          },
          "showarrow": false,
          "text": "Consumption, Orders, and Inventories",
          "x": 0.5,
          "xanchor": "center",
          "xref": "paper",
          "y": 0.8671875,
          "yanchor": "bottom",
          "yref": "paper"
         },
         {
          "font": {
           "size": 16
          },
          "showarrow": false,
          "text": "Labor Market",
          "x": 0.5,
          "xanchor": "center",
          "xref": "paper",
          "y": 0.734375,
          "yanchor": "bottom",
          "yref": "paper"
         },
         {
          "font": {
           "size": 16
          },
          "showarrow": false,
          "text": "Housing",
          "x": 0.5,
          "xanchor": "center",
          "xref": "paper",
          "y": 0.6015625,
          "yanchor": "bottom",
          "yref": "paper"
         },
         {
          "font": {
           "size": 16
          },
          "showarrow": false,
          "text": "Money and Credit",
          "x": 0.5,
          "xanchor": "center",
          "xref": "paper",
          "y": 0.46875,
          "yanchor": "bottom",
          "yref": "paper"
         },
         {
          "font": {
           "size": 16
          },
          "showarrow": false,
          "text": "Stock Market",
          "x": 0.5,
          "xanchor": "center",
          "xref": "paper",
          "y": 0.3359375,
          "yanchor": "bottom",
          "yref": "paper"
         },
         {
          "font": {
           "size": 16
          },
          "showarrow": false,
          "text": "Interest and Exchange Rates",
          "x": 0.5,
          "xanchor": "center",
          "xref": "paper",
          "y": 0.203125,
          "yanchor": "bottom",
          "yref": "paper"
         },
         {
          "font": {
           "size": 16
          },
          "showarrow": false,
          "text": "Prices",
          "x": 0.5,
          "xanchor": "center",
          "xref": "paper",
          "y": 0.0703125,
          "yanchor": "bottom",
          "yref": "paper"
         }
        ],
        "height": 1000,
        "showlegend": false,
        "template": {
         "data": {
          "bar": [
           {
            "error_x": {
             "color": "#2a3f5f"
            },
            "error_y": {
             "color": "#2a3f5f"
            },
            "marker": {
             "line": {
              "color": "#E5ECF6",
              "width": 0.5
             },
             "pattern": {
              "fillmode": "overlay",
              "size": 10,
              "solidity": 0.2
             }
            },
            "type": "bar"
           }
          ],
          "barpolar": [
           {
            "marker": {
             "line": {
              "color": "#E5ECF6",
              "width": 0.5
             },
             "pattern": {
              "fillmode": "overlay",
              "size": 10,
              "solidity": 0.2
             }
            },
            "type": "barpolar"
           }
          ],
          "carpet": [
           {
            "aaxis": {
             "endlinecolor": "#2a3f5f",
             "gridcolor": "white",
             "linecolor": "white",
             "minorgridcolor": "white",
             "startlinecolor": "#2a3f5f"
            },
            "baxis": {
             "endlinecolor": "#2a3f5f",
             "gridcolor": "white",
             "linecolor": "white",
             "minorgridcolor": "white",
             "startlinecolor": "#2a3f5f"
            },
            "type": "carpet"
           }
          ],
          "choropleth": [
           {
            "colorbar": {
             "outlinewidth": 0,
             "ticks": ""
            },
            "type": "choropleth"
           }
          ],
          "contour": [
           {
            "colorbar": {
             "outlinewidth": 0,
             "ticks": ""
            },
            "colorscale": [
             [
              0,
              "#0d0887"
             ],
             [
              0.1111111111111111,
              "#46039f"
             ],
             [
              0.2222222222222222,
              "#7201a8"
             ],
             [
              0.3333333333333333,
              "#9c179e"
             ],
             [
              0.4444444444444444,
              "#bd3786"
             ],
             [
              0.5555555555555556,
              "#d8576b"
             ],
             [
              0.6666666666666666,
              "#ed7953"
             ],
             [
              0.7777777777777778,
              "#fb9f3a"
             ],
             [
              0.8888888888888888,
              "#fdca26"
             ],
             [
              1,
              "#f0f921"
             ]
            ],
            "type": "contour"
           }
          ],
          "contourcarpet": [
           {
            "colorbar": {
             "outlinewidth": 0,
             "ticks": ""
            },
            "type": "contourcarpet"
           }
          ],
          "heatmap": [
           {
            "colorbar": {
             "outlinewidth": 0,
             "ticks": ""
            },
            "colorscale": [
             [
              0,
              "#0d0887"
             ],
             [
              0.1111111111111111,
              "#46039f"
             ],
             [
              0.2222222222222222,
              "#7201a8"
             ],
             [
              0.3333333333333333,
              "#9c179e"
             ],
             [
              0.4444444444444444,
              "#bd3786"
             ],
             [
              0.5555555555555556,
              "#d8576b"
             ],
             [
              0.6666666666666666,
              "#ed7953"
             ],
             [
              0.7777777777777778,
              "#fb9f3a"
             ],
             [
              0.8888888888888888,
              "#fdca26"
             ],
             [
              1,
              "#f0f921"
             ]
            ],
            "type": "heatmap"
           }
          ],
          "heatmapgl": [
           {
            "colorbar": {
             "outlinewidth": 0,
             "ticks": ""
            },
            "colorscale": [
             [
              0,
              "#0d0887"
             ],
             [
              0.1111111111111111,
              "#46039f"
             ],
             [
              0.2222222222222222,
              "#7201a8"
             ],
             [
              0.3333333333333333,
              "#9c179e"
             ],
             [
              0.4444444444444444,
              "#bd3786"
             ],
             [
              0.5555555555555556,
              "#d8576b"
             ],
             [
              0.6666666666666666,
              "#ed7953"
             ],
             [
              0.7777777777777778,
              "#fb9f3a"
             ],
             [
              0.8888888888888888,
              "#fdca26"
             ],
             [
              1,
              "#f0f921"
             ]
            ],
            "type": "heatmapgl"
           }
          ],
          "histogram": [
           {
            "marker": {
             "pattern": {
              "fillmode": "overlay",
              "size": 10,
              "solidity": 0.2
             }
            },
            "type": "histogram"
           }
          ],
          "histogram2d": [
           {
            "colorbar": {
             "outlinewidth": 0,
             "ticks": ""
            },
            "colorscale": [
             [
              0,
              "#0d0887"
             ],
             [
              0.1111111111111111,
              "#46039f"
             ],
             [
              0.2222222222222222,
              "#7201a8"
             ],
             [
              0.3333333333333333,
              "#9c179e"
             ],
             [
              0.4444444444444444,
              "#bd3786"
             ],
             [
              0.5555555555555556,
              "#d8576b"
             ],
             [
              0.6666666666666666,
              "#ed7953"
             ],
             [
              0.7777777777777778,
              "#fb9f3a"
             ],
             [
              0.8888888888888888,
              "#fdca26"
             ],
             [
              1,
              "#f0f921"
             ]
            ],
            "type": "histogram2d"
           }
          ],
          "histogram2dcontour": [
           {
            "colorbar": {
             "outlinewidth": 0,
             "ticks": ""
            },
            "colorscale": [
             [
              0,
              "#0d0887"
             ],
             [
              0.1111111111111111,
              "#46039f"
             ],
             [
              0.2222222222222222,
              "#7201a8"
             ],
             [
              0.3333333333333333,
              "#9c179e"
             ],
             [
              0.4444444444444444,
              "#bd3786"
             ],
             [
              0.5555555555555556,
              "#d8576b"
             ],
             [
              0.6666666666666666,
              "#ed7953"
             ],
             [
              0.7777777777777778,
              "#fb9f3a"
             ],
             [
              0.8888888888888888,
              "#fdca26"
             ],
             [
              1,
              "#f0f921"
             ]
            ],
            "type": "histogram2dcontour"
           }
          ],
          "mesh3d": [
           {
            "colorbar": {
             "outlinewidth": 0,
             "ticks": ""
            },
            "type": "mesh3d"
           }
          ],
          "parcoords": [
           {
            "line": {
             "colorbar": {
              "outlinewidth": 0,
              "ticks": ""
             }
            },
            "type": "parcoords"
           }
          ],
          "pie": [
           {
            "automargin": true,
            "type": "pie"
           }
          ],
          "scatter": [
           {
            "fillpattern": {
             "fillmode": "overlay",
             "size": 10,
             "solidity": 0.2
            },
            "type": "scatter"
           }
          ],
          "scatter3d": [
           {
            "line": {
             "colorbar": {
              "outlinewidth": 0,
              "ticks": ""
             }
            },
            "marker": {
             "colorbar": {
              "outlinewidth": 0,
              "ticks": ""
             }
            },
            "type": "scatter3d"
           }
          ],
          "scattercarpet": [
           {
            "marker": {
             "colorbar": {
              "outlinewidth": 0,
              "ticks": ""
             }
            },
            "type": "scattercarpet"
           }
          ],
          "scattergeo": [
           {
            "marker": {
             "colorbar": {
              "outlinewidth": 0,
              "ticks": ""
             }
            },
            "type": "scattergeo"
           }
          ],
          "scattergl": [
           {
            "marker": {
             "colorbar": {
              "outlinewidth": 0,
              "ticks": ""
             }
            },
            "type": "scattergl"
           }
          ],
          "scattermapbox": [
           {
            "marker": {
             "colorbar": {
              "outlinewidth": 0,
              "ticks": ""
             }
            },
            "type": "scattermapbox"
           }
          ],
          "scatterpolar": [
           {
            "marker": {
             "colorbar": {
              "outlinewidth": 0,
              "ticks": ""
             }
            },
            "type": "scatterpolar"
           }
          ],
          "scatterpolargl": [
           {
            "marker": {
             "colorbar": {
              "outlinewidth": 0,
              "ticks": ""
             }
            },
            "type": "scatterpolargl"
           }
          ],
          "scatterternary": [
           {
            "marker": {
             "colorbar": {
              "outlinewidth": 0,
              "ticks": ""
             }
            },
            "type": "scatterternary"
           }
          ],
          "surface": [
           {
            "colorbar": {
             "outlinewidth": 0,
             "ticks": ""
            },
            "colorscale": [
             [
              0,
              "#0d0887"
             ],
             [
              0.1111111111111111,
              "#46039f"
             ],
             [
              0.2222222222222222,
              "#7201a8"
             ],
             [
              0.3333333333333333,
              "#9c179e"
             ],
             [
              0.4444444444444444,
              "#bd3786"
             ],
             [
              0.5555555555555556,
              "#d8576b"
             ],
             [
              0.6666666666666666,
              "#ed7953"
             ],
             [
              0.7777777777777778,
              "#fb9f3a"
             ],
             [
              0.8888888888888888,
              "#fdca26"
             ],
             [
              1,
              "#f0f921"
             ]
            ],
            "type": "surface"
           }
          ],
          "table": [
           {
            "cells": {
             "fill": {
              "color": "#EBF0F8"
             },
             "line": {
              "color": "white"
             }
            },
            "header": {
             "fill": {
              "color": "#C8D4E3"
             },
             "line": {
              "color": "white"
             }
            },
            "type": "table"
           }
          ]
         },
         "layout": {
          "annotationdefaults": {
           "arrowcolor": "#2a3f5f",
           "arrowhead": 0,
           "arrowwidth": 1
          },
          "autotypenumbers": "strict",
          "coloraxis": {
           "colorbar": {
            "outlinewidth": 0,
            "ticks": ""
           }
          },
          "colorscale": {
           "diverging": [
            [
             0,
             "#8e0152"
            ],
            [
             0.1,
             "#c51b7d"
            ],
            [
             0.2,
             "#de77ae"
            ],
            [
             0.3,
             "#f1b6da"
            ],
            [
             0.4,
             "#fde0ef"
            ],
            [
             0.5,
             "#f7f7f7"
            ],
            [
             0.6,
             "#e6f5d0"
            ],
            [
             0.7,
             "#b8e186"
            ],
            [
             0.8,
             "#7fbc41"
            ],
            [
             0.9,
             "#4d9221"
            ],
            [
             1,
             "#276419"
            ]
           ],
           "sequential": [
            [
             0,
             "#0d0887"
            ],
            [
             0.1111111111111111,
             "#46039f"
            ],
            [
             0.2222222222222222,
             "#7201a8"
            ],
            [
             0.3333333333333333,
             "#9c179e"
            ],
            [
             0.4444444444444444,
             "#bd3786"
            ],
            [
             0.5555555555555556,
             "#d8576b"
            ],
            [
             0.6666666666666666,
             "#ed7953"
            ],
            [
             0.7777777777777778,
             "#fb9f3a"
            ],
            [
             0.8888888888888888,
             "#fdca26"
            ],
            [
             1,
             "#f0f921"
            ]
           ],
           "sequentialminus": [
            [
             0,
             "#0d0887"
            ],
            [
             0.1111111111111111,
             "#46039f"
            ],
            [
             0.2222222222222222,
             "#7201a8"
            ],
            [
             0.3333333333333333,
             "#9c179e"
            ],
            [
             0.4444444444444444,
             "#bd3786"
            ],
            [
             0.5555555555555556,
             "#d8576b"
            ],
            [
             0.6666666666666666,
             "#ed7953"
            ],
            [
             0.7777777777777778,
             "#fb9f3a"
            ],
            [
             0.8888888888888888,
             "#fdca26"
            ],
            [
             1,
             "#f0f921"
            ]
           ]
          },
          "colorway": [
           "#636efa",
           "#EF553B",
           "#00cc96",
           "#ab63fa",
           "#FFA15A",
           "#19d3f3",
           "#FF6692",
           "#B6E880",
           "#FF97FF",
           "#FECB52"
          ],
          "font": {
           "color": "#2a3f5f"
          },
          "geo": {
           "bgcolor": "white",
           "lakecolor": "white",
           "landcolor": "#E5ECF6",
           "showlakes": true,
           "showland": true,
           "subunitcolor": "white"
          },
          "hoverlabel": {
           "align": "left"
          },
          "hovermode": "closest",
          "mapbox": {
           "style": "light"
          },
          "paper_bgcolor": "white",
          "plot_bgcolor": "#E5ECF6",
          "polar": {
           "angularaxis": {
            "gridcolor": "white",
            "linecolor": "white",
            "ticks": ""
           },
           "bgcolor": "#E5ECF6",
           "radialaxis": {
            "gridcolor": "white",
            "linecolor": "white",
            "ticks": ""
           }
          },
          "scene": {
           "xaxis": {
            "backgroundcolor": "#E5ECF6",
            "gridcolor": "white",
            "gridwidth": 2,
            "linecolor": "white",
            "showbackground": true,
            "ticks": "",
            "zerolinecolor": "white"
           },
           "yaxis": {
            "backgroundcolor": "#E5ECF6",
            "gridcolor": "white",
            "gridwidth": 2,
            "linecolor": "white",
            "showbackground": true,
            "ticks": "",
            "zerolinecolor": "white"
           },
           "zaxis": {
            "backgroundcolor": "#E5ECF6",
            "gridcolor": "white",
            "gridwidth": 2,
            "linecolor": "white",
            "showbackground": true,
            "ticks": "",
            "zerolinecolor": "white"
           }
          },
          "shapedefaults": {
           "line": {
            "color": "#2a3f5f"
           }
          },
          "ternary": {
           "aaxis": {
            "gridcolor": "white",
            "linecolor": "white",
            "ticks": ""
           },
           "baxis": {
            "gridcolor": "white",
            "linecolor": "white",
            "ticks": ""
           },
           "bgcolor": "#E5ECF6",
           "caxis": {
            "gridcolor": "white",
            "linecolor": "white",
            "ticks": ""
           }
          },
          "title": {
           "x": 0.05
          },
          "xaxis": {
           "automargin": true,
           "gridcolor": "white",
           "linecolor": "white",
           "ticks": "",
           "title": {
            "standoff": 15
           },
           "zerolinecolor": "white",
           "zerolinewidth": 2
          },
          "yaxis": {
           "automargin": true,
           "gridcolor": "white",
           "linecolor": "white",
           "ticks": "",
           "title": {
            "standoff": 15
           },
           "zerolinecolor": "white",
           "zerolinewidth": 2
          }
         }
        },
        "title": {
         "text": "$R^2$ - Regression on Individual Factors by Group"
        },
        "xaxis": {
         "anchor": "y",
         "domain": [
          0,
          1
         ],
         "showticklabels": false,
         "title": {
          "text": ""
         }
        },
        "xaxis2": {
         "anchor": "y2",
         "domain": [
          0,
          1
         ],
         "showticklabels": false,
         "title": {
          "text": ""
         }
        },
        "xaxis3": {
         "anchor": "y3",
         "domain": [
          0,
          1
         ],
         "showticklabels": false,
         "title": {
          "text": ""
         }
        },
        "xaxis4": {
         "anchor": "y4",
         "domain": [
          0,
          1
         ],
         "showticklabels": false,
         "title": {
          "text": ""
         }
        },
        "xaxis5": {
         "anchor": "y5",
         "domain": [
          0,
          1
         ],
         "showticklabels": false,
         "title": {
          "text": ""
         }
        },
        "xaxis6": {
         "anchor": "y6",
         "domain": [
          0,
          1
         ],
         "showticklabels": false,
         "title": {
          "text": ""
         }
        },
        "xaxis7": {
         "anchor": "y7",
         "domain": [
          0,
          1
         ],
         "showticklabels": false,
         "title": {
          "text": ""
         }
        },
        "xaxis8": {
         "anchor": "y8",
         "domain": [
          0,
          1
         ],
         "showticklabels": false,
         "title": {
          "text": ""
         }
        },
        "yaxis": {
         "anchor": "x",
         "domain": [
          0.9296875,
          1
         ]
        },
        "yaxis2": {
         "anchor": "x2",
         "domain": [
          0.796875,
          0.8671875
         ]
        },
        "yaxis3": {
         "anchor": "x3",
         "domain": [
          0.6640625,
          0.734375
         ]
        },
        "yaxis4": {
         "anchor": "x4",
         "domain": [
          0.53125,
          0.6015625
         ]
        },
        "yaxis5": {
         "anchor": "x5",
         "domain": [
          0.3984375,
          0.46875
         ]
        },
        "yaxis6": {
         "anchor": "x6",
         "domain": [
          0.265625,
          0.3359375
         ]
        },
        "yaxis7": {
         "anchor": "x7",
         "domain": [
          0.1328125,
          0.203125
         ]
        },
        "yaxis8": {
         "anchor": "x8",
         "domain": [
          0,
          0.0703125
         ],
         "title": {
          "text": "R^2 Value"
         }
        }
       }
      }
     },
     "metadata": {},
     "output_type": "display_data"
    }
   ],
   "source": [
    "import plotly.graph_objects as go\n",
    "from plotly.subplots import make_subplots\n",
    "\n",
    "# Determine the number of groups\n",
    "num_groups = len(grouped_r2_values)\n",
    "\n",
    "# Create subplots with shared y-axis\n",
    "fig = make_subplots(rows=num_groups, cols=1, shared_yaxes=True, subplot_titles=list(grouped_r2_values.keys()))\n",
    "\n",
    "# Plot each group in a separate subplot with sorted values\n",
    "for i, (group, values) in enumerate(grouped_r2_values.items(), start=1):\n",
    "    # Sort the values in descending order\n",
    "    sorted_values = dict(sorted(values.items(), key=lambda item: item[1], reverse=True))\n",
    "\n",
    "    fig.add_trace(\n",
    "        go.Bar(x=list(sorted_values.keys()), y=list(sorted_values.values()), name=group),\n",
    "        row=i, col=1\n",
    "    )\n",
    "\n",
    "# Update layout\n",
    "fig.update_layout(\n",
    "    height=1000,  # Adjust the height depending on the number of subplots\n",
    "    title_text=r'$R^2$ - Regression on Individual Factors by Group',\n",
    "    showlegend=False\n",
    ")\n",
    "\n",
    "# Update y-axis label and hide x-axis tick labels\n",
    "for i in range(1, num_groups + 1):\n",
    "    fig.update_xaxes(title_text='', showticklabels=False, row=i, col=1)\n",
    "fig.update_yaxes(title_text=r'R^2 Value', row=num_groups, col=1)\n",
    "\n",
    "#update subplot y-axis range to all have value 0-1\n",
    "# for i in range(1, num_groups + 1):\n",
    "#     fig.update_yaxes(range=[0, 1], row=i, col=1)\n",
    "\n",
    "# Show the figure\n",
    "fig.show()\n"
   ]
  },
  {
   "cell_type": "code",
   "execution_count": 34,
   "metadata": {},
   "outputs": [],
   "source": [
    "# # Grouping the R^2 values based on the 'group' they belong to\n",
    "# grouped_r2 = defn.set_index('description').join(pd.Series(r2_values, name='R2')).reset_index()\n",
    "\n",
    "# # Sort the R2 values within each group\n",
    "# grouped_r2_sorted = grouped_r2.groupby('group').apply(lambda x: x.sort_values('R2', ascending=True)).reset_index(drop=True)\n",
    "\n",
    "# # Adjust the code here if 'description' is not a column\n",
    "# # Make sure 'description' is a column in grouped_r2_sorted\n",
    "# if 'description' not in grouped_r2_sorted.columns:\n",
    "#     grouped_r2_sorted['description'] = grouped_r2_sorted.index\n",
    "\n",
    "# # Create lists to hold the sorted variables, their R2 values, and group names for labeling\n",
    "# sorted_vars = []\n",
    "# sorted_r2_values = []\n",
    "# group_labels = []\n",
    "\n",
    "# # For each group, extend the lists with the sorted variables and their R2 values\n",
    "# for group, data in grouped_r2_sorted.groupby('group'):\n",
    "#     sorted_r2_values.extend(data['R2'])  # This will be the y-axis values\n",
    "#     group_labels.extend([group] * len(data))  # This will repeat the group name for each variable\n",
    "\n",
    "# # Create the midpoints for the group labels on the x-axis\n",
    "# midpoints = []\n",
    "# last_index = 0\n",
    "# for group, count in grouped_r2_sorted['group'].value_counts().sort_index().iteritems():\n",
    "#     midpoint = last_index + count / 2\n",
    "#     midpoints.append(midpoint)\n",
    "#     last_index += count\n",
    "\n",
    "# with sns.color_palette('deep'):\n",
    "#     fig, ax = plt.subplots(figsize=(10, 7))  # Adjusted figure size for horizontal layout\n",
    "#     bars = ax.barh(range(len(sorted_r2_values)), sorted_r2_values)\n",
    "#     ax.set_yticks(midpoints)\n",
    "#     ax.set_yticklabels(grouped_r2_sorted['group'].unique(), va='center') # rotation=45\n",
    "\n",
    "#     # Adding shaded bands for groups\n",
    "#     last_index = 0\n",
    "#     for count in grouped_r2_sorted['group'].value_counts().sort_index():\n",
    "#         ax.fill_betweenx(np.arange(last_index, last_index + count), 0, 1.2, color='k', alpha=0.1)\n",
    "#         last_index += count\n",
    "\n",
    "#     ax.set_xlim(0, 1.0)\n",
    "#     ax.set_ylim(-1, len(sorted_r2_values))\n",
    "#     #set x axis label\n",
    "#     ax.set_xlabel(r'R^2 Value')\n",
    "#     fig.tight_layout()\n",
    "\n",
    "# plt.show()\n"
   ]
  },
  {
   "cell_type": "markdown",
   "metadata": {},
   "source": [
    "<div style=\"color:#DC143C\">\n",
    "\n",
    "##### Log Transformation for Monthly Data: IN PROGRESS\n",
    "- Visually inspect PCE rate of change Data\n",
    "- Inspect FRED rate of change data for skewness and variance\n",
    "- Implement logarithmic transformations to stabilize the variance in monthly data that exhibit exponential growth or large fluctuations. This step is particularly important for FRED data (FRED provides a logarithmic key mapping)."
   ]
  },
  {
   "cell_type": "code",
   "execution_count": 35,
   "metadata": {},
   "outputs": [],
   "source": [
    "#get transformation codes from fred_defintions\n",
    "# transform_info = transform_info.to_frame().T\n",
    "# transform_info = map_column_names(transform_info, column_defn_file)\n",
    "# transform_info"
   ]
  },
  {
   "cell_type": "code",
   "execution_count": 36,
   "metadata": {},
   "outputs": [
    {
     "data": {
      "text/html": [
       "<div>\n",
       "<style scoped>\n",
       "    .dataframe tbody tr th:only-of-type {\n",
       "        vertical-align: middle;\n",
       "    }\n",
       "\n",
       "    .dataframe tbody tr th {\n",
       "        vertical-align: top;\n",
       "    }\n",
       "\n",
       "    .dataframe thead th {\n",
       "        text-align: right;\n",
       "    }\n",
       "</style>\n",
       "<table border=\"1\" class=\"dataframe\">\n",
       "  <thead>\n",
       "    <tr style=\"text-align: right;\">\n",
       "      <th></th>\n",
       "      <th>Skewness</th>\n",
       "      <th>Kurtosis</th>\n",
       "      <th>Variance</th>\n",
       "      <th>Interpretation</th>\n",
       "      <th>Transformation</th>\n",
       "      <th>Visualization</th>\n",
       "    </tr>\n",
       "  </thead>\n",
       "  <tbody>\n",
       "    <tr>\n",
       "      <th>Reserves Of Depository Institutions</th>\n",
       "      <td>9.363761</td>\n",
       "      <td>90.642137</td>\n",
       "      <td>4.478166</td>\n",
       "      <td>Right Skewed, Heavy Tails</td>\n",
       "      <td>Square Root or Log</td>\n",
       "      <td>Boxplot for Outliers</td>\n",
       "    </tr>\n",
       "    <tr>\n",
       "      <th>Initial Claims</th>\n",
       "      <td>9.234655</td>\n",
       "      <td>88.764637</td>\n",
       "      <td>0.280635</td>\n",
       "      <td>Right Skewed, Heavy Tails</td>\n",
       "      <td>Square Root or Log</td>\n",
       "      <td>Boxplot for Outliers</td>\n",
       "    </tr>\n",
       "    <tr>\n",
       "      <th>3-Month Commercial Paper Minus FEDFUNDS</th>\n",
       "      <td>8.597466</td>\n",
       "      <td>79.347578</td>\n",
       "      <td>53.504061</td>\n",
       "      <td>Right Skewed, Heavy Tails</td>\n",
       "      <td>Square Root or Log</td>\n",
       "      <td>Boxplot for Outliers</td>\n",
       "    </tr>\n",
       "    <tr>\n",
       "      <th>Civilian Unemployment Rate</th>\n",
       "      <td>8.278302</td>\n",
       "      <td>76.650733</td>\n",
       "      <td>0.050298</td>\n",
       "      <td>Right Skewed, Heavy Tails</td>\n",
       "      <td>Square Root or Log</td>\n",
       "      <td>Boxplot for Outliers</td>\n",
       "    </tr>\n",
       "    <tr>\n",
       "      <th>Total Reserves of Depository Institutions</th>\n",
       "      <td>8.069044</td>\n",
       "      <td>69.974416</td>\n",
       "      <td>0.135457</td>\n",
       "      <td>Right Skewed, Heavy Tails</td>\n",
       "      <td>Square Root or Log</td>\n",
       "      <td>Boxplot for Outliers</td>\n",
       "    </tr>\n",
       "    <tr>\n",
       "      <th>...</th>\n",
       "      <td>...</td>\n",
       "      <td>...</td>\n",
       "      <td>...</td>\n",
       "      <td>...</td>\n",
       "      <td>...</td>\n",
       "      <td>...</td>\n",
       "    </tr>\n",
       "    <tr>\n",
       "      <th>New Private Housing Permits, South (SAAR)</th>\n",
       "      <td>-0.032587</td>\n",
       "      <td>1.275268</td>\n",
       "      <td>0.00763</td>\n",
       "      <td>Fairly Symmetrical</td>\n",
       "      <td>None</td>\n",
       "      <td>Histogram or Boxplot</td>\n",
       "    </tr>\n",
       "    <tr>\n",
       "      <th>Avg Weekly Overtime Hours : Manufacturing</th>\n",
       "      <td>0.032051</td>\n",
       "      <td>2.706913</td>\n",
       "      <td>0.002528</td>\n",
       "      <td>Fairly Symmetrical</td>\n",
       "      <td>None</td>\n",
       "      <td>Histogram or Boxplot</td>\n",
       "    </tr>\n",
       "    <tr>\n",
       "      <th>Personal Cons. Exp: Services</th>\n",
       "      <td>-0.021387</td>\n",
       "      <td>1.550381</td>\n",
       "      <td>0.000011</td>\n",
       "      <td>Fairly Symmetrical</td>\n",
       "      <td>None</td>\n",
       "      <td>Histogram or Boxplot</td>\n",
       "    </tr>\n",
       "    <tr>\n",
       "      <th>3-Month Treasury C Minus FEDFUNDS</th>\n",
       "      <td>NaN</td>\n",
       "      <td>NaN</td>\n",
       "      <td>NaN</td>\n",
       "      <td>Right Skewed, Heavy Tails</td>\n",
       "      <td>None</td>\n",
       "      <td>Histogram or Boxplot</td>\n",
       "    </tr>\n",
       "    <tr>\n",
       "      <th>6-Month Treasury C Minus FEDFUNDS</th>\n",
       "      <td>NaN</td>\n",
       "      <td>NaN</td>\n",
       "      <td>NaN</td>\n",
       "      <td>Right Skewed, Heavy Tails</td>\n",
       "      <td>None</td>\n",
       "      <td>Histogram or Boxplot</td>\n",
       "    </tr>\n",
       "  </tbody>\n",
       "</table>\n",
       "<p>123 rows × 6 columns</p>\n",
       "</div>"
      ],
      "text/plain": [
       "                                           Skewness   Kurtosis   Variance  \\\n",
       "Reserves Of Depository Institutions        9.363761  90.642137   4.478166   \n",
       "Initial Claims                             9.234655  88.764637   0.280635   \n",
       "3-Month Commercial Paper Minus FEDFUNDS    8.597466  79.347578  53.504061   \n",
       "Civilian Unemployment Rate                 8.278302  76.650733   0.050298   \n",
       "Total Reserves of Depository Institutions  8.069044  69.974416   0.135457   \n",
       "...                                             ...        ...        ...   \n",
       "New Private Housing Permits, South (SAAR) -0.032587   1.275268    0.00763   \n",
       "Avg Weekly Overtime Hours : Manufacturing  0.032051   2.706913   0.002528   \n",
       "Personal Cons. Exp: Services              -0.021387   1.550381   0.000011   \n",
       "3-Month Treasury C Minus FEDFUNDS               NaN        NaN        NaN   \n",
       "6-Month Treasury C Minus FEDFUNDS               NaN        NaN        NaN   \n",
       "\n",
       "                                                      Interpretation  \\\n",
       "Reserves Of Depository Institutions        Right Skewed, Heavy Tails   \n",
       "Initial Claims                             Right Skewed, Heavy Tails   \n",
       "3-Month Commercial Paper Minus FEDFUNDS    Right Skewed, Heavy Tails   \n",
       "Civilian Unemployment Rate                 Right Skewed, Heavy Tails   \n",
       "Total Reserves of Depository Institutions  Right Skewed, Heavy Tails   \n",
       "...                                                              ...   \n",
       "New Private Housing Permits, South (SAAR)         Fairly Symmetrical   \n",
       "Avg Weekly Overtime Hours : Manufacturing         Fairly Symmetrical   \n",
       "Personal Cons. Exp: Services                      Fairly Symmetrical   \n",
       "3-Month Treasury C Minus FEDFUNDS          Right Skewed, Heavy Tails   \n",
       "6-Month Treasury C Minus FEDFUNDS          Right Skewed, Heavy Tails   \n",
       "\n",
       "                                               Transformation  \\\n",
       "Reserves Of Depository Institutions        Square Root or Log   \n",
       "Initial Claims                             Square Root or Log   \n",
       "3-Month Commercial Paper Minus FEDFUNDS    Square Root or Log   \n",
       "Civilian Unemployment Rate                 Square Root or Log   \n",
       "Total Reserves of Depository Institutions  Square Root or Log   \n",
       "...                                                       ...   \n",
       "New Private Housing Permits, South (SAAR)                None   \n",
       "Avg Weekly Overtime Hours : Manufacturing                None   \n",
       "Personal Cons. Exp: Services                             None   \n",
       "3-Month Treasury C Minus FEDFUNDS                        None   \n",
       "6-Month Treasury C Minus FEDFUNDS                        None   \n",
       "\n",
       "                                                  Visualization  \n",
       "Reserves Of Depository Institutions        Boxplot for Outliers  \n",
       "Initial Claims                             Boxplot for Outliers  \n",
       "3-Month Commercial Paper Minus FEDFUNDS    Boxplot for Outliers  \n",
       "Civilian Unemployment Rate                 Boxplot for Outliers  \n",
       "Total Reserves of Depository Institutions  Boxplot for Outliers  \n",
       "...                                                         ...  \n",
       "New Private Housing Permits, South (SAAR)  Histogram or Boxplot  \n",
       "Avg Weekly Overtime Hours : Manufacturing  Histogram or Boxplot  \n",
       "Personal Cons. Exp: Services               Histogram or Boxplot  \n",
       "3-Month Treasury C Minus FEDFUNDS          Histogram or Boxplot  \n",
       "6-Month Treasury C Minus FEDFUNDS          Histogram or Boxplot  \n",
       "\n",
       "[123 rows x 6 columns]"
      ]
     },
     "execution_count": 36,
     "metadata": {},
     "output_type": "execute_result"
    }
   ],
   "source": [
    "def calculate_distribution_stats(df):\n",
    "    # Calculate skewness, kurtosis, and variance for each column\n",
    "    \n",
    "    stats_df = pd.DataFrame(index=df.columns, \n",
    "                            columns=['Skewness', 'Kurtosis', 'Variance', \n",
    "                                     'Interpretation', 'Transformation', 'Visualization'])\n",
    "\n",
    "    for column in df.columns:\n",
    "        stats_df.at[column, 'Skewness'] = df[column].skew()\n",
    "        stats_df.at[column, 'Kurtosis'] = df[column].kurtosis()\n",
    "        stats_df.at[column, 'Variance'] = df[column].var()\n",
    "\n",
    "        # Interpretation of skewness and kurtosis\n",
    "        skew = stats_df.at[column, 'Skewness']\n",
    "        kurt = stats_df.at[column, 'Kurtosis']\n",
    "        transformation = \"None\"\n",
    "        log_transformation = \"None\"\n",
    "        visualization = \"Histogram or Boxplot\"\n",
    "\n",
    "        if np.abs(skew) < 0.5:\n",
    "            interpretation = 'Fairly Symmetrical'\n",
    "            if df[column].min() >= 0:\n",
    "                transformation = 'Log'\n",
    "        elif skew >= 0.5:\n",
    "            interpretation = 'Right Skewed'\n",
    "            transformation = 'Square Root or Log'\n",
    "        elif skew <= -0.5:\n",
    "            interpretation = 'Left Skewed'\n",
    "            transformation = 'Square or Cube'\n",
    "\n",
    "        if kurt > 3:\n",
    "            interpretation += \", Heavy Tails\"\n",
    "            visualization = \"Boxplot for Outliers\"\n",
    "\n",
    "        stats_df.at[column, 'Interpretation'] = interpretation\n",
    "        stats_df.at[column, 'Transformation'] = transformation\n",
    "        stats_df.at[column, 'Visualization'] = visualization\n",
    "\n",
    "    # Sort the DataFrame based on the absolute skewness\n",
    "    stats_df['Absolute Skewness'] = stats_df['Skewness'].abs()\n",
    "    sorted_stats = stats_df.sort_values(by='Absolute Skewness', ascending=False)\n",
    "\n",
    "    return sorted_stats.drop('Absolute Skewness', axis=1)\n",
    "\n",
    "# Example usage with your DataFrame\n",
    "distribution_stats = calculate_distribution_stats(fred_quarterly_rate_of_change)\n",
    "distribution_stats\n"
   ]
  },
  {
   "cell_type": "code",
   "execution_count": 37,
   "metadata": {},
   "outputs": [],
   "source": [
    "# def transform(column, transformation_code):\n",
    "#     \"\"\"\n",
    "#     Applies the specified transformation to a Pandas Series.\n",
    "#     Transformation Codes from FRED suggested Description:\n",
    "#     1. No Transformation, 2. First Difference, 3. Second Difference,\n",
    "#     4. Log Transformation, 5. Log First Difference, 6. Log Second Difference,\n",
    "#     7. Exact Percent Change\n",
    "#     \"\"\"\n",
    "#     # Multiplier for quarterly data; if data is quarterly, multiply by 4, else 1\n",
    "#     mult = 4 if column.index.freqstr[0] == 'Q' else 1\n",
    "\n",
    "#     if transformation_code == 1:\n",
    "#         # No transformation, return the column as is\n",
    "#         return column\n",
    "#     if transformation_code == 2:\n",
    "#         # First Difference: Subtract each element from its predecessor\n",
    "#         # Useful for converting a series to its change values\n",
    "#         return column.diff()\n",
    "#     if transformation_code == 3:\n",
    "#         # Second Difference: Apply first difference twice\n",
    "#         # Useful when first difference is insufficient to achieve stationarity\n",
    "#         return column.diff().diff()\n",
    "#     if transformation_code == 4:\n",
    "#         # Log Transformation: Apply natural logarithm\n",
    "#         # Useful for data with exponential growth patterns\n",
    "#         return np.log(column)\n",
    "#     if transformation_code == 5:\n",
    "#         # Log First Difference: Apply log transformation, then first difference\n",
    "#         # Multiplied by 100 for percentage change, especially useful for financial data\n",
    "#         return np.log(column).diff() * 100 * mult\n",
    "#     if transformation_code == 6:\n",
    "#         # Log Second Difference: Apply log transformation, then second difference\n",
    "#         # Similar to Code 5 but provides a more refined measure of change\n",
    "#         return np.log(column).diff().diff() * 100 * mult\n",
    "#     if transformation_code == 7:\n",
    "#         # Exact Percent Change: Calculate the percentage change from one period to the next\n",
    "#         # Useful for directly understanding growth rates\n",
    "#         return ((column / column.shift(1))**mult - 1.0) * 100\n"
   ]
  },
  {
   "cell_type": "code",
   "execution_count": 38,
   "metadata": {},
   "outputs": [],
   "source": [
    "\n",
    "# # Transformation Code 5 for 'PCE', and Code 6 for the rest\n",
    "# pce_df_transformed = pce_df.apply(lambda col: transform(col, 5 if col.name == 'PCE' else 6))\n",
    "# # Apply log transformations using original column names according to FRED guidelines\n",
    "# # fred_log_transform = fred_quarterly_rate_of_change.apply(lambda col: transform(col, transform_info[col.name][0]))\n",
    "# pce_df_transformed"
   ]
  },
  {
   "cell_type": "code",
   "execution_count": 39,
   "metadata": {},
   "outputs": [],
   "source": [
    "# # Create an empty DataFrame to store the transformed data\n",
    "# fred_log_transform = pd.DataFrame(index=fred_quarterly_rate_of_change.index)\n",
    "\n",
    "# # Iterate through each column in fred_quarterly_rate_of_change\n",
    "# for column_name in fred_quarterly_rate_of_change.columns:\n",
    "#     # Fetch the transformation code for the current column from transform_info\n",
    "#     transformation_code = transform_info.at[0, column_name]\n",
    "\n",
    "#     # Apply the transformation using the transform function\n",
    "#     transformed_column = transform(fred_quarterly_rate_of_change[column_name], transformation_code)\n",
    "\n",
    "#     # Store the transformed column in the new DataFrame\n",
    "#     fred_log_transform[column_name] = transformed_column\n",
    "\n",
    "# fred_log_transform.head()"
   ]
  },
  {
   "cell_type": "markdown",
   "metadata": {},
   "source": [
    "<div style=\"color:#5F9EA0\">\n",
    "\n",
    "**Seasonal Adjustments**: \n",
    "- Adjust high-frequency data for seasonality, if necessary, to isolate the core economic trends from regular seasonal patterns. This step will make the data more representative of general economic behaviours, irrespective of seasonal influences."
   ]
  },
  {
   "cell_type": "code",
   "execution_count": null,
   "metadata": {},
   "outputs": [],
   "source": []
  },
  {
   "cell_type": "code",
   "execution_count": null,
   "metadata": {},
   "outputs": [],
   "source": []
  },
  {
   "cell_type": "code",
   "execution_count": null,
   "metadata": {},
   "outputs": [],
   "source": []
  },
  {
   "cell_type": "code",
   "execution_count": null,
   "metadata": {},
   "outputs": [],
   "source": []
  },
  {
   "cell_type": "code",
   "execution_count": null,
   "metadata": {},
   "outputs": [],
   "source": []
  },
  {
   "cell_type": "code",
   "execution_count": null,
   "metadata": {},
   "outputs": [],
   "source": []
  },
  {
   "cell_type": "code",
   "execution_count": 40,
   "metadata": {},
   "outputs": [
    {
     "ename": "SyntaxError",
     "evalue": "invalid syntax (987332267.py, line 1)",
     "output_type": "error",
     "traceback": [
      "\u001b[0;36m  Cell \u001b[0;32mIn[40], line 1\u001b[0;36m\u001b[0m\n\u001b[0;31m    **Standardisation of Growth Rates**: Standardizing growth rates enables us to compare different economic indicators on a common scale, facilitating a more meaningful analysis across various data points.\u001b[0m\n\u001b[0m    ^\u001b[0m\n\u001b[0;31mSyntaxError\u001b[0m\u001b[0;31m:\u001b[0m invalid syntax\n"
     ]
    }
   ],
   "source": [
    "**Standardisation of Growth Rates**: Standardizing growth rates enables us to compare different economic indicators on a common scale, facilitating a more meaningful analysis across various data points."
   ]
  },
  {
   "cell_type": "markdown",
   "metadata": {},
   "source": [
    "<div style=\"color:#5F9EA0\">\n",
    "\n",
    "### Quality Assurance"
   ]
  },
  {
   "cell_type": "markdown",
   "metadata": {},
   "source": [
    "\n",
    "**Final anomaly Detection and Correction**: Employing statistical methods to detect and correct anomalies ensures that our analysis is based on accurate and representative data, free from distortions that could lead to erroneous conclusions.\n",
    "\n",
    "**Consistency Checks**: Conducting thorough checks for data consistency, especially when integrating diverse data sources, is essential to validate the reliability and accuracy of our findings."
   ]
  },
  {
   "cell_type": "markdown",
   "metadata": {},
   "source": [
    "<div style=\"color:#5F9EA0\">\n",
    "\n",
    "### Stationarity Assessment"
   ]
  },
  {
   "cell_type": "markdown",
   "metadata": {},
   "source": [
    "\n",
    "**Stationarity Assessment**: Using tests like the Augmented Dickey-Fuller ensures that our time series data is suitable for modelling and forecasting, as many statistical models require stationarity for valid results.\n",
    "\n",
    "**Addressing Non-Stationarity**: Techniques such as differencing or transformation will be applied to achieve stationarity, which is crucial for the accuracy and reliability of our predictive models and correlation analysis. "
   ]
  },
  {
   "cell_type": "markdown",
   "metadata": {},
   "source": [
    "<div style=\"color:#5F9EA0\">\n",
    "\n",
    "## 5. Analysis"
   ]
  },
  {
   "cell_type": "markdown",
   "metadata": {},
   "source": [
    "### 5.2 Exploratory Data Analysis (EDA)\n",
    "\n",
    "Performed early in the project to get an overview of the data's characteristics. This step is crucial for identifying the most relevant variables for analysis, understanding the data's basic structure, and ensuring that hypotheses are grounded in both statistical findings and economic logic.\n",
    "\n",
    "- **Technique**: Using statistical tools to summarise the data, visualising distributions with histograms, identifying correlations with scatter plots, and detecting patterns and outliers with box plots.\n",
    "- **Objective**: To gain an initial understanding of data trends, outliers, and correlations and to identify any anomalies or irregularities that may influence further analysis. Hereafter we will incorporate economic theories to hypothesise potential relationships between variables."
   ]
  },
  {
   "cell_type": "markdown",
   "metadata": {},
   "source": [
    "\n",
    "\n",
    "5.3 Seasonality Adjustment Analysis\n",
    "\n",
    "Conducted post-EDA to refine the data for more accurate correlation analysis. Seasonality adjustment is essential for preventing seasonal patterns from distorting the true economic trends.\n",
    "\n",
    "- \n",
    "- **Technique**: Applying time-series decomposition methods to separate the data into trend, seasonal, and residual components and then adjusting for these seasonal effects.\n",
    "- **Objective**: To accurately capture the underlying trends in consumer spending by removing repetitive seasonal patterns, which are regular but not necessarily related to the economic indicators of interest. *While crucial, we have to ensure this doesn't lead to an overly complex focus on time-series analysis techniques unless they are directly relevant to identifying proxies.*\n",
    "\n"
   ]
  },
  {
   "cell_type": "markdown",
   "metadata": {},
   "source": [
    "5.4 Correlation and Proxy Validation Analysis\n",
    "\n",
    "Implemented after seasonality adjustments to ensure that the relationships being analysed and the proxies being identified are not influenced by seasonal fluctuations and confirm that identified relationships are economically plausible as well as statistically significant.\n",
    "\n",
    "- **Technique**: Calculating Pearson or Spearman correlation coefficients to quantify the strength and direction of the relationship between different variables. Scatter plots will be used for a more nuanced view of these relationships.\n",
    "- **Objective**: To identify which monthly indicators from the high-frequency dataset show a strong and statistically significant correlation with quarterly consumer spending figures. Economic theory will be applied to interpret these correlations, ensuring they align with established economic principles and behaviors.\n",
    "\n"
   ]
  },
  {
   "cell_type": "markdown",
   "metadata": {},
   "source": [
    "5.5 Comparative and Temporal Analysis\n",
    "\n",
    "Undertaken after correlation analysis to delve deeper into the dynamics of the relationships between consumer spending and the identified proxies, providing insights into potential causative or predictive trends.\n",
    "\n",
    "**Lead and Lag Analysis**:\n",
    "\n",
    "- **Technique**: Analysing the time-shifted relationships between consumer spending and the proxies to identify if any indicators consistently lead or lag behind consumer spending patterns.\n",
    "- **Objective**: To discover predictive relationships where certain proxies might signal changes in consumer spending ahead of time or respond with a delay. *While relevant, the Lead and Lag Analysis could become complex and time-consuming. We need to ensure that it directly contributes to the goal of identifying proxies.*\n",
    "\n",
    "**Consumer Behaviour Indicators Correlation**:\n",
    "\n",
    "- **Technique**: Using scatter plots and heatmaps to examine how different indicators relate to consumer spending visually.\n",
    "- **Objective**: To explore more complex relationships between consumer spending and various high-frequency proxies and to identify patterns not evident in standard correlation analysis.\n",
    "\n"
   ]
  },
  {
   "cell_type": "markdown",
   "metadata": {},
   "source": [
    "### 5.6 Proxy Evaluation and Variable Selection\n",
    "\n",
    "Essential for finalising the selection of proxies, ensuring they are representative of consumer spending trends and robust under different conditions.\n",
    "\n",
    "**Variable Selection and Reduction**:\n",
    "\n",
    "- **Technique**: Selecting proxies based on correlation outcomes and economic rationale.\n",
    "- **Objective**: To focus on a select group of high-frequency proxies that most accurately reflect and predict trends in consumer spending.\n",
    "\n"
   ]
  },
  {
   "cell_type": "markdown",
   "metadata": {},
   "source": [
    "### 5.6 Regression Analysis and Uncertainty Assessment\n",
    "\n",
    "Performed as a concluding analytical step to provide a more nuanced understanding of how each identified proxy affects consumer spending. This step helps quantify the relationships discovered in earlier analyses.\n",
    "\n",
    "**Model Evaluation and Uncertainty Assessment**:\n",
    "\n",
    "- **Technique**: Utilizing advanced statistical techniques, such as bootstrapping or Monte Carlo simulations, to evaluate the robustness of the selected proxies.\n",
    "- **Objective**: To assess the reliability and stability of the chosen proxies under various economic scenarios and conditions. *Techniques like bootstrapping or Monte Carlo simulations might be more advanced than required for this project as the primary aim is to identify proxies rather than to build a predictive model.*\n",
    "\n",
    "**Regression Analysis**\n",
    "\n",
    "- **Technique**: Conduct linear regression analysis to quantify the impact of each selected proxy on consumer spending and assess the significance of regression coefficients.\n",
    "- **Objective**: To determine the strength and nature of the influence that each proxy has on consumer spending, thereby providing a quantitative measure of their relative importance."
   ]
  },
  {
   "cell_type": "code",
   "execution_count": null,
   "metadata": {},
   "outputs": [],
   "source": []
  },
  {
   "cell_type": "code",
   "execution_count": null,
   "metadata": {},
   "outputs": [],
   "source": []
  }
 ],
 "metadata": {
  "kernelspec": {
   "display_name": "Python (myenv)",
   "language": "python",
   "name": "myenv"
  },
  "language_info": {
   "codemirror_mode": {
    "name": "ipython",
    "version": 3
   },
   "file_extension": ".py",
   "mimetype": "text/x-python",
   "name": "python",
   "nbconvert_exporter": "python",
   "pygments_lexer": "ipython3",
   "version": "3.10.9"
  },
  "orig_nbformat": 4,
  "vscode": {
   "interpreter": {
    "hash": "eda7e54fe21129b67f77862937907ee926f057597a3e2fa1e18ac955e40912b3"
   }
  }
 },
 "nbformat": 4,
 "nbformat_minor": 2
}
