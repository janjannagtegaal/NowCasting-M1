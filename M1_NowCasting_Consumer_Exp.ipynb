{
 "cells": [
  {
   "cell_type": "markdown",
   "metadata": {},
   "source": [
    "<div style=\"color:#00BFFF\">\n",
    "\n",
    "# Nowcasting Consumer Expenditure: "
   ]
  },
  {
   "cell_type": "markdown",
   "metadata": {},
   "source": [
    "<div style=\"color:#00BFFF\">\n",
    "\n",
    "## Uncovering Reliable Proxies for Consumer Spending Behaviour. "
   ]
  },
  {
   "cell_type": "markdown",
   "metadata": {},
   "source": [
    "**1.1. Introduction: The Problem (Why)**\n",
    "\n",
    "The current quarterly GDP reports lag in reflecting the dynamic changes in the economy, impacting decision-makers who rely on timely economic data. This project is devised to mitigate this issue by identifying high-frequency, readily updated data proxies that offer quicker insights into consumer expenditure patterns.\n",
    "\n",
    "**1.2. Project Scope and Objectives (What)**\n",
    "\n",
    "The project's primary objective is to systematically identify, harmonise, and validate high-frequency data sources as proxies for real-time tracking of consumer expenditure in the United States. The goal is to refine these proxies to provide more immediate data on consumer spending habits, thus bridging the gap caused by the delayed reporting of official GDP figures.\n",
    "\n",
    "**Key Questions:**\n",
    "\n",
    "- Which high-frequency data sources can serve as accurate proxies for consumer spending?\n",
    "- How can we validate these proxies against established measures of consumer expenditure?\n",
    "- What techniques can we employ to ensure these proxies offer immediate and reliable insights into current consumer spending trends?\n",
    "- How will we address potential discrepancies between different data sources in terms of scale, units, or reporting standards?\n",
    "- Are there any unforeseen challenges in harmonizing data frequencies (monthly vs. quarterly) that could impact the accuracy of our analysis?\n",
    "- How can we ensure the economic relevance of our findings, beyond statistical correlations?\n",
    "- What contingency plans do we have for dealing with data anomalies or irregularities that might skew our analysis?\n",
    "\n",
    "**1.3. Methodology**\n",
    "\n",
    "The methodology is designed to focus on data preparation and validation:\n",
    "\n",
    "- **Exploratory Data Analysis (EDA)**: To understand the characteristics and quality of the high-frequency monthly indicators and their initial relationships to consumer spending.\n",
    "- **Data Harmonization**: To transform and align the monthly indicators with the quarterly GDP data, using log transformations and adjustments for seasonality and rate of change.\n",
    "- **Proxy Validation**: To establish a correlation with established measures of consumer spending through statistical analysis, ensuring that the proxies are reliable and relevant.\n",
    "\n",
    "**1.4. Assumptions**\n",
    "\n",
    "**Data Quality and Relevance:** We operate under the assumption that the high-frequency data from FRED and other sources accurately reflect current economic trends and consumer sentiments. However, there is an inherent risk of data bias or inaccuracy, which could impact the reliability of our findings.\n",
    "\n",
    "**Predictive Power and Relevance:** While we aim to identify effective proxies for consumer expenditure, there's a risk that these proxies may not fully capture the complexities of consumer behaviour or may not adapt swiftly to sudden economic shifts.\n",
    "\n",
    "**External Factors:** The project also assumes a stable economic environment. Sudden external shocks (like global events or policy changes) could significantly affect consumer behaviour, potentially reducing the predictive accuracy of our proxies.  \n",
    "\n"
   ]
  },
  {
   "cell_type": "markdown",
   "metadata": {},
   "source": [
    "#### 2. Primary Dataset Description\n",
    "\n",
    "**Short Description:** The primary dataset is \"Table 1.1.5. Gross Domestic Product\" from the U.S. Bureau of Economic Analysis. It comprises seasonally adjusted quarterly U.S. Gross Domestic Product (GDP) rates in billions of dollars.\n",
    "\n",
    "**Relevance:** The dataset's detailed information on U.S. GDP over several years is integral to the project's goal of nowcasting consumption. The data's granularity and time-series nature will allow for comprehensive analysis and identification of trends, making it pivotal for the project's success.\n",
    "\n",
    "**Data frequency:** The data reflecting the economic output of the United States is crucial for analyzing economic trends and growth patterns. The presentation of data is done quarterly by the GDP component.\n",
    "\n",
    "**Location:** Available at [U.S. Bureau of Economic Analysis](https://apps.bea.gov/iTable/?reqid=19&step=2&isuri=1&categories=survey&_gl=1*j1lvlb*_ga*MTk0MDMyMjk0MC4xNzA1NDk1NTk4*_ga_J4698JNNFT*MTcwNTQ5NTU5OC4xLjEuMTcwNTQ5NzA2MC42MC4wLjA.#eyJhcHBpZCI6MTksInN0ZXBzIjpbMSwyLDMsM10sImRhdGEiOltbImNhdGVnb3JpZXMiLCJTdXJ2ZXkiXSxbIk5JUEFfVGFibGVfTGlzdCIsIjUiXSxbIkZpcnN0X1llYXIiLCIxOTQ3Il0sWyJMYXN0X1llYXIiLCIyMDIzIl0sWyJTY2FsZSIsIi05Il0sWyJTZXJpZXMiLCJRIl1dfQ==). ([BEA](https://apps.bea.gov/iTable/?reqid=19&step=2&isuri=1&categories=survey&_gl=1*j1lvlb*_ga*MTk0MDMyMjk0MC4xNzA1NDk1NTk4*_ga_J4698JNNFT*MTcwNTQ5NTU5OC4xLjEuMTcwNTQ5NzA2MC42MC4wLjA.#eyJhcHBpZCI6MTksInN0ZXBzIjpbMSwyLDMsM10sImRhdGEiOltbImNhdGVnb3JpZXMiLCJTdXJ2ZXkiXSxbIk5JUEFfVGFibGVfTGlzdCIsIjUiXSxbIkZpcnN0X1llYXIiLCIxOTQ3Il0sWyJMYXN0X1llYXIiLCIyMDIzIl0sWyJTY2FsZSIsIi05Il0sWyJTZXJpZXMiLCJRIl1dfQ==))\n",
    "\n",
    "**Format:** CSV\n",
    "\n",
    "**Access Method:** The dataset is readily available and can be easily accessed and downloaded directly from the U.S. Bureau of Economic Analysis website.\n"
   ]
  },
  {
   "cell_type": "markdown",
   "metadata": {},
   "source": [
    "#### 3 Secondary Datasets\n",
    "\n",
    "##### Federal Reserve Economic Data (FRED)\n",
    "\n",
    "**Short Description:** This dataset is sourced from the Federal Reserve Bank of St. Louis's FRED macroeconomic database. It contains a variety of economic data points available at monthly intervals, with a particular focus on US GDP data. The data covers consumer spending indicators, a crucial component of the Gross Domestic Product (GDP).\n",
    "\n",
    "**Relevance**: Complements the primary dataset with additional economic indicators, useful for cross-referencing and correlation analysis.\n",
    "\n",
    "**Data frequency:** The monthly frequency of this dataset provides a more detailed temporal resolution than the primary dataset, which may reveal more immediate economic trends. This granularity will be useful in identifying more immediate proxies for nowcasting.\n",
    "\n",
    "**Estimated Size**: 0.6MB\n",
    "\n",
    "**Location**: https://research.stlouisfed.org/econ/mccracken/fred-databases/\n",
    "\n",
    "**Format**: CSV.\n",
    "\n",
    "**Access Method**: Direct download."
   ]
  },
  {
   "cell_type": "markdown",
   "metadata": {},
   "source": [
    "<div style=\"color:#00BFFF\">\n",
    "\n",
    "## Setup Environment and import libraries"
   ]
  },
  {
   "cell_type": "code",
   "execution_count": 1,
   "metadata": {},
   "outputs": [],
   "source": [
    "# Activate the virtual environment by running in terminal: \n",
    "# python -m venv myenv\n",
    "# source myenv/bin/activate\n",
    "# ! source /myenv/bin/activate\n",
    "\n",
    "# ------- PIP INSTALLS -------\n",
    "# ! pip install --upgrade pip\n",
    "# ! pip install -r requirements.txt\n",
    "\n",
    "# Run the imports file\n",
    "%matplotlib inline"
   ]
  },
  {
   "cell_type": "code",
   "execution_count": 2,
   "metadata": {},
   "outputs": [],
   "source": [
    "# import nbformat\n",
    "# import os\n",
    "\n",
    "# def extract_imports_from_notebook(notebook_path):\n",
    "#     with open(notebook_path, 'r', encoding='utf-8') as file:\n",
    "#         nb = nbformat.read(file, as_version=4)\n",
    "\n",
    "#     imports = set()\n",
    "#     for cell in nb['cells']:\n",
    "#         if cell['cell_type'] == 'code':\n",
    "#             lines = cell['source'].split('\\n')\n",
    "#             for line in lines:\n",
    "#                 if line.startswith('import ') or ' import ' in line:\n",
    "#                     # Handle direct imports like 'import pandas'\n",
    "#                     if line.startswith('import '):\n",
    "#                         lib = line.split()[1].split('.')[0]\n",
    "#                         imports.add(lib)\n",
    "#                     # Handle from imports like 'from sklearn.linear_model import LinearRegression'\n",
    "#                     elif ' import ' in line:\n",
    "#                         lib = line.split()[1]\n",
    "#                         imports.add(lib)\n",
    "\n",
    "#     return imports\n",
    "\n",
    "# # Path to Jupyter notebook\n",
    "# notebook_path = './M1_NowCasting_Consumer_Exp.ipynb'\n",
    "# imports = extract_imports_from_notebook(notebook_path)\n",
    "\n",
    "# # Print out the unique imports and write to requirements.txt\n",
    "# print(\"Libraries to install:\")\n",
    "# with open('requirements.txt', 'w') as f:\n",
    "#     for lib in sorted(imports):\n",
    "#         print(lib)\n",
    "#         f.write(lib + '\\n')\n",
    "\n"
   ]
  },
  {
   "cell_type": "code",
   "execution_count": 3,
   "metadata": {},
   "outputs": [
    {
     "name": "stderr",
     "output_type": "stream",
     "text": [
      "/var/folders/30/bhymp02j1fb47cmvs80_1b4m0000gn/T/ipykernel_83712/1237996549.py:18: DeprecationWarning: \n",
      "Pyarrow will become a required dependency of pandas in the next major release of pandas (pandas 3.0),\n",
      "(to allow more performant data types, such as the Arrow string type, and better interoperability with other libraries)\n",
      "but was not found to be installed on your system.\n",
      "If this would cause problems for you,\n",
      "please provide us feedback at https://github.com/pandas-dev/pandas/issues/54466\n",
      "        \n",
      "  import pandas as pd\n"
     ]
    }
   ],
   "source": [
    "# ------- Standard Library Imports -------\n",
    "import os\n",
    "import json\n",
    "import re\n",
    "import textwrap\n",
    "import types\n",
    "import warnings\n",
    "import subprocess\n",
    "import base64\n",
    "import math\n",
    "import statistics\n",
    "from datetime import datetime\n",
    "from pprint import pprint\n",
    "from typing import List\n",
    "\n",
    "# ------- Third-Party Library Imports -------\n",
    "# Data handling and numerical operations\n",
    "import pandas as pd\n",
    "from pandas import NaT\n",
    "import numpy as np\n",
    "\n",
    "# File handling and environment\n",
    "import pyodbc\n",
    "\n",
    "# Utility and display modules\n",
    "from IPython.display import display, HTML\n",
    "\n",
    "# Visualizations\n",
    "import matplotlib.pyplot as plt\n",
    "import seaborn as sns\n",
    "\n",
    "# Remove warnings\n",
    "warnings.filterwarnings('ignore')\n",
    "\n",
    "# Set the display options\n",
    "pd.set_option('display.max_rows', None)  \n",
    "pd.set_option('display.max_columns', None)  \n",
    "pd.set_option('display.width', None)  \n",
    "pd.set_option('display.max_colwidth', None)  "
   ]
  },
  {
   "cell_type": "markdown",
   "metadata": {},
   "source": [
    "<div style=\"color:#00BFFF\">\n",
    "\n",
    "## Load and Pre Process BEAU Quarterly GDP dataset"
   ]
  },
  {
   "cell_type": "markdown",
   "metadata": {},
   "source": [
    "<div style=\"color:#5F9EA0;\">\n",
    "\n",
    "##### Loads and preprocesses\n"
   ]
  },
  {
   "cell_type": "markdown",
   "metadata": {},
   "source": [
    "**Loads and preprocesses** the GDP data from a CSV file. Process a DataFrame to create a structured description column.\n",
    "\n",
    "**Handling Missing Values**: Utilize median imputation for missing values, as it's less influenced by outliers and provides a more representative central tendency.\n",
    "\n",
    "**Outliers and Anomalies**: Apply Interquartile Range (IQR) or Z-score analysis to identify and address outliers. This step ensures the integrity of data by minimizing the impact of extreme values."
   ]
  },
  {
   "cell_type": "code",
   "execution_count": 4,
   "metadata": {},
   "outputs": [],
   "source": [
    "def load_and_preprocess_gdp_data(file_path):\n",
    "    \"\"\"\n",
    "    Loads and preprocesses the GDP data from a CSV file.\n",
    "    Args:file_path (str): The path to the CSV file containing GDP data.\n",
    "    Returns:pandas.DataFrame: Preprocessed GDP data.\n",
    "    \"\"\"\n",
    "\n",
    "    # Load the data with specified rows to skip and number of rows to read\n",
    "    pce_df = pd.read_csv(file_path, skiprows=3, nrows=28)\n",
    "\n",
    "    # Drop the first column (unnecessary or identifier column)\n",
    "    pce_df.drop(pce_df.columns[0], axis=1, inplace=True)\n",
    "\n",
    "    # Rename the first column as 'description'\n",
    "    pce_df.rename(columns={pce_df.columns[0]: 'description'}, inplace=True)\n",
    "\n",
    "    # Remove any characters after (and including) the \".\" in column names\n",
    "    pce_df.columns = pce_df.columns.str.replace(r'\\..*', '', regex=True)\n",
    "\n",
    "    # Concatenate the column names with the first row values, handling NaNs\n",
    "    pce_df.columns = pce_df.columns + \" \" + pce_df.iloc[0].fillna('')\n",
    "\n",
    "    # Drop the first row as it's now part of the column names\n",
    "    pce_df.drop(pce_df.index[0], inplace=True)\n",
    "\n",
    "    # Reset the index of the DataFrame\n",
    "    pce_df.reset_index(drop=True, inplace=True)\n",
    "\n",
    "    # Correct any trailing space issues in the 'description' column name\n",
    "    pce_df.rename(columns=lambda x: x.strip(), inplace=True)\n",
    "\n",
    "    return pce_df\n"
   ]
  },
  {
   "cell_type": "code",
   "execution_count": 5,
   "metadata": {},
   "outputs": [],
   "source": [
    "def create_structured_description(pce_df):\n",
    "    \"\"\"\n",
    "    Process a DataFrame to create a structured description column.\n",
    "    This function takes a DataFrame with a 'description' column and adds structure to it\n",
    "    based on indentation levels, indicating hierarchical relationships.\n",
    "    \"\"\"\n",
    "\n",
    "    # Function to determine the indentation level (number of leading spaces)\n",
    "    def indentation_level(s):\n",
    "        \"\"\"Return the number of leading spaces in a string, indicating the indentation level.\"\"\"\n",
    "        return len(s) - len(s.lstrip())\n",
    "\n",
    "    # Apply the function to find indentation levels\n",
    "    pce_df['indentation'] = pce_df['description'].apply(indentation_level)\n",
    "\n",
    "    # Initialize an empty list to store the new structured names\n",
    "    structured_names = []\n",
    "    current_parent = \"\"\n",
    "    current_subparent = \"\"\n",
    "\n",
    "    # Iterate through the DataFrame to construct the hierarchical names\n",
    "    for index, row in pce_df.iterrows():\n",
    "        if row['indentation'] == 0:\n",
    "            name = row['description'].strip()\n",
    "            current_parent = name\n",
    "        elif row['indentation'] == 4:\n",
    "            name = f\"{current_parent} : {row['description'].strip()}\"\n",
    "            current_subparent = row['description'].strip()\n",
    "        elif row['indentation'] == 8:\n",
    "            name = f\"{current_parent} : {current_subparent} : {row['description'].strip()}\"\n",
    "        else:\n",
    "            name = row['description'].strip()\n",
    "\n",
    "        structured_names.append(name)\n",
    "\n",
    "    # Assigning the structured names to the 'description' column\n",
    "    pce_df['description'] = structured_names\n",
    "\n",
    "    # Dropping the 'indentation' column as it's no longer needed\n",
    "    pce_df.drop('indentation', axis=1, inplace=True)\n",
    "\n",
    "    return pce_df\n"
   ]
  },
  {
   "cell_type": "code",
   "execution_count": 6,
   "metadata": {},
   "outputs": [],
   "source": [
    "\n",
    "def create_short_description(pce_df):\n",
    "    \"\"\"\n",
    "    Create a column 'short_description' in the gdp_df DataFrame with abbreviated descriptions.\n",
    "    Parameters:gdp_df (DataFrame): A DataFrame containing GDP data with a column 'description'.\n",
    "    Returns:DataFrame: The modified DataFrame including a new 'short_description' column.\n",
    "    \"\"\"\n",
    "    def abbreviate_description(desc):\n",
    "\n",
    "        # Define a mapping from full descriptions to their abbreviations\n",
    "        abbreviations = {\n",
    "            \"Gross domestic product\": \"GDP\",\n",
    "            \"Personal consumption expenditures\": \"PCE\",\n",
    "            \"Gross private domestic investment\": \"GPDI\",\n",
    "            \"Net exports of goods and services\": \"NXGS\",\n",
    "            \"Government consumption expenditures and gross investment\": \"GCEGI\",\n",
    "        }\n",
    "\n",
    "        # Split the description into parts and abbreviate each part\n",
    "        parts = desc.split(\" : \")\n",
    "        abbreviated_parts = [abbreviations.get(part, part) for part in parts]\n",
    "\n",
    "        # Join the abbreviated parts and replace spaces with underscores\n",
    "        abrev_descr = \"_\".join(abbreviated_parts).replace(' ', '_')\n",
    "        \n",
    "        # remove all leading \"_\" characters\n",
    "        abrev_descr = abrev_descr.lstrip('_')\n",
    "        \n",
    "        #remove leading and trailing spaces from the description column\n",
    "        abrev_descr = abrev_descr.strip()\n",
    "        \n",
    "        return abrev_descr\n",
    "\n",
    "    # Apply the abbreviation function to each description\n",
    "    pce_df['short_description'] = pce_df['description'].apply(abbreviate_description)\n",
    "    pce_df['description'] = pce_df['description'].str.lstrip(\" :\").str.strip()\n",
    "\n",
    "    # Insert the new column 'short_description' right after the 'description' column\n",
    "    description_index = pce_df.columns.get_loc(\"description\")\n",
    "    pce_df.insert(description_index + 1, 'short_description', pce_df.pop('short_description'))\n",
    "    \n",
    "    #drop the 'description' column\n",
    "    pce_df.drop('description', axis=1, inplace=True)\n",
    "    \n",
    "    #move last row to after 1st row fo readability\n",
    "    last_row = pce_df.iloc[-1].copy()\n",
    "    pce_df = pce_df.iloc[:-1]\n",
    "    pce_df = pd.concat([pce_df.iloc[:1], last_row.to_frame().T, pce_df.iloc[1:]]).reset_index(drop=True)\n",
    "\n",
    "    return pce_df\n"
   ]
  },
  {
   "cell_type": "code",
   "execution_count": 7,
   "metadata": {},
   "outputs": [],
   "source": [
    "def transform_date_formats(pce_df):\n",
    "    # Step 1: Extract only non-date columns\n",
    "    non_date_columns = pce_df.columns[:1]  # Assuming first column is non-date column\n",
    "\n",
    "    # Step 2: Extract and transform date columns\n",
    "    date_columns = pce_df.columns[1:]  # Date columns start from the 2nd column\n",
    "\n",
    "    # Function to convert quarter to last date of the quarter\n",
    "    def quarter_to_date(q):\n",
    "        year, quarter = q.split(' Q')\n",
    "        year = int(year)\n",
    "        if quarter == '1':\n",
    "            return f\"{year}-03-31\"\n",
    "        elif quarter == '2':\n",
    "            return f\"{year}-06-30\"\n",
    "        elif quarter == '3':\n",
    "            return f\"{year}-09-30\"\n",
    "        elif quarter == '4':\n",
    "            return f\"{year}-12-31\"\n",
    "\n",
    "    # Apply this function to each of the date columns\n",
    "    transformed_date_columns = [quarter_to_date(col) for col in date_columns]\n",
    "\n",
    "    # Step 3: Combine the columns back together\n",
    "    pce_df.columns = list(non_date_columns) + transformed_date_columns\n",
    "\n",
    "    # Transpose the dataset for easier manipulation (columns become rows)\n",
    "    pce_df = pce_df.set_index('short_description').transpose()\n",
    "\n",
    "    # Converting the index to datetime\n",
    "    pce_df.index = pd.to_datetime(pce_df.index)\n",
    "\n",
    "    pce_df.index.freq = 'Q'\n",
    "\n",
    "    # Convert all columns to numeric\n",
    "    for col in pce_df.columns:\n",
    "        pce_df[col] = pd.to_numeric(pce_df[col], errors='coerce')\n",
    "\n",
    "    return pce_df\n"
   ]
  },
  {
   "cell_type": "code",
   "execution_count": 8,
   "metadata": {},
   "outputs": [],
   "source": [
    "file_path = './data/bea/bea_usgdp.csv'\n",
    "pce_df = load_and_preprocess_gdp_data(file_path)\n",
    "\n",
    "pce_df = create_structured_description(pce_df)\n",
    "pce_df = create_short_description(pce_df)\n",
    "\n",
    "# extract only PCE data\n",
    "pce_df = pce_df[pce_df['short_description'].str.contains('PCE')]\n",
    "\n",
    "# Call the function with your DataFrame\n",
    "pce_df = transform_date_formats(pce_df)\n",
    "\n",
    "pce_df.to_csv('bea_pce.csv')"
   ]
  },
  {
   "cell_type": "markdown",
   "metadata": {},
   "source": [
    "<div style=\"color:#5F9EA0;\">\n",
    "\n",
    "##### Visualy inspect the data\n"
   ]
  },
  {
   "cell_type": "code",
   "execution_count": 9,
   "metadata": {},
   "outputs": [],
   "source": [
    "# Corrected function without the unnecessary to_timestamp() conversion\n",
    "def plot_time_series_with_iqr_and_extended_range_subplot(df, ax, column):\n",
    "    # Use the index as it is already in datetime format\n",
    "    datetime_index = df.index\n",
    "\n",
    "    # Calculate statistics\n",
    "    median = df[column].median()\n",
    "    std = df[column].std()\n",
    "    Q1 = df[column].quantile(0.25)\n",
    "    Q3 = df[column].quantile(0.75)\n",
    "    IQR = Q3 - Q1\n",
    "    lower_whisker = median - 2.698 * std\n",
    "    upper_whisker = median + 2.698 * std\n",
    "    \n",
    "    # Plot the time series line graph\n",
    "    ax.plot(datetime_index, df[column], marker='o', markersize=3, color='black', linewidth=1, label='PCE')\n",
    "\n",
    "    # Shade the IQR\n",
    "    ax.fill_between(datetime_index, Q1, Q3, color='grey', alpha=0.4, label='IQR')\n",
    "    \n",
    "    # Shade the extended range\n",
    "    ax.fill_between(datetime_index, lower_whisker, upper_whisker, color='lightgrey', alpha=0.3, label='Extended Range')\n",
    "    \n",
    "    # Mark potential outliers\n",
    "    outliers = df[column][(df[column] < lower_whisker) | (df[column] > upper_whisker)]\n",
    "    ax.scatter(outliers.index, outliers, color='red', zorder=5, label='Outliers')\n",
    "\n",
    "    # Add median line\n",
    "    ax.axhline(median, color='darkgreen', linestyle='--', linewidth=1.0, label='Median')\n",
    "    \n",
    "    # Add upper and lower whiskers lines\n",
    "    ax.axhline(upper_whisker, color='grey', linestyle='--', linewidth=1, label='Upper Whisker')\n",
    "    ax.axhline(lower_whisker, color='grey', linestyle='--', linewidth=1, label='Lower Whisker')\n",
    "\n",
    "    # Add labels and legend\n",
    "    ax.set_xlabel('Time')\n",
    "    ax.set_ylabel(column)\n",
    "    ax.set_title(f'{column}')\n",
    "    ax.legend(bbox_to_anchor=(1.05, 1), loc='upper left')\n",
    "    ax.grid(False)\n",
    "    \n",
    "def plot_stacked_area_chart(data, ax):\n",
    "    # Plotting the stacked area chart for specified columns\n",
    "    ax.stackplot(data.index, data['PCE_Goods_Durable_goods'], data['PCE_Goods_Nondurable_goods'], data['PCE_Services'], \n",
    "                 labels=['PCE_Goods_Durable_goods', 'PCE_Goods_Nondurable_goods', 'PCE_Services'], \n",
    "                 alpha=0.5)\n",
    "\n",
    "    # Add labels and legend\n",
    "    ax.set_xlabel('Time')\n",
    "    ax.set_ylabel('Expenditure')\n",
    "    ax.set_title('Stacked Area Chart of PCE Components')\n",
    "    ax.legend(loc='upper left')\n",
    "    ax.grid(False)\n"
   ]
  },
  {
   "cell_type": "markdown",
   "metadata": {},
   "source": [
    "The rate of change is typically calculated as \n",
    "(\n",
    "Current Value\n",
    "−\n",
    "Previous Value\n",
    "Previous Value\n",
    ")\n",
    "×\n",
    "100\n",
    "%\n",
    "( \n",
    "Previous Value\n",
    "Current Value−Previous Value\n",
    "​\t\n",
    " )×100%, which can be easily computed using the pct_change() function in pandas, and then multiplying by 100 to convert it to a percentage."
   ]
  },
  {
   "cell_type": "code",
   "execution_count": 10,
   "metadata": {},
   "outputs": [
    {
     "data": {
      "image/png": "[encoded data removed]",
      "text/plain": [
       "<Figure size 1400x500 with 2 Axes>"
      ]
     },
     "metadata": {},
     "output_type": "display_data"
    },
    {
     "data": {
      "image/png": "[encoded data removed]",
      "text/plain": [
       "<Figure size 1800x500 with 3 Axes>"
      ]
     },
     "metadata": {},
     "output_type": "display_data"
    },
    {
     "data": {
      "text/html": [
       "<div>\n",
       "<style scoped>\n",
       "    .dataframe tbody tr th:only-of-type {\n",
       "        vertical-align: middle;\n",
       "    }\n",
       "\n",
       "    .dataframe tbody tr th {\n",
       "        vertical-align: top;\n",
       "    }\n",
       "\n",
       "    .dataframe thead th {\n",
       "        text-align: right;\n",
       "    }\n",
       "</style>\n",
       "<table border=\"1\" class=\"dataframe\">\n",
       "  <thead>\n",
       "    <tr style=\"text-align: right;\">\n",
       "      <th>short_description</th>\n",
       "      <th>PCE</th>\n",
       "      <th>PCE_Goods_Durable_goods</th>\n",
       "      <th>PCE_Goods_Nondurable_goods</th>\n",
       "      <th>PCE_Services</th>\n",
       "    </tr>\n",
       "    <tr>\n",
       "      <th>short_description</th>\n",
       "      <th></th>\n",
       "      <th></th>\n",
       "      <th></th>\n",
       "      <th></th>\n",
       "    </tr>\n",
       "  </thead>\n",
       "  <tbody>\n",
       "    <tr>\n",
       "      <th>PCE</th>\n",
       "      <td>1.000000</td>\n",
       "      <td>0.991587</td>\n",
       "      <td>0.998508</td>\n",
       "      <td>0.999515</td>\n",
       "    </tr>\n",
       "    <tr>\n",
       "      <th>PCE_Goods_Durable_goods</th>\n",
       "      <td>0.991587</td>\n",
       "      <td>1.000000</td>\n",
       "      <td>0.992201</td>\n",
       "      <td>0.987662</td>\n",
       "    </tr>\n",
       "    <tr>\n",
       "      <th>PCE_Goods_Nondurable_goods</th>\n",
       "      <td>0.998508</td>\n",
       "      <td>0.992201</td>\n",
       "      <td>1.000000</td>\n",
       "      <td>0.996748</td>\n",
       "    </tr>\n",
       "    <tr>\n",
       "      <th>PCE_Services</th>\n",
       "      <td>0.999515</td>\n",
       "      <td>0.987662</td>\n",
       "      <td>0.996748</td>\n",
       "      <td>1.000000</td>\n",
       "    </tr>\n",
       "  </tbody>\n",
       "</table>\n",
       "</div>"
      ],
      "text/plain": [
       "short_description                PCE  PCE_Goods_Durable_goods  \\\n",
       "short_description                                               \n",
       "PCE                         1.000000                 0.991587   \n",
       "PCE_Goods_Durable_goods     0.991587                 1.000000   \n",
       "PCE_Goods_Nondurable_goods  0.998508                 0.992201   \n",
       "PCE_Services                0.999515                 0.987662   \n",
       "\n",
       "short_description           PCE_Goods_Nondurable_goods  PCE_Services  \n",
       "short_description                                                     \n",
       "PCE                                           0.998508      0.999515  \n",
       "PCE_Goods_Durable_goods                       0.992201      0.987662  \n",
       "PCE_Goods_Nondurable_goods                    1.000000      0.996748  \n",
       "PCE_Services                                  0.996748      1.000000  "
      ]
     },
     "execution_count": 10,
     "metadata": {},
     "output_type": "execute_result"
    }
   ],
   "source": [
    "# Calculate the rate of change for each column\n",
    "pce_real_growth = pce_df.pct_change().dropna() * 100\n",
    "\n",
    "# Selecting the relevant columns for correlation\n",
    "columns_for_correlation = ['PCE', 'PCE_Goods_Durable_goods', 'PCE_Goods_Nondurable_goods', 'PCE_Services']\n",
    "correlation_data = pce_df[columns_for_correlation]\n",
    "\n",
    "# Plot stacked area chart and time series with IQR and extended range\n",
    "fig, axs = plt.subplots(1, 2, figsize=(14, 5))\n",
    "fig.tight_layout(pad=4.0)\n",
    "plot_stacked_area_chart(pce_df, axs[0])\n",
    "plot_time_series_with_iqr_and_extended_range_subplot(pce_real_growth, axs[1], 'PCE')\n",
    "axs[1].set_title('Rate of Change for PCE')\n",
    "plt.show()\n",
    "\n",
    "# Plot scatter plots with regression lines\n",
    "fig, axs = plt.subplots(1, 3, figsize=(18, 5))\n",
    "components = ['PCE_Goods_Durable_goods', 'PCE_Goods_Nondurable_goods', 'PCE_Services']\n",
    "for i, component in enumerate(components):\n",
    "    sns.regplot(x=component, y='PCE', data=correlation_data, ax=axs[i])\n",
    "    axs[i].set_title(f'Scatter Plot of {component} vs PCE')\n",
    "    axs[i].set_xlabel(component)\n",
    "    axs[i].set_ylabel('PCE')\n",
    "plt.tight_layout()\n",
    "plt.show()\n",
    "\n",
    "# Display the correlation matrix\n",
    "correlation_matrix = correlation_data.corr()\n",
    "correlation_matrix"
   ]
  },
  {
   "cell_type": "markdown",
   "metadata": {},
   "source": [
    "**Interpretation of Scatter Plots with Regression Lines:**\n",
    "\n",
    "Scatter plots with regression lines for each component ('PCE_Goods_Durable_goods', 'PCE_Goods_Nondurable_goods', 'PCE_Services') against 'PCE' illustrate the linear relationships between these components and the total PCE. The regression lines provide a visual indicator of the direction, strength, and linearity of these relationships.\n",
    "\n",
    "**Interpretation of the Correlation Matrix:**\n",
    "\n",
    "The correlation matrix, particularly its visualization through the heatmap, shows the Pearson correlation coefficients between 'PCE' and its components. The coefficients near 1 indicate a very strong positive linear relationship. Specifically:"
   ]
  },
  {
   "cell_type": "markdown",
   "metadata": {},
   "source": [
    "<div style=\"color:#5F9EA0\">\n",
    "\n",
    "#### Remove Outliers"
   ]
  },
  {
   "cell_type": "markdown",
   "metadata": {},
   "source": [
    "\n",
    "- To carry out this outlier removal, we've created a function named `pce_remove_outliers`. \n",
    "- This function identifies extreme values and replaces them with NaN (missing values). It also keeps track of the year in which each extreme value was removed."
   ]
  },
  {
   "cell_type": "code",
   "execution_count": 11,
   "metadata": {},
   "outputs": [
    {
     "name": "stdout",
     "output_type": "stream",
     "text": [
      "No extreme values for PCE\n",
      "No extreme values for PCE_Goods\n",
      "No extreme values for PCE_Goods_Durable_goods\n",
      "No extreme values for PCE_Goods_Nondurable_goods\n",
      "No extreme values for PCE_Services\n"
     ]
    }
   ],
   "source": [
    "def pce_remove_outliers(data):\n",
    "    \"\"\"\n",
    "    Replaces outliers in a DataFrame with NaN based on IQR.\n",
    "    \"\"\"\n",
    "    Q1 = data.quantile(0.25)\n",
    "    Q3 = data.quantile(0.75)\n",
    "    IQR = Q3 - Q1\n",
    "\n",
    "    # Define the mask using the typical IQR criterion\n",
    "    mask = (data < (Q1 - 1.5 * IQR)) | (data > (Q3 + 1.5 * IQR))\n",
    "\n",
    "    # Replace extreme values with NaN and store the corresponding values\n",
    "    extreme_values = {}\n",
    "    for column in data.columns:\n",
    "        extreme_values[column] = data[column][mask[column]].dropna().reset_index()\n",
    "\n",
    "    data[mask] = np.nan\n",
    "    return data, extreme_values\n",
    "\n",
    "# Call the function\n",
    "fred_orig, extreme_values = pce_remove_outliers(pce_df)\n",
    "\n",
    "# Print the column names and values where outliers were found\n",
    "for column, values_df in extreme_values.items():\n",
    "    if not values_df.empty:\n",
    "        print(f\"Extreme values for {column}:\")\n",
    "        print(values_df)\n",
    "    else:\n",
    "        print(f\"No extreme values for {column}\")\n"
   ]
  },
  {
   "cell_type": "code",
   "execution_count": 12,
   "metadata": {},
   "outputs": [
    {
     "data": {
      "text/html": [
       "<div>\n",
       "<style scoped>\n",
       "    .dataframe tbody tr th:only-of-type {\n",
       "        vertical-align: middle;\n",
       "    }\n",
       "\n",
       "    .dataframe tbody tr th {\n",
       "        vertical-align: top;\n",
       "    }\n",
       "\n",
       "    .dataframe thead th {\n",
       "        text-align: right;\n",
       "    }\n",
       "</style>\n",
       "<table border=\"1\" class=\"dataframe\">\n",
       "  <thead>\n",
       "    <tr style=\"text-align: right;\">\n",
       "      <th>short_description</th>\n",
       "      <th>PCE</th>\n",
       "      <th>PCE_Goods</th>\n",
       "      <th>PCE_Goods_Durable_goods</th>\n",
       "      <th>PCE_Goods_Nondurable_goods</th>\n",
       "      <th>PCE_Services</th>\n",
       "    </tr>\n",
       "  </thead>\n",
       "  <tbody>\n",
       "    <tr>\n",
       "      <th>2023-03-31</th>\n",
       "      <td>18269.6</td>\n",
       "      <td>6133.8</td>\n",
       "      <td>2194.9</td>\n",
       "      <td>3939.0</td>\n",
       "      <td>12135.7</td>\n",
       "    </tr>\n",
       "    <tr>\n",
       "      <th>2023-06-30</th>\n",
       "      <td>18419.0</td>\n",
       "      <td>6144.7</td>\n",
       "      <td>2193.6</td>\n",
       "      <td>3951.1</td>\n",
       "      <td>12274.4</td>\n",
       "    </tr>\n",
       "    <tr>\n",
       "      <th>2023-09-30</th>\n",
       "      <td>18679.5</td>\n",
       "      <td>6231.8</td>\n",
       "      <td>2204.5</td>\n",
       "      <td>4027.3</td>\n",
       "      <td>12447.7</td>\n",
       "    </tr>\n",
       "  </tbody>\n",
       "</table>\n",
       "</div>"
      ],
      "text/plain": [
       "short_description      PCE  PCE_Goods  PCE_Goods_Durable_goods  \\\n",
       "2023-03-31         18269.6     6133.8                   2194.9   \n",
       "2023-06-30         18419.0     6144.7                   2193.6   \n",
       "2023-09-30         18679.5     6231.8                   2204.5   \n",
       "\n",
       "short_description  PCE_Goods_Nondurable_goods  PCE_Services  \n",
       "2023-03-31                             3939.0       12135.7  \n",
       "2023-06-30                             3951.1       12274.4  \n",
       "2023-09-30                             4027.3       12447.7  "
      ]
     },
     "execution_count": 12,
     "metadata": {},
     "output_type": "execute_result"
    }
   ],
   "source": [
    "pce_df.tail(3)"
   ]
  },
  {
   "cell_type": "markdown",
   "metadata": {},
   "source": [
    "<div style=\"color:#00BFFF\">\n",
    "\n",
    "## Load and Pre Process FRED monthly  dataset"
   ]
  },
  {
   "cell_type": "markdown",
   "metadata": {},
   "source": [
    "<div style=\"color:#5F9EA0;\">\n",
    "\n",
    "##### Loading the FRED data"
   ]
  },
  {
   "cell_type": "markdown",
   "metadata": {},
   "source": [
    "The `load_fredmd_data` function, below, performs the following actions, once for the FRED-MD dataset and once for the FRED-QD dataset:\n",
    "\n",
    "1. Based on the `vintage` argument, it downloads a particular vintage of these datasets from the base URL https://files.stlouisfed.org/files/htdocs/fred-md into the `orig_m` variable.\n",
    "2. Extracts the column describing which transformation to apply, shortname and description mappings\n",
    "3. Extracts the observation date (from the \"sasdate\" column) and uses it as the index of the dataset."
   ]
  },
  {
   "cell_type": "code",
   "execution_count": 13,
   "metadata": {},
   "outputs": [],
   "source": [
    "def load_fredmd_data(vintage):\n",
    "    \"\"\"\n",
    "    Loads and processes the FRED-MD data.\n",
    "    \"\"\"\n",
    "    # Define the base URL for the FRED-MD dataset\n",
    "    base_url = 'https://files.stlouisfed.org/files/htdocs/fred-md'\n",
    "\n",
    "    # Load the dataset for the specified 'vintage', dropping rows that are entirely NA\n",
    "    fred_orig = pd.read_csv(f'{base_url}/monthly/{vintage}.csv').dropna(how='all')\n",
    "\n",
    "    # Extract transformation codes (second column onwards) from the first row\n",
    "    transform_info = fred_orig.iloc[0, 1:]\n",
    "\n",
    "    # Drop the first row (containing transformation info) from the dataset\n",
    "    fred_orig = fred_orig.iloc[1:]\n",
    "\n",
    "    # Convert 'sasdate' column to a PeriodIndex with monthly frequency for time-series analysis\n",
    "    fred_orig.index = pd.PeriodIndex(fred_orig.sasdate.tolist(), freq='M')\n",
    "\n",
    "    # Remove the 'sasdate' column as it's now set as the index\n",
    "    fred_orig.drop('sasdate', axis=1, inplace=True)\n",
    "\n",
    "    # Return the processed data and the transformation information\n",
    "    return fred_orig, transform_info\n",
    "\n",
    "# Load data for the current vintage and unpack into original data and transformation info\n",
    "fred_orig, transform_info = load_fredmd_data(\"current\")\n"
   ]
  },
  {
   "cell_type": "code",
   "execution_count": 14,
   "metadata": {},
   "outputs": [
    {
     "data": {
      "text/html": [
       "<div>\n",
       "<style scoped>\n",
       "    .dataframe tbody tr th:only-of-type {\n",
       "        vertical-align: middle;\n",
       "    }\n",
       "\n",
       "    .dataframe tbody tr th {\n",
       "        vertical-align: top;\n",
       "    }\n",
       "\n",
       "    .dataframe thead th {\n",
       "        text-align: right;\n",
       "    }\n",
       "</style>\n",
       "<table border=\"1\" class=\"dataframe\">\n",
       "  <thead>\n",
       "    <tr style=\"text-align: right;\">\n",
       "      <th></th>\n",
       "      <th>RPI</th>\n",
       "      <th>W875RX1</th>\n",
       "      <th>DPCERA3M086SBEA</th>\n",
       "      <th>CMRMTSPLx</th>\n",
       "      <th>RETAILx</th>\n",
       "      <th>INDPRO</th>\n",
       "      <th>IPFPNSS</th>\n",
       "      <th>IPFINAL</th>\n",
       "      <th>IPCONGD</th>\n",
       "      <th>IPDCONGD</th>\n",
       "      <th>IPNCONGD</th>\n",
       "      <th>IPBUSEQ</th>\n",
       "      <th>IPMAT</th>\n",
       "      <th>IPDMAT</th>\n",
       "      <th>IPNMAT</th>\n",
       "      <th>IPMANSICS</th>\n",
       "      <th>IPB51222S</th>\n",
       "      <th>IPFUELS</th>\n",
       "      <th>CUMFNS</th>\n",
       "      <th>HWI</th>\n",
       "      <th>HWIURATIO</th>\n",
       "      <th>CLF16OV</th>\n",
       "      <th>CE16OV</th>\n",
       "      <th>UNRATE</th>\n",
       "      <th>UEMPMEAN</th>\n",
       "      <th>UEMPLT5</th>\n",
       "      <th>UEMP5TO14</th>\n",
       "      <th>UEMP15OV</th>\n",
       "      <th>UEMP15T26</th>\n",
       "      <th>UEMP27OV</th>\n",
       "      <th>CLAIMSx</th>\n",
       "      <th>PAYEMS</th>\n",
       "      <th>USGOOD</th>\n",
       "      <th>CES1021000001</th>\n",
       "      <th>USCONS</th>\n",
       "      <th>MANEMP</th>\n",
       "      <th>DMANEMP</th>\n",
       "      <th>NDMANEMP</th>\n",
       "      <th>SRVPRD</th>\n",
       "      <th>USTPU</th>\n",
       "      <th>USWTRADE</th>\n",
       "      <th>USTRADE</th>\n",
       "      <th>USFIRE</th>\n",
       "      <th>USGOVT</th>\n",
       "      <th>CES0600000007</th>\n",
       "      <th>AWOTMAN</th>\n",
       "      <th>AWHMAN</th>\n",
       "      <th>HOUST</th>\n",
       "      <th>HOUSTNE</th>\n",
       "      <th>HOUSTMW</th>\n",
       "      <th>HOUSTS</th>\n",
       "      <th>HOUSTW</th>\n",
       "      <th>PERMIT</th>\n",
       "      <th>PERMITNE</th>\n",
       "      <th>PERMITMW</th>\n",
       "      <th>PERMITS</th>\n",
       "      <th>PERMITW</th>\n",
       "      <th>ACOGNO</th>\n",
       "      <th>AMDMNOx</th>\n",
       "      <th>ANDENOx</th>\n",
       "      <th>AMDMUOx</th>\n",
       "      <th>BUSINVx</th>\n",
       "      <th>ISRATIOx</th>\n",
       "      <th>M1SL</th>\n",
       "      <th>M2SL</th>\n",
       "      <th>M2REAL</th>\n",
       "      <th>BOGMBASE</th>\n",
       "      <th>TOTRESNS</th>\n",
       "      <th>NONBORRES</th>\n",
       "      <th>BUSLOANS</th>\n",
       "      <th>REALLN</th>\n",
       "      <th>NONREVSL</th>\n",
       "      <th>CONSPI</th>\n",
       "      <th>S&amp;P 500</th>\n",
       "      <th>S&amp;P: indust</th>\n",
       "      <th>S&amp;P div yield</th>\n",
       "      <th>S&amp;P PE ratio</th>\n",
       "      <th>FEDFUNDS</th>\n",
       "      <th>CP3Mx</th>\n",
       "      <th>TB3MS</th>\n",
       "      <th>TB6MS</th>\n",
       "      <th>GS1</th>\n",
       "      <th>GS5</th>\n",
       "      <th>GS10</th>\n",
       "      <th>AAA</th>\n",
       "      <th>BAA</th>\n",
       "      <th>COMPAPFFx</th>\n",
       "      <th>TB3SMFFM</th>\n",
       "      <th>TB6SMFFM</th>\n",
       "      <th>T1YFFM</th>\n",
       "      <th>T5YFFM</th>\n",
       "      <th>T10YFFM</th>\n",
       "      <th>AAAFFM</th>\n",
       "      <th>BAAFFM</th>\n",
       "      <th>TWEXAFEGSMTHx</th>\n",
       "      <th>EXSZUSx</th>\n",
       "      <th>EXJPUSx</th>\n",
       "      <th>EXUSUKx</th>\n",
       "      <th>EXCAUSx</th>\n",
       "      <th>WPSFD49207</th>\n",
       "      <th>WPSFD49502</th>\n",
       "      <th>WPSID61</th>\n",
       "      <th>WPSID62</th>\n",
       "      <th>OILPRICEx</th>\n",
       "      <th>PPICMM</th>\n",
       "      <th>CPIAUCSL</th>\n",
       "      <th>CPIAPPSL</th>\n",
       "      <th>CPITRNSL</th>\n",
       "      <th>CPIMEDSL</th>\n",
       "      <th>CUSR0000SAC</th>\n",
       "      <th>CUSR0000SAD</th>\n",
       "      <th>CUSR0000SAS</th>\n",
       "      <th>CPIULFSL</th>\n",
       "      <th>CUSR0000SA0L2</th>\n",
       "      <th>CUSR0000SA0L5</th>\n",
       "      <th>PCEPI</th>\n",
       "      <th>DDURRG3M086SBEA</th>\n",
       "      <th>DNDGRG3M086SBEA</th>\n",
       "      <th>DSERRG3M086SBEA</th>\n",
       "      <th>CES0600000008</th>\n",
       "      <th>CES2000000008</th>\n",
       "      <th>CES3000000008</th>\n",
       "      <th>UMCSENTx</th>\n",
       "      <th>DTCOLNVHFNM</th>\n",
       "      <th>DTCTHFNM</th>\n",
       "      <th>INVEST</th>\n",
       "      <th>VIXCLSx</th>\n",
       "    </tr>\n",
       "  </thead>\n",
       "  <tbody>\n",
       "    <tr>\n",
       "      <th>1959-01</th>\n",
       "      <td>2583.560</td>\n",
       "      <td>2426.0</td>\n",
       "      <td>15.188</td>\n",
       "      <td>276676.8154</td>\n",
       "      <td>18235.77392</td>\n",
       "      <td>21.9665</td>\n",
       "      <td>23.3891</td>\n",
       "      <td>22.2688</td>\n",
       "      <td>31.7011</td>\n",
       "      <td>19.0149</td>\n",
       "      <td>38.1501</td>\n",
       "      <td>8.0434</td>\n",
       "      <td>20.0387</td>\n",
       "      <td>11.9952</td>\n",
       "      <td>30.6591</td>\n",
       "      <td>20.8382</td>\n",
       "      <td>19.9173</td>\n",
       "      <td>34.6654</td>\n",
       "      <td>80.1973</td>\n",
       "      <td>1357.0</td>\n",
       "      <td>0.333579</td>\n",
       "      <td>67936</td>\n",
       "      <td>63868</td>\n",
       "      <td>6.0</td>\n",
       "      <td>16.3</td>\n",
       "      <td>1574</td>\n",
       "      <td>1169</td>\n",
       "      <td>1396</td>\n",
       "      <td>594</td>\n",
       "      <td>802</td>\n",
       "      <td>291078</td>\n",
       "      <td>52478</td>\n",
       "      <td>18796</td>\n",
       "      <td>713.0</td>\n",
       "      <td>2993</td>\n",
       "      <td>14998</td>\n",
       "      <td>8740</td>\n",
       "      <td>6258</td>\n",
       "      <td>33682</td>\n",
       "      <td>10774</td>\n",
       "      <td>2568.7</td>\n",
       "      <td>5350.3</td>\n",
       "      <td>2418</td>\n",
       "      <td>8105</td>\n",
       "      <td>39.8</td>\n",
       "      <td>2.5</td>\n",
       "      <td>40.2</td>\n",
       "      <td>1657</td>\n",
       "      <td>350</td>\n",
       "      <td>452</td>\n",
       "      <td>505</td>\n",
       "      <td>350</td>\n",
       "      <td>NaN</td>\n",
       "      <td>NaN</td>\n",
       "      <td>NaN</td>\n",
       "      <td>NaN</td>\n",
       "      <td>NaN</td>\n",
       "      <td>NaN</td>\n",
       "      <td>14716.48296</td>\n",
       "      <td>NaN</td>\n",
       "      <td>42620.34624</td>\n",
       "      <td>84889.55898</td>\n",
       "      <td>1.560000</td>\n",
       "      <td>138.9</td>\n",
       "      <td>286.6</td>\n",
       "      <td>987.9</td>\n",
       "      <td>50500</td>\n",
       "      <td>18.9</td>\n",
       "      <td>18300</td>\n",
       "      <td>35.2130</td>\n",
       "      <td>24.9242</td>\n",
       "      <td>48.96116</td>\n",
       "      <td>0.124965</td>\n",
       "      <td>55.62</td>\n",
       "      <td>59.30</td>\n",
       "      <td>3.158342</td>\n",
       "      <td>18.445741</td>\n",
       "      <td>2.48</td>\n",
       "      <td>3.30</td>\n",
       "      <td>2.82</td>\n",
       "      <td>3.09</td>\n",
       "      <td>3.36</td>\n",
       "      <td>4.01</td>\n",
       "      <td>4.02</td>\n",
       "      <td>4.12</td>\n",
       "      <td>4.87</td>\n",
       "      <td>0.82</td>\n",
       "      <td>0.34</td>\n",
       "      <td>0.61</td>\n",
       "      <td>0.88</td>\n",
       "      <td>1.53</td>\n",
       "      <td>1.54</td>\n",
       "      <td>1.64</td>\n",
       "      <td>2.39</td>\n",
       "      <td>NaN</td>\n",
       "      <td>4.3122</td>\n",
       "      <td>359.8417</td>\n",
       "      <td>2.8065</td>\n",
       "      <td>0.9671</td>\n",
       "      <td>33.1</td>\n",
       "      <td>33.4</td>\n",
       "      <td>30.6</td>\n",
       "      <td>31.6</td>\n",
       "      <td>3.0</td>\n",
       "      <td>32.5</td>\n",
       "      <td>29.01</td>\n",
       "      <td>44.8</td>\n",
       "      <td>29.3</td>\n",
       "      <td>21.1</td>\n",
       "      <td>33.3</td>\n",
       "      <td>38.1</td>\n",
       "      <td>22.9</td>\n",
       "      <td>28.9</td>\n",
       "      <td>30.7</td>\n",
       "      <td>29.6</td>\n",
       "      <td>15.164</td>\n",
       "      <td>63.517</td>\n",
       "      <td>18.294</td>\n",
       "      <td>10.152</td>\n",
       "      <td>2.13</td>\n",
       "      <td>2.45</td>\n",
       "      <td>2.04</td>\n",
       "      <td>NaN</td>\n",
       "      <td>6476.0</td>\n",
       "      <td>12298.0</td>\n",
       "      <td>84.2043</td>\n",
       "      <td>NaN</td>\n",
       "    </tr>\n",
       "    <tr>\n",
       "      <th>1959-02</th>\n",
       "      <td>2593.596</td>\n",
       "      <td>2434.8</td>\n",
       "      <td>15.346</td>\n",
       "      <td>278713.9773</td>\n",
       "      <td>18369.56308</td>\n",
       "      <td>22.3966</td>\n",
       "      <td>23.7048</td>\n",
       "      <td>22.4617</td>\n",
       "      <td>31.9337</td>\n",
       "      <td>19.1147</td>\n",
       "      <td>38.5147</td>\n",
       "      <td>8.1510</td>\n",
       "      <td>20.6733</td>\n",
       "      <td>12.5477</td>\n",
       "      <td>31.1959</td>\n",
       "      <td>21.2213</td>\n",
       "      <td>19.8631</td>\n",
       "      <td>34.1932</td>\n",
       "      <td>81.4428</td>\n",
       "      <td>1421.0</td>\n",
       "      <td>0.358386</td>\n",
       "      <td>67649</td>\n",
       "      <td>63684</td>\n",
       "      <td>5.9</td>\n",
       "      <td>15.5</td>\n",
       "      <td>1554</td>\n",
       "      <td>1164</td>\n",
       "      <td>1277</td>\n",
       "      <td>545</td>\n",
       "      <td>732</td>\n",
       "      <td>282958</td>\n",
       "      <td>52688</td>\n",
       "      <td>18890</td>\n",
       "      <td>704.2</td>\n",
       "      <td>2980</td>\n",
       "      <td>15115</td>\n",
       "      <td>8839</td>\n",
       "      <td>6276</td>\n",
       "      <td>33798</td>\n",
       "      <td>10816</td>\n",
       "      <td>2575.4</td>\n",
       "      <td>5381.3</td>\n",
       "      <td>2420</td>\n",
       "      <td>8116</td>\n",
       "      <td>39.7</td>\n",
       "      <td>2.6</td>\n",
       "      <td>40.3</td>\n",
       "      <td>1667</td>\n",
       "      <td>346</td>\n",
       "      <td>469</td>\n",
       "      <td>508</td>\n",
       "      <td>344</td>\n",
       "      <td>NaN</td>\n",
       "      <td>NaN</td>\n",
       "      <td>NaN</td>\n",
       "      <td>NaN</td>\n",
       "      <td>NaN</td>\n",
       "      <td>NaN</td>\n",
       "      <td>15400.24873</td>\n",
       "      <td>NaN</td>\n",
       "      <td>43677.15151</td>\n",
       "      <td>85181.81131</td>\n",
       "      <td>1.539338</td>\n",
       "      <td>139.4</td>\n",
       "      <td>287.7</td>\n",
       "      <td>992.1</td>\n",
       "      <td>49800</td>\n",
       "      <td>18.6</td>\n",
       "      <td>18100</td>\n",
       "      <td>35.2201</td>\n",
       "      <td>25.2270</td>\n",
       "      <td>49.51371</td>\n",
       "      <td>0.125765</td>\n",
       "      <td>54.77</td>\n",
       "      <td>58.33</td>\n",
       "      <td>3.219518</td>\n",
       "      <td>18.418119</td>\n",
       "      <td>2.43</td>\n",
       "      <td>3.26</td>\n",
       "      <td>2.70</td>\n",
       "      <td>3.13</td>\n",
       "      <td>3.54</td>\n",
       "      <td>3.96</td>\n",
       "      <td>3.96</td>\n",
       "      <td>4.14</td>\n",
       "      <td>4.89</td>\n",
       "      <td>0.83</td>\n",
       "      <td>0.27</td>\n",
       "      <td>0.70</td>\n",
       "      <td>1.11</td>\n",
       "      <td>1.53</td>\n",
       "      <td>1.53</td>\n",
       "      <td>1.71</td>\n",
       "      <td>2.46</td>\n",
       "      <td>NaN</td>\n",
       "      <td>4.3133</td>\n",
       "      <td>359.8417</td>\n",
       "      <td>2.8093</td>\n",
       "      <td>0.9748</td>\n",
       "      <td>33.2</td>\n",
       "      <td>33.4</td>\n",
       "      <td>30.7</td>\n",
       "      <td>31.4</td>\n",
       "      <td>3.0</td>\n",
       "      <td>32.5</td>\n",
       "      <td>29.00</td>\n",
       "      <td>44.7</td>\n",
       "      <td>29.4</td>\n",
       "      <td>21.2</td>\n",
       "      <td>33.3</td>\n",
       "      <td>38.1</td>\n",
       "      <td>23.0</td>\n",
       "      <td>28.9</td>\n",
       "      <td>30.7</td>\n",
       "      <td>29.6</td>\n",
       "      <td>15.179</td>\n",
       "      <td>63.554</td>\n",
       "      <td>18.302</td>\n",
       "      <td>10.167</td>\n",
       "      <td>2.14</td>\n",
       "      <td>2.46</td>\n",
       "      <td>2.05</td>\n",
       "      <td>NaN</td>\n",
       "      <td>6476.0</td>\n",
       "      <td>12298.0</td>\n",
       "      <td>83.5280</td>\n",
       "      <td>NaN</td>\n",
       "    </tr>\n",
       "  </tbody>\n",
       "</table>\n",
       "</div>"
      ],
      "text/plain": [
       "              RPI  W875RX1  DPCERA3M086SBEA    CMRMTSPLx      RETAILx  \\\n",
       "1959-01  2583.560   2426.0           15.188  276676.8154  18235.77392   \n",
       "1959-02  2593.596   2434.8           15.346  278713.9773  18369.56308   \n",
       "\n",
       "          INDPRO  IPFPNSS  IPFINAL  IPCONGD  IPDCONGD  IPNCONGD  IPBUSEQ  \\\n",
       "1959-01  21.9665  23.3891  22.2688  31.7011   19.0149   38.1501   8.0434   \n",
       "1959-02  22.3966  23.7048  22.4617  31.9337   19.1147   38.5147   8.1510   \n",
       "\n",
       "           IPMAT   IPDMAT   IPNMAT  IPMANSICS  IPB51222S  IPFUELS   CUMFNS  \\\n",
       "1959-01  20.0387  11.9952  30.6591    20.8382    19.9173  34.6654  80.1973   \n",
       "1959-02  20.6733  12.5477  31.1959    21.2213    19.8631  34.1932  81.4428   \n",
       "\n",
       "            HWI  HWIURATIO  CLF16OV  CE16OV  UNRATE  UEMPMEAN  UEMPLT5  \\\n",
       "1959-01  1357.0   0.333579    67936   63868     6.0      16.3     1574   \n",
       "1959-02  1421.0   0.358386    67649   63684     5.9      15.5     1554   \n",
       "\n",
       "         UEMP5TO14  UEMP15OV  UEMP15T26  UEMP27OV  CLAIMSx  PAYEMS  USGOOD  \\\n",
       "1959-01       1169      1396        594       802   291078   52478   18796   \n",
       "1959-02       1164      1277        545       732   282958   52688   18890   \n",
       "\n",
       "         CES1021000001  USCONS  MANEMP  DMANEMP  NDMANEMP  SRVPRD  USTPU  \\\n",
       "1959-01          713.0    2993   14998     8740      6258   33682  10774   \n",
       "1959-02          704.2    2980   15115     8839      6276   33798  10816   \n",
       "\n",
       "         USWTRADE  USTRADE  USFIRE  USGOVT  CES0600000007  AWOTMAN  AWHMAN  \\\n",
       "1959-01    2568.7   5350.3    2418    8105           39.8      2.5    40.2   \n",
       "1959-02    2575.4   5381.3    2420    8116           39.7      2.6    40.3   \n",
       "\n",
       "         HOUST  HOUSTNE  HOUSTMW  HOUSTS  HOUSTW  PERMIT  PERMITNE  PERMITMW  \\\n",
       "1959-01   1657      350      452     505     350     NaN       NaN       NaN   \n",
       "1959-02   1667      346      469     508     344     NaN       NaN       NaN   \n",
       "\n",
       "         PERMITS  PERMITW  ACOGNO      AMDMNOx  ANDENOx      AMDMUOx  \\\n",
       "1959-01      NaN      NaN     NaN  14716.48296      NaN  42620.34624   \n",
       "1959-02      NaN      NaN     NaN  15400.24873      NaN  43677.15151   \n",
       "\n",
       "             BUSINVx  ISRATIOx   M1SL   M2SL  M2REAL  BOGMBASE  TOTRESNS  \\\n",
       "1959-01  84889.55898  1.560000  138.9  286.6   987.9     50500      18.9   \n",
       "1959-02  85181.81131  1.539338  139.4  287.7   992.1     49800      18.6   \n",
       "\n",
       "         NONBORRES  BUSLOANS   REALLN  NONREVSL    CONSPI  S&P 500  \\\n",
       "1959-01      18300   35.2130  24.9242  48.96116  0.124965    55.62   \n",
       "1959-02      18100   35.2201  25.2270  49.51371  0.125765    54.77   \n",
       "\n",
       "         S&P: indust  S&P div yield  S&P PE ratio  FEDFUNDS  CP3Mx  TB3MS  \\\n",
       "1959-01        59.30       3.158342     18.445741      2.48   3.30   2.82   \n",
       "1959-02        58.33       3.219518     18.418119      2.43   3.26   2.70   \n",
       "\n",
       "         TB6MS   GS1   GS5  GS10   AAA   BAA  COMPAPFFx  TB3SMFFM  TB6SMFFM  \\\n",
       "1959-01   3.09  3.36  4.01  4.02  4.12  4.87       0.82      0.34      0.61   \n",
       "1959-02   3.13  3.54  3.96  3.96  4.14  4.89       0.83      0.27      0.70   \n",
       "\n",
       "         T1YFFM  T5YFFM  T10YFFM  AAAFFM  BAAFFM  TWEXAFEGSMTHx  EXSZUSx  \\\n",
       "1959-01    0.88    1.53     1.54    1.64    2.39            NaN   4.3122   \n",
       "1959-02    1.11    1.53     1.53    1.71    2.46            NaN   4.3133   \n",
       "\n",
       "          EXJPUSx  EXUSUKx  EXCAUSx  WPSFD49207  WPSFD49502  WPSID61  WPSID62  \\\n",
       "1959-01  359.8417   2.8065   0.9671        33.1        33.4     30.6     31.6   \n",
       "1959-02  359.8417   2.8093   0.9748        33.2        33.4     30.7     31.4   \n",
       "\n",
       "         OILPRICEx  PPICMM  CPIAUCSL  CPIAPPSL  CPITRNSL  CPIMEDSL  \\\n",
       "1959-01        3.0    32.5     29.01      44.8      29.3      21.1   \n",
       "1959-02        3.0    32.5     29.00      44.7      29.4      21.2   \n",
       "\n",
       "         CUSR0000SAC  CUSR0000SAD  CUSR0000SAS  CPIULFSL  CUSR0000SA0L2  \\\n",
       "1959-01         33.3         38.1         22.9      28.9           30.7   \n",
       "1959-02         33.3         38.1         23.0      28.9           30.7   \n",
       "\n",
       "         CUSR0000SA0L5   PCEPI  DDURRG3M086SBEA  DNDGRG3M086SBEA  \\\n",
       "1959-01           29.6  15.164           63.517           18.294   \n",
       "1959-02           29.6  15.179           63.554           18.302   \n",
       "\n",
       "         DSERRG3M086SBEA  CES0600000008  CES2000000008  CES3000000008  \\\n",
       "1959-01           10.152           2.13           2.45           2.04   \n",
       "1959-02           10.167           2.14           2.46           2.05   \n",
       "\n",
       "         UMCSENTx  DTCOLNVHFNM  DTCTHFNM   INVEST  VIXCLSx  \n",
       "1959-01       NaN       6476.0   12298.0  84.2043      NaN  \n",
       "1959-02       NaN       6476.0   12298.0  83.5280      NaN  "
      ]
     },
     "execution_count": 14,
     "metadata": {},
     "output_type": "execute_result"
    }
   ],
   "source": [
    "fred_orig.head(2)"
   ]
  },
  {
   "cell_type": "markdown",
   "metadata": {},
   "source": [
    "<div style=\"color:#5F9EA0;padding: 5px;\">\n",
    "\n",
    "##### Mapping FRED indices to Economic Data groups"
   ]
  },
  {
   "cell_type": "markdown",
   "metadata": {},
   "source": [
    "In this section, we import and organize the definitions of economic variables. \n",
    "These definitions are loaded from CSV files corresponding to the FRED-MD and FRED-QD databases. \n",
    "This process ensures that we have a clear and concise understanding of each economic variable in our dataset, which is essential for accurate analysis and interpretation of the data."
   ]
  },
  {
   "cell_type": "code",
   "execution_count": 15,
   "metadata": {},
   "outputs": [],
   "source": [
    "# Function for Column Name Mapping\n",
    "def map_column_names(data, defn_file):\n",
    "    \"\"\"\n",
    "    Maps FRED-MD column names to their descriptions.\n",
    "    \"\"\"\n",
    "    # Load the definitions file, ignoring encoding errors\n",
    "    defn = pd.read_csv(defn_file, encoding_errors='ignore')\n",
    "\n",
    "    # Set the 'fred' column as the index of the definitions DataFrame\n",
    "    defn.index = defn.fred\n",
    "\n",
    "    # Filter the definitions to include only those variables present in the data columns\n",
    "    defn = defn.loc[data.columns.intersection(defn.fred), :]\n",
    "\n",
    "    # Create a dictionary mapping FRED-MD variable names to their descriptions\n",
    "    map_dict = defn['description'].to_dict()\n",
    "\n",
    "    # Replace the names of columns in the dataset with the descriptions from the map\n",
    "    return data[map_dict.keys()].rename(columns=map_dict),defn\n",
    "\n",
    "# Map column names for fred_original \n",
    "column_defn_file = './data/FRED/FRED_Definitions_Mapping/fredmd_definitions.csv'\n",
    "fred_orig,defn = map_column_names(fred_orig, column_defn_file)"
   ]
  },
  {
   "cell_type": "code",
   "execution_count": 16,
   "metadata": {},
   "outputs": [],
   "source": [
    "# fred_orig.head(2)\n",
    "# defn[[\"description\",\"group\"]]"
   ]
  },
  {
   "cell_type": "markdown",
   "metadata": {},
   "source": [
    "Below, we get the groups for each series from the definition files above, and then show how many of the series that we'll be using fall into each of the groups.\n",
    "\n",
    "We'll also re-order the series by group, to make it easier to interpret the results."
   ]
  },
  {
   "cell_type": "code",
   "execution_count": 17,
   "metadata": {},
   "outputs": [
    {
     "data": {
      "text/html": [
       "<div>\n",
       "<style scoped>\n",
       "    .dataframe tbody tr th:only-of-type {\n",
       "        vertical-align: middle;\n",
       "    }\n",
       "\n",
       "    .dataframe tbody tr th {\n",
       "        vertical-align: top;\n",
       "    }\n",
       "\n",
       "    .dataframe thead th {\n",
       "        text-align: right;\n",
       "    }\n",
       "</style>\n",
       "<table border=\"1\" class=\"dataframe\">\n",
       "  <thead>\n",
       "    <tr style=\"text-align: right;\">\n",
       "      <th></th>\n",
       "      <th># series in group</th>\n",
       "    </tr>\n",
       "    <tr>\n",
       "      <th>group</th>\n",
       "      <th></th>\n",
       "    </tr>\n",
       "  </thead>\n",
       "  <tbody>\n",
       "    <tr>\n",
       "      <th>Output and Income</th>\n",
       "      <td>15</td>\n",
       "    </tr>\n",
       "    <tr>\n",
       "      <th>Consumption, Orders, and Inventories</th>\n",
       "      <td>10</td>\n",
       "    </tr>\n",
       "    <tr>\n",
       "      <th>Labor Market</th>\n",
       "      <td>31</td>\n",
       "    </tr>\n",
       "    <tr>\n",
       "      <th>Housing</th>\n",
       "      <td>10</td>\n",
       "    </tr>\n",
       "    <tr>\n",
       "      <th>Money and Credit</th>\n",
       "      <td>12</td>\n",
       "    </tr>\n",
       "    <tr>\n",
       "      <th>Stock Market</th>\n",
       "      <td>4</td>\n",
       "    </tr>\n",
       "    <tr>\n",
       "      <th>Interest and Exchange Rates</th>\n",
       "      <td>21</td>\n",
       "    </tr>\n",
       "    <tr>\n",
       "      <th>Prices</th>\n",
       "      <td>20</td>\n",
       "    </tr>\n",
       "  </tbody>\n",
       "</table>\n",
       "</div>"
      ],
      "text/plain": [
       "                                      # series in group\n",
       "group                                                  \n",
       "Output and Income                                    15\n",
       "Consumption, Orders, and Inventories                 10\n",
       "Labor Market                                         31\n",
       "Housing                                              10\n",
       "Money and Credit                                     12\n",
       "Stock Market                                          4\n",
       "Interest and Exchange Rates                          21\n",
       "Prices                                               20"
      ]
     },
     "execution_count": 17,
     "metadata": {},
     "output_type": "execute_result"
    }
   ],
   "source": [
    "# Get the mapping of variable id to group name, for monthly variables\n",
    "groups = defn[['description', 'group']].copy()\n",
    "\n",
    "# Display the number of variables in each group\n",
    "(groups.groupby('group', sort=False)\n",
    "       .count()\n",
    "       .rename({'description': '# series in group'}, axis=1))"
   ]
  },
  {
   "cell_type": "markdown",
   "metadata": {},
   "source": [
    "<div style=\"color:#5F9EA0\">\n",
    "\n",
    "##### Remove Outliers"
   ]
  },
  {
   "cell_type": "markdown",
   "metadata": {},
   "source": [
    "\n",
    "- Outliers are defined as observations that deviate significantly from the series mean, specifically those that are more than 10 times the interquartile range (IQR) away from the mean.\n",
    "- To carry out this outlier removal, we've created a function named `remove_outliers`. This function identifies extreme values and replaces them with NaN (missing values). It also keeps track of the year in which each extreme value was removed."
   ]
  },
  {
   "cell_type": "code",
   "execution_count": 18,
   "metadata": {},
   "outputs": [
    {
     "name": "stdout",
     "output_type": "stream",
     "text": [
      "'Extreme values for Civilians Unemployed - Less Than 5 Weeks:'\n",
      "     index  Civilians Unemployed - Less Than 5 Weeks\n",
      "0  2020-04                                     14232\n",
      "'Extreme values for Civilians Unemployed for 5-14 Weeks:'\n",
      "     index  Civilians Unemployed for 5-14 Weeks\n",
      "0  2020-05                                14806\n",
      "1  2020-06                                11522\n",
      "'Extreme values for Initial Claims:'\n",
      "     index  Initial Claims\n",
      "0  2020-03         2337750\n",
      "1  2020-04         4663250\n",
      "2  2020-05         2173400\n",
      "3  2020-06         1490250\n",
      "'Extreme values for M1 Money Stock:'\n",
      "      index  M1 Money Stock\n",
      "0   2020-05         16244.2\n",
      "1   2020-06         16559.7\n",
      "2   2020-07         16767.2\n",
      "3   2020-08         16878.5\n",
      "4   2020-09         17158.6\n",
      "5   2020-10         17357.2\n",
      "6   2020-11         17609.1\n",
      "7   2020-12         17827.3\n",
      "8   2021-01         18098.9\n",
      "9   2021-02         18362.2\n",
      "10  2021-03         18634.5\n",
      "11  2021-04         18933.6\n",
      "12  2021-05         19266.7\n",
      "13  2021-06         19358.8\n",
      "14  2021-07         19534.3\n",
      "15  2021-08         19733.6\n",
      "16  2021-09         19865.9\n",
      "17  2021-10         20034.8\n",
      "18  2021-11         20250.1\n",
      "19  2021-12         20494.7\n",
      "20  2022-01         20506.3\n",
      "21  2022-02         20533.7\n",
      "22  2022-03         20664.5\n",
      "23  2022-04         20650.7\n",
      "24  2022-05         20638.8\n",
      "25  2022-06         20607.4\n",
      "26  2022-07         20588.6\n",
      "27  2022-08         20479.8\n",
      "28  2022-09         20280.9\n",
      "29  2022-10         20099.2\n",
      "30  2022-11         19964.9\n",
      "31  2022-12         19820.9\n",
      "32  2023-01         19555.0\n",
      "33  2023-02         19312.3\n",
      "34  2023-03         18938.3\n",
      "35  2023-04         18591.6\n",
      "36  2023-05         18560.0\n",
      "37  2023-06         18490.3\n",
      "38  2023-07         18428.0\n",
      "39  2023-08         18303.4\n",
      "40  2023-09         18171.6\n",
      "41  2023-10         18080.8\n",
      "42  2023-11         18045.8\n",
      "'Extreme values for Total Reserves of Depository Institutions:'\n",
      "       index  Total Reserves of Depository Institutions\n",
      "0    2009-01                                      860.2\n",
      "1    2009-04                                      881.7\n",
      "2    2009-05                                      902.8\n",
      "3    2009-08                                      828.7\n",
      "4    2009-09                                      922.6\n",
      "5    2009-10                                     1056.7\n",
      "6    2009-11                                     1141.6\n",
      "7    2009-12                                     1140.4\n",
      "8    2010-01                                     1112.4\n",
      "9    2010-02                                     1225.5\n",
      "10   2010-03                                     1184.5\n",
      "11   2010-04                                     1117.4\n",
      "12   2010-05                                     1111.3\n",
      "13   2010-06                                     1099.2\n",
      "14   2010-07                                     1087.8\n",
      "15   2010-08                                     1085.1\n",
      "16   2010-09                                     1047.9\n",
      "17   2010-10                                     1039.7\n",
      "18   2010-11                                     1038.6\n",
      "19   2010-12                                     1078.0\n",
      "20   2011-01                                     1110.3\n",
      "21   2011-02                                     1263.7\n",
      "22   2011-03                                     1434.9\n",
      "23   2011-04                                     1528.0\n",
      "24   2011-05                                     1589.8\n",
      "25   2011-06                                     1665.8\n",
      "26   2011-07                                     1696.6\n",
      "27   2011-08                                     1666.6\n",
      "28   2011-09                                     1643.5\n",
      "29   2011-10                                     1638.9\n",
      "30   2011-11                                     1592.4\n",
      "31   2011-12                                     1598.7\n",
      "32   2012-01                                     1619.2\n",
      "33   2012-02                                     1659.9\n",
      "34   2012-03                                     1606.3\n",
      "35   2012-04                                     1586.7\n",
      "36   2012-05                                     1558.5\n",
      "37   2012-06                                     1555.4\n",
      "38   2012-07                                     1583.8\n",
      "39   2012-08                                     1582.2\n",
      "40   2012-09                                     1517.5\n",
      "41   2012-10                                     1525.6\n",
      "42   2012-11                                     1546.1\n",
      "43   2012-12                                     1570.4\n",
      "44   2013-01                                     1636.9\n",
      "45   2013-02                                     1733.4\n",
      "46   2013-03                                     1811.3\n",
      "47   2013-04                                     1884.7\n",
      "48   2013-05                                     1982.0\n",
      "49   2013-06                                     2062.9\n",
      "50   2013-07                                     2147.7\n",
      "51   2013-08                                     2252.6\n",
      "52   2013-09                                     2333.9\n",
      "53   2013-10                                     2427.8\n",
      "54   2013-11                                     2517.1\n",
      "55   2013-12                                     2541.0\n",
      "56   2014-01                                     2556.4\n",
      "57   2014-02                                     2650.1\n",
      "58   2014-03                                     2676.7\n",
      "59   2014-04                                     2714.9\n",
      "60   2014-05                                     2688.4\n",
      "61   2014-06                                     2722.3\n",
      "62   2014-07                                     2759.0\n",
      "63   2014-08                                     2842.0\n",
      "64   2014-09                                     2814.5\n",
      "65   2014-10                                     2760.3\n",
      "66   2014-11                                     2575.1\n",
      "67   2014-12                                     2665.9\n",
      "68   2015-01                                     2745.6\n",
      "69   2015-02                                     2556.1\n",
      "70   2015-03                                     2732.9\n",
      "71   2015-04                                     2756.7\n",
      "72   2015-05                                     2641.7\n",
      "73   2015-06                                     2611.1\n",
      "74   2015-07                                     2649.3\n",
      "75   2015-08                                     2666.1\n",
      "76   2015-09                                     2701.3\n",
      "77   2015-10                                     2725.9\n",
      "78   2015-11                                     2660.3\n",
      "79   2015-12                                     2481.2\n",
      "80   2016-01                                     2440.0\n",
      "81   2016-02                                     2510.9\n",
      "82   2016-03                                     2519.7\n",
      "83   2016-04                                     2487.0\n",
      "84   2016-05                                     2443.8\n",
      "85   2016-06                                     2427.5\n",
      "86   2016-07                                     2371.2\n",
      "87   2016-08                                     2413.5\n",
      "88   2016-09                                     2325.1\n",
      "89   2016-10                                     2156.1\n",
      "90   2016-11                                     2201.7\n",
      "91   2016-12                                     2095.3\n",
      "92   2017-01                                     2158.5\n",
      "93   2017-02                                     2302.9\n",
      "94   2017-03                                     2387.8\n",
      "95   2017-04                                     2344.8\n",
      "96   2017-05                                     2288.9\n",
      "97   2017-06                                     2269.7\n",
      "98   2017-07                                     2296.9\n",
      "99   2017-08                                     2407.2\n",
      "100  2017-09                                     2357.9\n",
      "101  2017-10                                     2310.9\n",
      "102  2017-11                                     2378.3\n",
      "103  2017-12                                     2309.8\n",
      "104  2018-01                                     2281.0\n",
      "105  2018-02                                     2305.3\n",
      "106  2018-03                                     2230.9\n",
      "107  2018-04                                     2151.0\n",
      "108  2018-05                                     2086.6\n",
      "109  2018-06                                     2052.7\n",
      "110  2018-07                                     2014.6\n",
      "111  2018-08                                     1976.1\n",
      "112  2018-09                                     1938.0\n",
      "113  2018-10                                     1895.8\n",
      "114  2018-11                                     1840.8\n",
      "115  2018-12                                     1759.9\n",
      "116  2019-01                                     1707.3\n",
      "117  2019-02                                     1713.7\n",
      "118  2019-03                                     1725.9\n",
      "119  2019-04                                     1623.9\n",
      "120  2019-05                                     1576.3\n",
      "121  2019-06                                     1601.3\n",
      "122  2019-07                                     1578.6\n",
      "123  2019-08                                     1586.8\n",
      "124  2019-09                                     1504.8\n",
      "125  2019-10                                     1547.1\n",
      "126  2019-11                                     1595.2\n",
      "127  2019-12                                     1698.3\n",
      "128  2020-01                                     1715.2\n",
      "129  2020-02                                     1726.9\n",
      "130  2020-03                                     2099.4\n",
      "131  2020-04                                     2953.6\n",
      "132  2020-05                                     3217.6\n",
      "133  2020-06                                     3043.6\n",
      "134  2020-07                                     2718.5\n",
      "135  2020-08                                     2799.7\n",
      "136  2020-09                                     2852.8\n",
      "137  2020-10                                     2876.6\n",
      "138  2020-11                                     3034.7\n",
      "139  2020-12                                     3135.0\n",
      "140  2021-01                                     3153.8\n",
      "141  2021-02                                     3345.9\n",
      "142  2021-03                                     3721.3\n",
      "143  2021-04                                     3887.3\n",
      "144  2021-05                                     3872.4\n",
      "145  2021-06                                     3848.1\n",
      "146  2021-07                                     3943.9\n",
      "147  2021-08                                     4140.1\n",
      "148  2021-09                                     4193.2\n",
      "149  2021-10                                     4128.1\n",
      "150  2021-11                                     4180.6\n",
      "151  2021-12                                     4187.9\n",
      "152  2022-01                                     3871.1\n",
      "153  2022-02                                     3804.5\n",
      "154  2022-03                                     3874.7\n",
      "155  2022-04                                     3615.4\n",
      "156  2022-05                                     3317.9\n",
      "157  2022-06                                     3228.4\n",
      "158  2022-07                                     3258.7\n",
      "159  2022-08                                     3305.9\n",
      "160  2022-09                                     3131.4\n",
      "161  2022-10                                     3055.7\n",
      "162  2022-11                                     3126.2\n",
      "163  2022-12                                     3107.3\n",
      "164  2023-01                                     3029.9\n",
      "165  2023-02                                     3021.8\n",
      "166  2023-03                                     3258.4\n",
      "167  2023-04                                     3269.5\n",
      "168  2023-05                                     3235.6\n",
      "169  2023-06                                     3265.6\n",
      "170  2023-07                                     3178.7\n",
      "171  2023-08                                     3228.0\n",
      "172  2023-09                                     3239.6\n",
      "173  2023-10                                     3276.5\n",
      "174  2023-11                                     3403.4\n",
      "'Extreme values for Reserves Of Depository Institutions:'\n",
      "       index  Reserves Of Depository Institutions\n",
      "0    2009-11                               924300\n",
      "1    2009-12                               970500\n",
      "2    2010-01                               970200\n",
      "3    2010-02                              1114300\n",
      "4    2010-03                              1092800\n",
      "5    2010-04                              1037200\n",
      "6    2010-05                              1035700\n",
      "7    2010-06                              1029300\n",
      "8    2010-07                              1021900\n",
      "9    2010-08                              1025000\n",
      "10   2010-09                               995300\n",
      "11   2010-10                               991100\n",
      "12   2010-11                               991900\n",
      "13   2010-12                              1032500\n",
      "14   2011-01                              1078100\n",
      "15   2011-02                              1241800\n",
      "16   2011-03                              1415000\n",
      "17   2011-04                              1510100\n",
      "18   2011-05                              1574700\n",
      "19   2011-06                              1652600\n",
      "20   2011-07                              1684200\n",
      "21   2011-08                              1654700\n",
      "22   2011-09                              1631900\n",
      "23   2011-10                              1627700\n",
      "24   2011-11                              1582100\n",
      "25   2011-12                              1589200\n",
      "26   2012-01                              1610600\n",
      "27   2012-02                              1652000\n",
      "28   2012-03                              1599000\n",
      "29   2012-04                              1579800\n",
      "30   2012-05                              1552300\n",
      "31   2012-06                              1550200\n",
      "32   2012-07                              1579500\n",
      "33   2012-08                              1578900\n",
      "34   2012-09                              1515500\n",
      "35   2012-10                              1524100\n",
      "36   2012-11                              1545100\n",
      "37   2012-12                              1569600\n",
      "38   2013-01                              1636400\n",
      "39   2013-02                              1732900\n",
      "40   2013-03                              1810900\n",
      "41   2013-04                              1884300\n",
      "42   2013-05                              1981600\n",
      "43   2013-06                              2062600\n",
      "44   2013-07                              2147300\n",
      "45   2013-08                              2252300\n",
      "46   2013-09                              2333600\n",
      "47   2013-10                              2427600\n",
      "48   2013-11                              2516900\n",
      "49   2013-12                              2540800\n",
      "50   2014-01                              2556300\n",
      "51   2014-02                              2650000\n",
      "52   2014-03                              2676600\n",
      "53   2014-04                              2714800\n",
      "54   2014-05                              2688200\n",
      "55   2014-06                              2722100\n",
      "56   2014-07                              2758800\n",
      "57   2014-08                              2841800\n",
      "58   2014-09                              2814200\n",
      "59   2014-10                              2760100\n",
      "60   2014-11                              2575000\n",
      "61   2014-12                              2665800\n",
      "62   2015-01                              2745500\n",
      "63   2015-02                              2556100\n",
      "64   2015-03                              2732800\n",
      "65   2015-04                              2756700\n",
      "66   2015-05                              2641600\n",
      "67   2015-06                              2611000\n",
      "68   2015-07                              2649100\n",
      "69   2015-08                              2665800\n",
      "70   2015-09                              2701000\n",
      "71   2015-10                              2725700\n",
      "72   2015-11                              2660200\n",
      "73   2015-12                              2481100\n",
      "74   2016-01                              2439900\n",
      "75   2016-02                              2510800\n",
      "76   2016-03                              2519700\n",
      "77   2016-04                              2486900\n",
      "78   2016-05                              2443700\n",
      "79   2016-06                              2427300\n",
      "80   2016-07                              2371000\n",
      "81   2016-08                              2413300\n",
      "82   2016-09                              2324900\n",
      "83   2016-10                              2155900\n",
      "84   2016-11                              2201600\n",
      "85   2016-12                              2095200\n",
      "86   2017-01                              2158500\n",
      "87   2017-02                              2302900\n",
      "88   2017-03                              2387800\n",
      "89   2017-04                              2344800\n",
      "90   2017-05                              2288900\n",
      "91   2017-06                              2269600\n",
      "92   2017-07                              2296800\n",
      "93   2017-08                              2407000\n",
      "94   2017-09                              2357700\n",
      "95   2017-10                              2310800\n",
      "96   2017-11                              2378200\n",
      "97   2017-12                              2309700\n",
      "98   2018-01                              2281000\n",
      "99   2018-02                              2305200\n",
      "100  2018-03                              2230900\n",
      "101  2018-04                              2151000\n",
      "102  2018-05                              2086500\n",
      "103  2018-06                              2052600\n",
      "104  2018-07                              2014400\n",
      "105  2018-08                              1975800\n",
      "106  2018-09                              1937700\n",
      "107  2018-10                              1895600\n",
      "108  2018-11                              1840700\n",
      "109  2018-12                              1759800\n",
      "110  2019-01                              1707200\n",
      "111  2019-02                              1713700\n",
      "112  2019-03                              1725900\n",
      "113  2019-04                              1623900\n",
      "114  2019-05                              1576300\n",
      "115  2019-06                              1601200\n",
      "116  2019-07                              1578500\n",
      "117  2019-08                              1586700\n",
      "118  2019-09                              1504700\n",
      "119  2019-10                              1547100\n",
      "120  2019-11                              1595200\n",
      "121  2019-12                              1698300\n",
      "122  2020-01                              1715200\n",
      "123  2020-02                              1726900\n",
      "124  2020-03                              2058800\n",
      "125  2020-04                              2829100\n",
      "126  2020-05                              3105800\n",
      "127  2020-06                              2945900\n",
      "128  2020-07                              2625600\n",
      "129  2020-08                              2716600\n",
      "130  2020-09                              2774400\n",
      "131  2020-10                              2802600\n",
      "132  2020-11                              2968100\n",
      "133  2020-12                              3076300\n",
      "134  2021-01                              3101200\n",
      "135  2021-02                              3292500\n",
      "136  2021-03                              3663300\n",
      "137  2021-04                              3820500\n",
      "138  2021-05                              3791600\n",
      "139  2021-06                              3760300\n",
      "140  2021-07                              3856300\n",
      "141  2021-08                              4059300\n",
      "142  2021-09                              4124600\n",
      "143  2021-10                              4073500\n",
      "144  2021-11                              4135300\n",
      "145  2021-12                              4149900\n",
      "146  2022-01                              3839100\n",
      "147  2022-02                              3775800\n",
      "148  2022-03                              3848500\n",
      "149  2022-04                              3591400\n",
      "150  2022-05                              3296000\n",
      "151  2022-06                              3207000\n",
      "152  2022-07                              3239100\n",
      "153  2022-08                              3287200\n",
      "154  2022-09                              3111100\n",
      "155  2022-10                              3035900\n",
      "156  2022-11                              3107000\n",
      "157  2022-12                              3090000\n",
      "158  2023-01                              3014200\n",
      "159  2023-02                              3006200\n",
      "160  2023-03                              3043100\n",
      "161  2023-04                              2939800\n",
      "162  2023-05                              2928400\n",
      "163  2023-06                              2974300\n",
      "164  2023-07                              2906800\n",
      "165  2023-08                              2971200\n",
      "166  2023-09                              3017400\n",
      "167  2023-10                              3104600\n",
      "168  2023-11                              3250100\n",
      "'Extreme values for 3-Month Treasury C Minus FEDFUNDS:'\n",
      "     index  3-Month Treasury C Minus FEDFUNDS\n",
      "0  1974-07                              -5.37\n"
     ]
    }
   ],
   "source": [
    "def remove_outliers(data):\n",
    "    \"\"\"\n",
    "    Replaces outliers in a DataFrame with NaN based on IQR.\n",
    "    \"\"\"\n",
    "    mean = data.mean()\n",
    "    iqr = data.quantile([0.25, 0.75]).diff().T.iloc[:, 1]\n",
    "\n",
    "    # Create a mask to identify extreme values\n",
    "    mask = np.abs(data) > mean + 10 * iqr\n",
    "\n",
    "    # Replace extreme values with NaN and store the corresponding year\n",
    "    extreme_values = {}\n",
    "    for column in data.columns:\n",
    "        extreme_values[column] = data[column][mask[column]].dropna().reset_index()\n",
    "\n",
    "    data[mask] = np.nan\n",
    "    return data, extreme_values\n",
    "\n",
    "# Call the function\n",
    "fred_orig, extreme_values = remove_outliers(fred_orig) # Remove outliers for a specific period\n",
    "\n",
    "# Print the column names and values where outliers were found\n",
    "for column, values_df in extreme_values.items():\n",
    "    if not values_df.empty:\n",
    "        pprint(f\"Extreme values for {column}:\")\n",
    "        pprint(values_df)\n"
   ]
  },
  {
   "cell_type": "markdown",
   "metadata": {},
   "source": [
    "<div style=\"color:#5F9EA0\">\n",
    "\n",
    "##### Saving Data"
   ]
  },
  {
   "cell_type": "code",
   "execution_count": 19,
   "metadata": {},
   "outputs": [
    {
     "data": {
      "text/html": [
       "<div>\n",
       "<style scoped>\n",
       "    .dataframe tbody tr th:only-of-type {\n",
       "        vertical-align: middle;\n",
       "    }\n",
       "\n",
       "    .dataframe tbody tr th {\n",
       "        vertical-align: top;\n",
       "    }\n",
       "\n",
       "    .dataframe thead th {\n",
       "        text-align: right;\n",
       "    }\n",
       "</style>\n",
       "<table border=\"1\" class=\"dataframe\">\n",
       "  <thead>\n",
       "    <tr style=\"text-align: right;\">\n",
       "      <th></th>\n",
       "      <th>Real Personal Income</th>\n",
       "      <th>Real personal income ex transfer receipts</th>\n",
       "      <th>Real personal consumption expenditures</th>\n",
       "      <th>Real Manu. and Trade Industries Sales</th>\n",
       "      <th>Retail and Food Services Sales</th>\n",
       "      <th>IP Index</th>\n",
       "      <th>IP: Final Products and Nonindustrial Supplies</th>\n",
       "      <th>IP: Final Products (Market Group)</th>\n",
       "      <th>IP: Consumer Goods</th>\n",
       "      <th>IP: Durable Consumer Goods</th>\n",
       "      <th>IP: Nondurable Consumer Goods</th>\n",
       "      <th>IP: Business Equipment</th>\n",
       "      <th>IP: Materials</th>\n",
       "      <th>IP: Durable Materials</th>\n",
       "      <th>IP: Nondurable Materials</th>\n",
       "      <th>IP: Manufacturing (SIC)</th>\n",
       "      <th>IP: Fuels</th>\n",
       "      <th>Capacity Utilization: Manufacturing</th>\n",
       "      <th>Help-Wanted Index for United States</th>\n",
       "      <th>Ratio of Help Wanted/No. Unemployed</th>\n",
       "      <th>Civilian Labor Force</th>\n",
       "      <th>Civilian Employment</th>\n",
       "      <th>Civilian Unemployment Rate</th>\n",
       "      <th>Average Duration of Unemployment (Weeks)</th>\n",
       "      <th>Civilians Unemployed - Less Than 5 Weeks</th>\n",
       "      <th>Civilians Unemployed for 5-14 Weeks</th>\n",
       "      <th>Civilians Unemployed - 15 Weeks &amp; Over</th>\n",
       "      <th>Civilians Unemployed for 15-26 Weeks</th>\n",
       "      <th>Civilians Unemployed for 27 Weeks and Over</th>\n",
       "      <th>Initial Claims</th>\n",
       "      <th>All Employees: Total nonfarm</th>\n",
       "      <th>All Employees: Goods-Producing Industries</th>\n",
       "      <th>All Employees: Mining and Logging: Mining</th>\n",
       "      <th>All Employees: Construction</th>\n",
       "      <th>All Employees: Manufacturing</th>\n",
       "      <th>All Employees: Durable goods</th>\n",
       "      <th>All Employees: Nondurable goods</th>\n",
       "      <th>All Employees: Service-Providing Industries</th>\n",
       "      <th>All Employees: Trade, Transportation &amp; Utilities</th>\n",
       "      <th>All Employees: Wholesale Trade</th>\n",
       "      <th>All Employees: Retail Trade</th>\n",
       "      <th>All Employees: Financial Activities</th>\n",
       "      <th>All Employees: Government</th>\n",
       "      <th>Avg Weekly Hours : Goods-Producing</th>\n",
       "      <th>Avg Weekly Overtime Hours : Manufacturing</th>\n",
       "      <th>Avg Weekly Hours : Manufacturing</th>\n",
       "      <th>Housing Starts: Total New Privately Owned</th>\n",
       "      <th>Housing Starts, Northeast</th>\n",
       "      <th>Housing Starts, Midwest</th>\n",
       "      <th>Housing Starts, South</th>\n",
       "      <th>Housing Starts, West</th>\n",
       "      <th>New Private Housing Permits (SAAR)</th>\n",
       "      <th>New Private Housing Permits, Northeast (SAAR)</th>\n",
       "      <th>New Private Housing Permits, Midwest (SAAR)</th>\n",
       "      <th>New Private Housing Permits, South (SAAR)</th>\n",
       "      <th>New Private Housing Permits, West (SAAR)</th>\n",
       "      <th>New Orders for Consumer Goods</th>\n",
       "      <th>New Orders for Durable Goods</th>\n",
       "      <th>New Orders for Nondefense Capital Goods</th>\n",
       "      <th>Un lled Orders for Durable Goods</th>\n",
       "      <th>Total Business Inventories</th>\n",
       "      <th>Total Business: Inventories to Sales Ratio</th>\n",
       "      <th>M1 Money Stock</th>\n",
       "      <th>M2 Money Stock</th>\n",
       "      <th>Real M2 Money Stock</th>\n",
       "      <th>Total Reserves of Depository Institutions</th>\n",
       "      <th>Reserves Of Depository Institutions</th>\n",
       "      <th>Commercial and Industrial Loans</th>\n",
       "      <th>Real Estate Loans at All Commercial Banks</th>\n",
       "      <th>Total Nonrevolving Credit</th>\n",
       "      <th>Nonrevolving consumer credit to Personal Income</th>\n",
       "      <th>S&amp;P s Common Stock Price Index: Composite</th>\n",
       "      <th>S&amp;P s Common Stock Price Index: Industrials</th>\n",
       "      <th>S&amp;P s Composite Common Stock: Dividend Yield</th>\n",
       "      <th>S&amp;P s Composite Common Stock: Price-Earnings Ratio</th>\n",
       "      <th>E?ective Federal Funds Rate</th>\n",
       "      <th>3-Month AA Financial Commercial Paper Rate</th>\n",
       "      <th>3-Month Treasury Bill:</th>\n",
       "      <th>6-Month Treasury Bill:</th>\n",
       "      <th>1-Year Treasury Rate</th>\n",
       "      <th>5-Year Treasury Rate</th>\n",
       "      <th>10-Year Treasury Rate</th>\n",
       "      <th>Moody s Seasoned Aaa Corporate Bond Yield</th>\n",
       "      <th>Moody s Seasoned Baa Corporate Bond Yield</th>\n",
       "      <th>3-Month Commercial Paper Minus FEDFUNDS</th>\n",
       "      <th>3-Month Treasury C Minus FEDFUNDS</th>\n",
       "      <th>6-Month Treasury C Minus FEDFUNDS</th>\n",
       "      <th>1-Year Treasury C Minus FEDFUNDS</th>\n",
       "      <th>5-Year Treasury C Minus FEDFUNDS</th>\n",
       "      <th>10-Year Treasury C Minus FEDFUNDS</th>\n",
       "      <th>Moody s Aaa Corporate Bond Minus FEDFUNDS</th>\n",
       "      <th>Moody s Baa Corporate Bond Minus FEDFUNDS</th>\n",
       "      <th>Switzerland / U.S. Foreign Exchange Rate</th>\n",
       "      <th>Japan / U.S. Foreign Exchange Rate</th>\n",
       "      <th>U.S. / U.K. Foreign Exchange Rate</th>\n",
       "      <th>Canada / U.S. Foreign Exchange Rate</th>\n",
       "      <th>PPI: Finished Goods</th>\n",
       "      <th>PPI: Finished Consumer Goods</th>\n",
       "      <th>PPI: Intermediate Materials</th>\n",
       "      <th>PPI: Crude Materials</th>\n",
       "      <th>Crude Oil, spliced WTI and Cushing</th>\n",
       "      <th>PPI: Metals and metal products:</th>\n",
       "      <th>CPI : All Items</th>\n",
       "      <th>CPI : Apparel</th>\n",
       "      <th>CPI : Transportation</th>\n",
       "      <th>CPI : Medical Care</th>\n",
       "      <th>CPI : Commodities</th>\n",
       "      <th>CPI : Durables</th>\n",
       "      <th>CPI : Services</th>\n",
       "      <th>CPI : All Items Less Food</th>\n",
       "      <th>CPI : All items less shelter</th>\n",
       "      <th>CPI : All items less medical care</th>\n",
       "      <th>Personal Cons. Expend.: Chain Index</th>\n",
       "      <th>Personal Cons. Exp: Durable goods</th>\n",
       "      <th>Personal Cons. Exp: Nondurable goods</th>\n",
       "      <th>Personal Cons. Exp: Services</th>\n",
       "      <th>Avg Hourly Earnings : Goods-Producing</th>\n",
       "      <th>Avg Hourly Earnings : Construction</th>\n",
       "      <th>Avg Hourly Earnings : Manufacturing</th>\n",
       "      <th>Consumer Sentiment Index</th>\n",
       "      <th>Consumer Motor Vehicle Loans Outstanding</th>\n",
       "      <th>Total Consumer Loans and Leases Outstanding</th>\n",
       "      <th>Securities in Bank Credit at All Commercial Banks</th>\n",
       "    </tr>\n",
       "  </thead>\n",
       "  <tbody>\n",
       "    <tr>\n",
       "      <th>1959-01</th>\n",
       "      <td>2583.560</td>\n",
       "      <td>2426.0</td>\n",
       "      <td>15.188</td>\n",
       "      <td>276676.8154</td>\n",
       "      <td>18235.77392</td>\n",
       "      <td>21.9665</td>\n",
       "      <td>23.3891</td>\n",
       "      <td>22.2688</td>\n",
       "      <td>31.7011</td>\n",
       "      <td>19.0149</td>\n",
       "      <td>38.1501</td>\n",
       "      <td>8.0434</td>\n",
       "      <td>20.0387</td>\n",
       "      <td>11.9952</td>\n",
       "      <td>30.6591</td>\n",
       "      <td>20.8382</td>\n",
       "      <td>34.6654</td>\n",
       "      <td>80.1973</td>\n",
       "      <td>1357.0</td>\n",
       "      <td>0.333579</td>\n",
       "      <td>67936</td>\n",
       "      <td>63868</td>\n",
       "      <td>6.0</td>\n",
       "      <td>16.3</td>\n",
       "      <td>1574.0</td>\n",
       "      <td>1169.0</td>\n",
       "      <td>1396</td>\n",
       "      <td>594</td>\n",
       "      <td>802</td>\n",
       "      <td>291078.0</td>\n",
       "      <td>52478</td>\n",
       "      <td>18796</td>\n",
       "      <td>713.0</td>\n",
       "      <td>2993</td>\n",
       "      <td>14998</td>\n",
       "      <td>8740</td>\n",
       "      <td>6258</td>\n",
       "      <td>33682</td>\n",
       "      <td>10774</td>\n",
       "      <td>2568.7</td>\n",
       "      <td>5350.3</td>\n",
       "      <td>2418</td>\n",
       "      <td>8105</td>\n",
       "      <td>39.8</td>\n",
       "      <td>2.5</td>\n",
       "      <td>40.2</td>\n",
       "      <td>1657</td>\n",
       "      <td>350</td>\n",
       "      <td>452</td>\n",
       "      <td>505</td>\n",
       "      <td>350</td>\n",
       "      <td>NaN</td>\n",
       "      <td>NaN</td>\n",
       "      <td>NaN</td>\n",
       "      <td>NaN</td>\n",
       "      <td>NaN</td>\n",
       "      <td>NaN</td>\n",
       "      <td>14716.48296</td>\n",
       "      <td>NaN</td>\n",
       "      <td>42620.34624</td>\n",
       "      <td>84889.55898</td>\n",
       "      <td>1.560000</td>\n",
       "      <td>138.9</td>\n",
       "      <td>286.6</td>\n",
       "      <td>987.9</td>\n",
       "      <td>18.9</td>\n",
       "      <td>18300.0</td>\n",
       "      <td>35.2130</td>\n",
       "      <td>24.9242</td>\n",
       "      <td>48.96116</td>\n",
       "      <td>0.124965</td>\n",
       "      <td>55.62</td>\n",
       "      <td>59.30</td>\n",
       "      <td>3.158342</td>\n",
       "      <td>18.445741</td>\n",
       "      <td>2.48</td>\n",
       "      <td>3.30</td>\n",
       "      <td>2.82</td>\n",
       "      <td>3.09</td>\n",
       "      <td>3.36</td>\n",
       "      <td>4.01</td>\n",
       "      <td>4.02</td>\n",
       "      <td>4.12</td>\n",
       "      <td>4.87</td>\n",
       "      <td>0.82</td>\n",
       "      <td>0.34</td>\n",
       "      <td>0.61</td>\n",
       "      <td>0.88</td>\n",
       "      <td>1.53</td>\n",
       "      <td>1.54</td>\n",
       "      <td>1.64</td>\n",
       "      <td>2.39</td>\n",
       "      <td>4.3122</td>\n",
       "      <td>359.8417</td>\n",
       "      <td>2.8065</td>\n",
       "      <td>0.9671</td>\n",
       "      <td>33.1</td>\n",
       "      <td>33.4</td>\n",
       "      <td>30.6</td>\n",
       "      <td>31.6</td>\n",
       "      <td>3.0</td>\n",
       "      <td>32.5</td>\n",
       "      <td>29.01</td>\n",
       "      <td>44.8</td>\n",
       "      <td>29.3</td>\n",
       "      <td>21.1</td>\n",
       "      <td>33.3</td>\n",
       "      <td>38.1</td>\n",
       "      <td>22.9</td>\n",
       "      <td>28.9</td>\n",
       "      <td>30.7</td>\n",
       "      <td>29.6</td>\n",
       "      <td>15.164</td>\n",
       "      <td>63.517</td>\n",
       "      <td>18.294</td>\n",
       "      <td>10.152</td>\n",
       "      <td>2.13</td>\n",
       "      <td>2.45</td>\n",
       "      <td>2.04</td>\n",
       "      <td>NaN</td>\n",
       "      <td>6476.0</td>\n",
       "      <td>12298.0</td>\n",
       "      <td>84.2043</td>\n",
       "    </tr>\n",
       "    <tr>\n",
       "      <th>1959-02</th>\n",
       "      <td>2593.596</td>\n",
       "      <td>2434.8</td>\n",
       "      <td>15.346</td>\n",
       "      <td>278713.9773</td>\n",
       "      <td>18369.56308</td>\n",
       "      <td>22.3966</td>\n",
       "      <td>23.7048</td>\n",
       "      <td>22.4617</td>\n",
       "      <td>31.9337</td>\n",
       "      <td>19.1147</td>\n",
       "      <td>38.5147</td>\n",
       "      <td>8.1510</td>\n",
       "      <td>20.6733</td>\n",
       "      <td>12.5477</td>\n",
       "      <td>31.1959</td>\n",
       "      <td>21.2213</td>\n",
       "      <td>34.1932</td>\n",
       "      <td>81.4428</td>\n",
       "      <td>1421.0</td>\n",
       "      <td>0.358386</td>\n",
       "      <td>67649</td>\n",
       "      <td>63684</td>\n",
       "      <td>5.9</td>\n",
       "      <td>15.5</td>\n",
       "      <td>1554.0</td>\n",
       "      <td>1164.0</td>\n",
       "      <td>1277</td>\n",
       "      <td>545</td>\n",
       "      <td>732</td>\n",
       "      <td>282958.0</td>\n",
       "      <td>52688</td>\n",
       "      <td>18890</td>\n",
       "      <td>704.2</td>\n",
       "      <td>2980</td>\n",
       "      <td>15115</td>\n",
       "      <td>8839</td>\n",
       "      <td>6276</td>\n",
       "      <td>33798</td>\n",
       "      <td>10816</td>\n",
       "      <td>2575.4</td>\n",
       "      <td>5381.3</td>\n",
       "      <td>2420</td>\n",
       "      <td>8116</td>\n",
       "      <td>39.7</td>\n",
       "      <td>2.6</td>\n",
       "      <td>40.3</td>\n",
       "      <td>1667</td>\n",
       "      <td>346</td>\n",
       "      <td>469</td>\n",
       "      <td>508</td>\n",
       "      <td>344</td>\n",
       "      <td>NaN</td>\n",
       "      <td>NaN</td>\n",
       "      <td>NaN</td>\n",
       "      <td>NaN</td>\n",
       "      <td>NaN</td>\n",
       "      <td>NaN</td>\n",
       "      <td>15400.24873</td>\n",
       "      <td>NaN</td>\n",
       "      <td>43677.15151</td>\n",
       "      <td>85181.81131</td>\n",
       "      <td>1.539338</td>\n",
       "      <td>139.4</td>\n",
       "      <td>287.7</td>\n",
       "      <td>992.1</td>\n",
       "      <td>18.6</td>\n",
       "      <td>18100.0</td>\n",
       "      <td>35.2201</td>\n",
       "      <td>25.2270</td>\n",
       "      <td>49.51371</td>\n",
       "      <td>0.125765</td>\n",
       "      <td>54.77</td>\n",
       "      <td>58.33</td>\n",
       "      <td>3.219518</td>\n",
       "      <td>18.418119</td>\n",
       "      <td>2.43</td>\n",
       "      <td>3.26</td>\n",
       "      <td>2.70</td>\n",
       "      <td>3.13</td>\n",
       "      <td>3.54</td>\n",
       "      <td>3.96</td>\n",
       "      <td>3.96</td>\n",
       "      <td>4.14</td>\n",
       "      <td>4.89</td>\n",
       "      <td>0.83</td>\n",
       "      <td>0.27</td>\n",
       "      <td>0.70</td>\n",
       "      <td>1.11</td>\n",
       "      <td>1.53</td>\n",
       "      <td>1.53</td>\n",
       "      <td>1.71</td>\n",
       "      <td>2.46</td>\n",
       "      <td>4.3133</td>\n",
       "      <td>359.8417</td>\n",
       "      <td>2.8093</td>\n",
       "      <td>0.9748</td>\n",
       "      <td>33.2</td>\n",
       "      <td>33.4</td>\n",
       "      <td>30.7</td>\n",
       "      <td>31.4</td>\n",
       "      <td>3.0</td>\n",
       "      <td>32.5</td>\n",
       "      <td>29.00</td>\n",
       "      <td>44.7</td>\n",
       "      <td>29.4</td>\n",
       "      <td>21.2</td>\n",
       "      <td>33.3</td>\n",
       "      <td>38.1</td>\n",
       "      <td>23.0</td>\n",
       "      <td>28.9</td>\n",
       "      <td>30.7</td>\n",
       "      <td>29.6</td>\n",
       "      <td>15.179</td>\n",
       "      <td>63.554</td>\n",
       "      <td>18.302</td>\n",
       "      <td>10.167</td>\n",
       "      <td>2.14</td>\n",
       "      <td>2.46</td>\n",
       "      <td>2.05</td>\n",
       "      <td>NaN</td>\n",
       "      <td>6476.0</td>\n",
       "      <td>12298.0</td>\n",
       "      <td>83.5280</td>\n",
       "    </tr>\n",
       "  </tbody>\n",
       "</table>\n",
       "</div>"
      ],
      "text/plain": [
       "         Real Personal Income  Real personal income ex transfer receipts  \\\n",
       "1959-01              2583.560                                     2426.0   \n",
       "1959-02              2593.596                                     2434.8   \n",
       "\n",
       "         Real personal consumption expenditures  \\\n",
       "1959-01                                  15.188   \n",
       "1959-02                                  15.346   \n",
       "\n",
       "         Real Manu. and Trade Industries Sales  \\\n",
       "1959-01                            276676.8154   \n",
       "1959-02                            278713.9773   \n",
       "\n",
       "         Retail and Food Services Sales  IP Index  \\\n",
       "1959-01                     18235.77392   21.9665   \n",
       "1959-02                     18369.56308   22.3966   \n",
       "\n",
       "         IP: Final Products and Nonindustrial Supplies  \\\n",
       "1959-01                                        23.3891   \n",
       "1959-02                                        23.7048   \n",
       "\n",
       "         IP: Final Products (Market Group)  IP: Consumer Goods  \\\n",
       "1959-01                            22.2688             31.7011   \n",
       "1959-02                            22.4617             31.9337   \n",
       "\n",
       "         IP: Durable Consumer Goods  IP: Nondurable Consumer Goods  \\\n",
       "1959-01                     19.0149                        38.1501   \n",
       "1959-02                     19.1147                        38.5147   \n",
       "\n",
       "         IP: Business Equipment  IP: Materials  IP: Durable Materials  \\\n",
       "1959-01                  8.0434        20.0387                11.9952   \n",
       "1959-02                  8.1510        20.6733                12.5477   \n",
       "\n",
       "         IP: Nondurable Materials  IP: Manufacturing (SIC)  IP: Fuels  \\\n",
       "1959-01                   30.6591                  20.8382    34.6654   \n",
       "1959-02                   31.1959                  21.2213    34.1932   \n",
       "\n",
       "         Capacity Utilization: Manufacturing  \\\n",
       "1959-01                              80.1973   \n",
       "1959-02                              81.4428   \n",
       "\n",
       "         Help-Wanted Index for United States  \\\n",
       "1959-01                               1357.0   \n",
       "1959-02                               1421.0   \n",
       "\n",
       "         Ratio of Help Wanted/No. Unemployed  Civilian Labor Force  \\\n",
       "1959-01                             0.333579                 67936   \n",
       "1959-02                             0.358386                 67649   \n",
       "\n",
       "         Civilian Employment  Civilian Unemployment Rate  \\\n",
       "1959-01                63868                         6.0   \n",
       "1959-02                63684                         5.9   \n",
       "\n",
       "         Average Duration of Unemployment (Weeks)  \\\n",
       "1959-01                                      16.3   \n",
       "1959-02                                      15.5   \n",
       "\n",
       "         Civilians Unemployed - Less Than 5 Weeks  \\\n",
       "1959-01                                    1574.0   \n",
       "1959-02                                    1554.0   \n",
       "\n",
       "         Civilians Unemployed for 5-14 Weeks  \\\n",
       "1959-01                               1169.0   \n",
       "1959-02                               1164.0   \n",
       "\n",
       "         Civilians Unemployed - 15 Weeks & Over  \\\n",
       "1959-01                                    1396   \n",
       "1959-02                                    1277   \n",
       "\n",
       "         Civilians Unemployed for 15-26 Weeks  \\\n",
       "1959-01                                   594   \n",
       "1959-02                                   545   \n",
       "\n",
       "         Civilians Unemployed for 27 Weeks and Over  Initial Claims  \\\n",
       "1959-01                                         802        291078.0   \n",
       "1959-02                                         732        282958.0   \n",
       "\n",
       "         All Employees: Total nonfarm  \\\n",
       "1959-01                         52478   \n",
       "1959-02                         52688   \n",
       "\n",
       "         All Employees: Goods-Producing Industries  \\\n",
       "1959-01                                      18796   \n",
       "1959-02                                      18890   \n",
       "\n",
       "         All Employees: Mining and Logging: Mining  \\\n",
       "1959-01                                      713.0   \n",
       "1959-02                                      704.2   \n",
       "\n",
       "         All Employees: Construction  All Employees: Manufacturing  \\\n",
       "1959-01                         2993                         14998   \n",
       "1959-02                         2980                         15115   \n",
       "\n",
       "         All Employees: Durable goods  All Employees: Nondurable goods  \\\n",
       "1959-01                          8740                             6258   \n",
       "1959-02                          8839                             6276   \n",
       "\n",
       "         All Employees: Service-Providing Industries  \\\n",
       "1959-01                                        33682   \n",
       "1959-02                                        33798   \n",
       "\n",
       "         All Employees: Trade, Transportation & Utilities  \\\n",
       "1959-01                                             10774   \n",
       "1959-02                                             10816   \n",
       "\n",
       "         All Employees: Wholesale Trade  All Employees: Retail Trade  \\\n",
       "1959-01                          2568.7                       5350.3   \n",
       "1959-02                          2575.4                       5381.3   \n",
       "\n",
       "         All Employees: Financial Activities  All Employees: Government  \\\n",
       "1959-01                                 2418                       8105   \n",
       "1959-02                                 2420                       8116   \n",
       "\n",
       "         Avg Weekly Hours : Goods-Producing  \\\n",
       "1959-01                                39.8   \n",
       "1959-02                                39.7   \n",
       "\n",
       "         Avg Weekly Overtime Hours : Manufacturing  \\\n",
       "1959-01                                        2.5   \n",
       "1959-02                                        2.6   \n",
       "\n",
       "         Avg Weekly Hours : Manufacturing  \\\n",
       "1959-01                              40.2   \n",
       "1959-02                              40.3   \n",
       "\n",
       "         Housing Starts: Total New Privately Owned  Housing Starts, Northeast  \\\n",
       "1959-01                                       1657                        350   \n",
       "1959-02                                       1667                        346   \n",
       "\n",
       "         Housing Starts, Midwest  Housing Starts, South  Housing Starts, West  \\\n",
       "1959-01                      452                    505                   350   \n",
       "1959-02                      469                    508                   344   \n",
       "\n",
       "         New Private Housing Permits (SAAR)  \\\n",
       "1959-01                                 NaN   \n",
       "1959-02                                 NaN   \n",
       "\n",
       "         New Private Housing Permits, Northeast (SAAR)  \\\n",
       "1959-01                                            NaN   \n",
       "1959-02                                            NaN   \n",
       "\n",
       "         New Private Housing Permits, Midwest (SAAR)  \\\n",
       "1959-01                                          NaN   \n",
       "1959-02                                          NaN   \n",
       "\n",
       "         New Private Housing Permits, South (SAAR)  \\\n",
       "1959-01                                        NaN   \n",
       "1959-02                                        NaN   \n",
       "\n",
       "         New Private Housing Permits, West (SAAR)  \\\n",
       "1959-01                                       NaN   \n",
       "1959-02                                       NaN   \n",
       "\n",
       "         New Orders for Consumer Goods  New Orders for Durable Goods  \\\n",
       "1959-01                            NaN                   14716.48296   \n",
       "1959-02                            NaN                   15400.24873   \n",
       "\n",
       "         New Orders for Nondefense Capital Goods  \\\n",
       "1959-01                                      NaN   \n",
       "1959-02                                      NaN   \n",
       "\n",
       "         Un lled Orders for Durable Goods  Total Business Inventories  \\\n",
       "1959-01                       42620.34624                 84889.55898   \n",
       "1959-02                       43677.15151                 85181.81131   \n",
       "\n",
       "         Total Business: Inventories to Sales Ratio  M1 Money Stock  \\\n",
       "1959-01                                    1.560000           138.9   \n",
       "1959-02                                    1.539338           139.4   \n",
       "\n",
       "         M2 Money Stock  Real M2 Money Stock  \\\n",
       "1959-01           286.6                987.9   \n",
       "1959-02           287.7                992.1   \n",
       "\n",
       "         Total Reserves of Depository Institutions  \\\n",
       "1959-01                                       18.9   \n",
       "1959-02                                       18.6   \n",
       "\n",
       "         Reserves Of Depository Institutions  Commercial and Industrial Loans  \\\n",
       "1959-01                              18300.0                          35.2130   \n",
       "1959-02                              18100.0                          35.2201   \n",
       "\n",
       "         Real Estate Loans at All Commercial Banks  Total Nonrevolving Credit  \\\n",
       "1959-01                                    24.9242                   48.96116   \n",
       "1959-02                                    25.2270                   49.51371   \n",
       "\n",
       "         Nonrevolving consumer credit to Personal Income  \\\n",
       "1959-01                                         0.124965   \n",
       "1959-02                                         0.125765   \n",
       "\n",
       "         S&P s Common Stock Price Index: Composite  \\\n",
       "1959-01                                      55.62   \n",
       "1959-02                                      54.77   \n",
       "\n",
       "         S&P s Common Stock Price Index: Industrials  \\\n",
       "1959-01                                        59.30   \n",
       "1959-02                                        58.33   \n",
       "\n",
       "         S&P s Composite Common Stock: Dividend Yield  \\\n",
       "1959-01                                      3.158342   \n",
       "1959-02                                      3.219518   \n",
       "\n",
       "         S&P s Composite Common Stock: Price-Earnings Ratio  \\\n",
       "1959-01                                           18.445741   \n",
       "1959-02                                           18.418119   \n",
       "\n",
       "         E?ective Federal Funds Rate  \\\n",
       "1959-01                         2.48   \n",
       "1959-02                         2.43   \n",
       "\n",
       "         3-Month AA Financial Commercial Paper Rate  3-Month Treasury Bill:  \\\n",
       "1959-01                                        3.30                    2.82   \n",
       "1959-02                                        3.26                    2.70   \n",
       "\n",
       "         6-Month Treasury Bill:  1-Year Treasury Rate  5-Year Treasury Rate  \\\n",
       "1959-01                    3.09                  3.36                  4.01   \n",
       "1959-02                    3.13                  3.54                  3.96   \n",
       "\n",
       "         10-Year Treasury Rate  Moody s Seasoned Aaa Corporate Bond Yield  \\\n",
       "1959-01                   4.02                                       4.12   \n",
       "1959-02                   3.96                                       4.14   \n",
       "\n",
       "         Moody s Seasoned Baa Corporate Bond Yield  \\\n",
       "1959-01                                       4.87   \n",
       "1959-02                                       4.89   \n",
       "\n",
       "         3-Month Commercial Paper Minus FEDFUNDS  \\\n",
       "1959-01                                     0.82   \n",
       "1959-02                                     0.83   \n",
       "\n",
       "         3-Month Treasury C Minus FEDFUNDS  6-Month Treasury C Minus FEDFUNDS  \\\n",
       "1959-01                               0.34                               0.61   \n",
       "1959-02                               0.27                               0.70   \n",
       "\n",
       "         1-Year Treasury C Minus FEDFUNDS  5-Year Treasury C Minus FEDFUNDS  \\\n",
       "1959-01                              0.88                              1.53   \n",
       "1959-02                              1.11                              1.53   \n",
       "\n",
       "         10-Year Treasury C Minus FEDFUNDS  \\\n",
       "1959-01                               1.54   \n",
       "1959-02                               1.53   \n",
       "\n",
       "         Moody s Aaa Corporate Bond Minus FEDFUNDS  \\\n",
       "1959-01                                       1.64   \n",
       "1959-02                                       1.71   \n",
       "\n",
       "         Moody s Baa Corporate Bond Minus FEDFUNDS  \\\n",
       "1959-01                                       2.39   \n",
       "1959-02                                       2.46   \n",
       "\n",
       "         Switzerland / U.S. Foreign Exchange Rate  \\\n",
       "1959-01                                    4.3122   \n",
       "1959-02                                    4.3133   \n",
       "\n",
       "         Japan / U.S. Foreign Exchange Rate  \\\n",
       "1959-01                            359.8417   \n",
       "1959-02                            359.8417   \n",
       "\n",
       "         U.S. / U.K. Foreign Exchange Rate  \\\n",
       "1959-01                             2.8065   \n",
       "1959-02                             2.8093   \n",
       "\n",
       "         Canada / U.S. Foreign Exchange Rate  PPI: Finished Goods  \\\n",
       "1959-01                               0.9671                 33.1   \n",
       "1959-02                               0.9748                 33.2   \n",
       "\n",
       "         PPI: Finished Consumer Goods  PPI: Intermediate Materials  \\\n",
       "1959-01                          33.4                         30.6   \n",
       "1959-02                          33.4                         30.7   \n",
       "\n",
       "         PPI: Crude Materials  Crude Oil, spliced WTI and Cushing  \\\n",
       "1959-01                  31.6                                 3.0   \n",
       "1959-02                  31.4                                 3.0   \n",
       "\n",
       "         PPI: Metals and metal products:  CPI : All Items  CPI : Apparel  \\\n",
       "1959-01                             32.5            29.01           44.8   \n",
       "1959-02                             32.5            29.00           44.7   \n",
       "\n",
       "         CPI : Transportation  CPI : Medical Care  CPI : Commodities  \\\n",
       "1959-01                  29.3                21.1               33.3   \n",
       "1959-02                  29.4                21.2               33.3   \n",
       "\n",
       "         CPI : Durables  CPI : Services  CPI : All Items Less Food  \\\n",
       "1959-01            38.1            22.9                       28.9   \n",
       "1959-02            38.1            23.0                       28.9   \n",
       "\n",
       "         CPI : All items less shelter  CPI : All items less medical care  \\\n",
       "1959-01                          30.7                               29.6   \n",
       "1959-02                          30.7                               29.6   \n",
       "\n",
       "         Personal Cons. Expend.: Chain Index  \\\n",
       "1959-01                               15.164   \n",
       "1959-02                               15.179   \n",
       "\n",
       "         Personal Cons. Exp: Durable goods  \\\n",
       "1959-01                             63.517   \n",
       "1959-02                             63.554   \n",
       "\n",
       "         Personal Cons. Exp: Nondurable goods  Personal Cons. Exp: Services  \\\n",
       "1959-01                                18.294                        10.152   \n",
       "1959-02                                18.302                        10.167   \n",
       "\n",
       "         Avg Hourly Earnings : Goods-Producing  \\\n",
       "1959-01                                   2.13   \n",
       "1959-02                                   2.14   \n",
       "\n",
       "         Avg Hourly Earnings : Construction  \\\n",
       "1959-01                                2.45   \n",
       "1959-02                                2.46   \n",
       "\n",
       "         Avg Hourly Earnings : Manufacturing  Consumer Sentiment Index  \\\n",
       "1959-01                                 2.04                       NaN   \n",
       "1959-02                                 2.05                       NaN   \n",
       "\n",
       "         Consumer Motor Vehicle Loans Outstanding  \\\n",
       "1959-01                                    6476.0   \n",
       "1959-02                                    6476.0   \n",
       "\n",
       "         Total Consumer Loans and Leases Outstanding  \\\n",
       "1959-01                                      12298.0   \n",
       "1959-02                                      12298.0   \n",
       "\n",
       "         Securities in Bank Credit at All Commercial Banks  \n",
       "1959-01                                            84.2043  \n",
       "1959-02                                            83.5280  "
      ]
     },
     "execution_count": 19,
     "metadata": {},
     "output_type": "execute_result"
    }
   ],
   "source": [
    "fred_orig.head(2)"
   ]
  },
  {
   "cell_type": "code",
   "execution_count": 20,
   "metadata": {},
   "outputs": [],
   "source": [
    "# Saving Data\n",
    "fred_orig.to_csv(\"./results/monthly.csv\")\n",
    "pce_df.to_csv(\"./results/pce.csv\")"
   ]
  },
  {
   "cell_type": "markdown",
   "metadata": {},
   "source": [
    "<div style=\"color:#00BFFF\">\n",
    "\n",
    "## Data Harmonization and Transformation"
   ]
  },
  {
   "cell_type": "markdown",
   "metadata": {},
   "source": [
    "<div style=\"color:#5F9EA0\">\n",
    "\n",
    "##### Standardizing Data by Rate of Change: \n",
    "\n",
    "</div>\n",
    "\n",
    "Objective: To compare different economic indicators on a common scale.\n",
    "Method: We normalize the growth rates of various indicators. This standardization facilitates more meaningful analysis across diverse data points, as it accounts for differences in magnitude and unit measurements."
   ]
  },
  {
   "cell_type": "code",
   "execution_count": 21,
   "metadata": {},
   "outputs": [],
   "source": [
    "# Filter the data to include only observations from the year 2000 onwards\n",
    "fred_orig = fred_orig[fred_orig.index.year >= 2000]\n",
    "pce_df = pce_df[pce_df.index.year >= 2000]\n",
    "\n",
    "# Calculate the month-over-month rate of change for the FRED dataset\n",
    "fred_rate_of_change = fred_orig.pct_change()\n",
    "\n",
    "# Calculate the quarter-over-quarter rate of change for the PCE dataset\n",
    "pce_rate_of_change = pce_df.pct_change()\n"
   ]
  },
  {
   "cell_type": "markdown",
   "metadata": {},
   "source": [
    "<div style=\"color:#5F9EA0\">\n",
    "\n",
    "##### Frequency Alignment: \n",
    "</div>\n",
    "- Transform the monthly economic indices from FRED to a quarterly format to align with the BEA’s quarterly GDP data. Calculate the sum or average (as appropriate) of monthly values within each quarter. \n"
   ]
  },
  {
   "cell_type": "code",
   "execution_count": 22,
   "metadata": {},
   "outputs": [
    {
     "name": "stdout",
     "output_type": "stream",
     "text": [
      "PeriodIndex(['2000Q1', '2000Q2', '2000Q3', '2000Q4', '2001Q1'], dtype='period[Q-DEC]')\n",
      "PeriodIndex(['2000Q1', '2000Q2', '2000Q3', '2000Q4', '2001Q1'], dtype='period[Q-DEC]')\n"
     ]
    }
   ],
   "source": [
    "# Convert DateTimeIndex to PeriodIndex with quarterly frequency\n",
    "pce_rate_of_change.index = pce_rate_of_change.index.to_period('Q')\n",
    "\n",
    "# Convert the monthly rate of change data to quarterly\n",
    "# We'll use the the sum aggregation method, which is suitable for rate of change data\n",
    "fred_quarterly_rate_of_change = fred_rate_of_change.resample('Q').sum()\n",
    "\n",
    "# print the first 5 rows of the index of both datasets to compare\n",
    "print(fred_quarterly_rate_of_change.index[:5])\n",
    "print(pce_rate_of_change.index[:5])"
   ]
  },
  {
   "cell_type": "markdown",
   "metadata": {},
   "source": [
    "<div style=\"color:#DC143C\">\n",
    "\n",
    "##### Possible Transformation of Growth Rates: \n",
    "\n",
    "**Status:** *In Progress* - We are currently in the process of evaluating each indicator to determine the necessity and suitability of log transformation."
   ]
  },
  {
   "cell_type": "markdown",
   "metadata": {},
   "source": [
    "<div style=\"color:#DC143C\">\n",
    "\n",
    "**Seasonal Adjustments**"
   ]
  },
  {
   "cell_type": "markdown",
   "metadata": {},
   "source": [
    "Adjust high-frequency data for seasonality, if necessary, to isolate the core economic trends from regular seasonal patterns. This step will make the data more representative of general economic behaviours, irrespective of seasonal influences.\n",
    "\n",
    "- **Technique**: Applying time-series decomposition methods to separate the data into trend, seasonal, and residual components and then adjusting for these seasonal effects.\n",
    "- **Objective**: To accurately capture the underlying trends in consumer spending by removing repetitive seasonal patterns, which are regular but not necessarily related to the economic indicators of interest. *While crucial, we have to ensure this doesn't lead to an overly complex focus on time-series analysis techniques unless they are directly relevant to identifying proxies.*"
   ]
  },
  {
   "cell_type": "code",
   "execution_count": 23,
   "metadata": {},
   "outputs": [],
   "source": [
    "# To be Conducted"
   ]
  },
  {
   "cell_type": "markdown",
   "metadata": {},
   "source": [
    "\n",
    "<div style=\"color:#DC143C\">\n",
    "\n",
    "**Log Transformation for Monthly Data**\n",
    "\n",
    "</div>\n",
    "\n",
    "- **Rationale:** Logarithmic transformation is used to stabilize the variance in data that exhibits exponential growth or large fluctuations. This is especially crucial for datasets like FRED's, where certain indicators can show significant variability over time.\n",
    "- **Procedure:**\n",
    "  - **Inspect Data:** We start by visually inspecting the PCE rate of change data and the FRED rate of change data for skewness and variance.\n",
    "  - **Apply Transformations:** For indicators showing signs of exponential growth or high variability, we implement logarithmic transformations. This approach helps in linearizing the growth trends and stabilizing the variance.\n",
    "  - **FRED Logarithmic Key Mapping:** FRED provides a logarithmic key mapping for its indicators, which we utilize to ensure consistent and accurate transformations."
   ]
  },
  {
   "cell_type": "code",
   "execution_count": 24,
   "metadata": {},
   "outputs": [],
   "source": [
    "#get transformation codes from fred_defintions\n",
    "# transform_info = transform_info.to_frame().T\n",
    "# transform_info = map_column_names(transform_info, column_defn_file)\n",
    "# transform_info"
   ]
  },
  {
   "cell_type": "code",
   "execution_count": 25,
   "metadata": {},
   "outputs": [
    {
     "data": {
      "text/html": [
       "<div>\n",
       "<style scoped>\n",
       "    .dataframe tbody tr th:only-of-type {\n",
       "        vertical-align: middle;\n",
       "    }\n",
       "\n",
       "    .dataframe tbody tr th {\n",
       "        vertical-align: top;\n",
       "    }\n",
       "\n",
       "    .dataframe thead th {\n",
       "        text-align: right;\n",
       "    }\n",
       "</style>\n",
       "<table border=\"1\" class=\"dataframe\">\n",
       "  <thead>\n",
       "    <tr style=\"text-align: right;\">\n",
       "      <th></th>\n",
       "      <th>Skewness</th>\n",
       "      <th>Kurtosis</th>\n",
       "      <th>Variance</th>\n",
       "      <th>Interpretation</th>\n",
       "      <th>Transformation</th>\n",
       "      <th>Visualization</th>\n",
       "    </tr>\n",
       "  </thead>\n",
       "  <tbody>\n",
       "    <tr>\n",
       "      <th>Reserves Of Depository Institutions</th>\n",
       "      <td>9.363761</td>\n",
       "      <td>90.642137</td>\n",
       "      <td>4.478166</td>\n",
       "      <td>Right Skewed, Heavy Tails</td>\n",
       "      <td>Square Root or Log</td>\n",
       "      <td>Boxplot for Outliers</td>\n",
       "    </tr>\n",
       "    <tr>\n",
       "      <th>Initial Claims</th>\n",
       "      <td>9.234655</td>\n",
       "      <td>88.764637</td>\n",
       "      <td>0.280635</td>\n",
       "      <td>Right Skewed, Heavy Tails</td>\n",
       "      <td>Square Root or Log</td>\n",
       "      <td>Boxplot for Outliers</td>\n",
       "    </tr>\n",
       "    <tr>\n",
       "      <th>Civilian Unemployment Rate</th>\n",
       "      <td>8.278302</td>\n",
       "      <td>76.650733</td>\n",
       "      <td>0.050298</td>\n",
       "      <td>Right Skewed, Heavy Tails</td>\n",
       "      <td>Square Root or Log</td>\n",
       "      <td>Boxplot for Outliers</td>\n",
       "    </tr>\n",
       "    <tr>\n",
       "      <th>Total Reserves of Depository Institutions</th>\n",
       "      <td>8.069044</td>\n",
       "      <td>69.974416</td>\n",
       "      <td>0.135457</td>\n",
       "      <td>Right Skewed, Heavy Tails</td>\n",
       "      <td>Square Root or Log</td>\n",
       "      <td>Boxplot for Outliers</td>\n",
       "    </tr>\n",
       "    <tr>\n",
       "      <th>Civilians Unemployed for 5-14 Weeks</th>\n",
       "      <td>7.880721</td>\n",
       "      <td>74.009068</td>\n",
       "      <td>0.09823</td>\n",
       "      <td>Right Skewed, Heavy Tails</td>\n",
       "      <td>Square Root or Log</td>\n",
       "      <td>Boxplot for Outliers</td>\n",
       "    </tr>\n",
       "  </tbody>\n",
       "</table>\n",
       "</div>"
      ],
      "text/plain": [
       "                                           Skewness   Kurtosis  Variance  \\\n",
       "Reserves Of Depository Institutions        9.363761  90.642137  4.478166   \n",
       "Initial Claims                             9.234655  88.764637  0.280635   \n",
       "Civilian Unemployment Rate                 8.278302  76.650733  0.050298   \n",
       "Total Reserves of Depository Institutions  8.069044  69.974416  0.135457   \n",
       "Civilians Unemployed for 5-14 Weeks        7.880721  74.009068   0.09823   \n",
       "\n",
       "                                                      Interpretation  \\\n",
       "Reserves Of Depository Institutions        Right Skewed, Heavy Tails   \n",
       "Initial Claims                             Right Skewed, Heavy Tails   \n",
       "Civilian Unemployment Rate                 Right Skewed, Heavy Tails   \n",
       "Total Reserves of Depository Institutions  Right Skewed, Heavy Tails   \n",
       "Civilians Unemployed for 5-14 Weeks        Right Skewed, Heavy Tails   \n",
       "\n",
       "                                               Transformation  \\\n",
       "Reserves Of Depository Institutions        Square Root or Log   \n",
       "Initial Claims                             Square Root or Log   \n",
       "Civilian Unemployment Rate                 Square Root or Log   \n",
       "Total Reserves of Depository Institutions  Square Root or Log   \n",
       "Civilians Unemployed for 5-14 Weeks        Square Root or Log   \n",
       "\n",
       "                                                  Visualization  \n",
       "Reserves Of Depository Institutions        Boxplot for Outliers  \n",
       "Initial Claims                             Boxplot for Outliers  \n",
       "Civilian Unemployment Rate                 Boxplot for Outliers  \n",
       "Total Reserves of Depository Institutions  Boxplot for Outliers  \n",
       "Civilians Unemployed for 5-14 Weeks        Boxplot for Outliers  "
      ]
     },
     "execution_count": 25,
     "metadata": {},
     "output_type": "execute_result"
    }
   ],
   "source": [
    "def calculate_distribution_stats(df):\n",
    "    # Calculate skewness, kurtosis, and variance for each column\n",
    "    \n",
    "    stats_df = pd.DataFrame(index=df.columns, \n",
    "                            columns=['Skewness', 'Kurtosis', 'Variance', \n",
    "                                     'Interpretation', 'Transformation', 'Visualization'])\n",
    "\n",
    "    for column in df.columns:\n",
    "        stats_df.at[column, 'Skewness'] = df[column].skew()\n",
    "        stats_df.at[column, 'Kurtosis'] = df[column].kurtosis()\n",
    "        stats_df.at[column, 'Variance'] = df[column].var()\n",
    "\n",
    "        # Interpretation of skewness and kurtosis\n",
    "        skew = stats_df.at[column, 'Skewness']\n",
    "        kurt = stats_df.at[column, 'Kurtosis']\n",
    "        transformation = \"None\"\n",
    "        log_transformation = \"None\"\n",
    "        visualization = \"Histogram or Boxplot\"\n",
    "\n",
    "        if np.abs(skew) < 0.5:\n",
    "            interpretation = 'Fairly Symmetrical'\n",
    "            if df[column].min() >= 0:\n",
    "                transformation = 'Log'\n",
    "        elif skew >= 0.5:\n",
    "            interpretation = 'Right Skewed'\n",
    "            transformation = 'Square Root or Log'\n",
    "        elif skew <= -0.5:\n",
    "            interpretation = 'Left Skewed'\n",
    "            transformation = 'Square or Cube'\n",
    "\n",
    "        if kurt > 3:\n",
    "            interpretation += \", Heavy Tails\"\n",
    "            visualization = \"Boxplot for Outliers\"\n",
    "\n",
    "        stats_df.at[column, 'Interpretation'] = interpretation\n",
    "        stats_df.at[column, 'Transformation'] = transformation\n",
    "        stats_df.at[column, 'Visualization'] = visualization\n",
    "\n",
    "    # Sort the DataFrame based on the absolute skewness\n",
    "    stats_df['Absolute Skewness'] = stats_df['Skewness'].abs()\n",
    "    sorted_stats = stats_df.sort_values(by='Absolute Skewness', ascending=False)\n",
    "\n",
    "    return sorted_stats.drop('Absolute Skewness', axis=1)\n",
    "\n",
    "# Example usage with your DataFrame\n",
    "distribution_stats = calculate_distribution_stats(fred_quarterly_rate_of_change)\n",
    "distribution_stats.head()\n"
   ]
  },
  {
   "cell_type": "code",
   "execution_count": 26,
   "metadata": {},
   "outputs": [],
   "source": [
    "# def transform(column, transformation_code):\n",
    "#     \"\"\"\n",
    "#     Applies the specified transformation to a Pandas Series.\n",
    "#     Transformation Codes from FRED suggested Description:\n",
    "#     1. No Transformation, 2. First Difference, 3. Second Difference,\n",
    "#     4. Log Transformation, 5. Log First Difference, 6. Log Second Difference,\n",
    "#     7. Exact Percent Change\n",
    "#     \"\"\"\n",
    "#     # Multiplier for quarterly data; if data is quarterly, multiply by 4, else 1\n",
    "#     mult = 4 if column.index.freqstr[0] == 'Q' else 1\n",
    "\n",
    "#     if transformation_code == 1:\n",
    "#         # No transformation, return the column as is\n",
    "#         return column\n",
    "#     if transformation_code == 2:\n",
    "#         # First Difference: Subtract each element from its predecessor\n",
    "#         # Useful for converting a series to its change values\n",
    "#         return column.diff()\n",
    "#     if transformation_code == 3:\n",
    "#         # Second Difference: Apply first difference twice\n",
    "#         # Useful when first difference is insufficient to achieve stationarity\n",
    "#         return column.diff().diff()\n",
    "#     if transformation_code == 4:\n",
    "#         # Log Transformation: Apply natural logarithm\n",
    "#         # Useful for data with exponential growth patterns\n",
    "#         return np.log(column)\n",
    "#     if transformation_code == 5:\n",
    "#         # Log First Difference: Apply log transformation, then first difference\n",
    "#         # Multiplied by 100 for percentage change, especially useful for financial data\n",
    "#         return np.log(column).diff() * 100 * mult\n",
    "#     if transformation_code == 6:\n",
    "#         # Log Second Difference: Apply log transformation, then second difference\n",
    "#         # Similar to Code 5 but provides a more refined measure of change\n",
    "#         return np.log(column).diff().diff() * 100 * mult\n",
    "#     if transformation_code == 7:\n",
    "#         # Exact Percent Change: Calculate the percentage change from one period to the next\n",
    "#         # Useful for directly understanding growth rates\n",
    "#         return ((column / column.shift(1))**mult - 1.0) * 100\n"
   ]
  },
  {
   "cell_type": "code",
   "execution_count": 27,
   "metadata": {},
   "outputs": [],
   "source": [
    "\n",
    "# # Transformation Code 5 for 'PCE', and Code 6 for the rest\n",
    "# pce_df_transformed = pce_df.apply(lambda col: transform(col, 5 if col.name == 'PCE' else 6))\n",
    "# # Apply log transformations using original column names according to FRED guidelines\n",
    "# # fred_log_transform = fred_quarterly_rate_of_change.apply(lambda col: transform(col, transform_info[col.name][0]))\n",
    "# pce_df_transformed"
   ]
  },
  {
   "cell_type": "code",
   "execution_count": 28,
   "metadata": {},
   "outputs": [],
   "source": [
    "# # Create an empty DataFrame to store the transformed data\n",
    "# fred_log_transform = pd.DataFrame(index=fred_quarterly_rate_of_change.index)\n",
    "\n",
    "# # Iterate through each column in fred_quarterly_rate_of_change\n",
    "# for column_name in fred_quarterly_rate_of_change.columns:\n",
    "#     # Fetch the transformation code for the current column from transform_info\n",
    "#     transformation_code = transform_info.at[0, column_name]\n",
    "\n",
    "#     # Apply the transformation using the transform function\n",
    "#     transformed_column = transform(fred_quarterly_rate_of_change[column_name], transformation_code)\n",
    "\n",
    "#     # Store the transformed column in the new DataFrame\n",
    "#     fred_log_transform[column_name] = transformed_column\n",
    "\n",
    "# fred_log_transform.head()"
   ]
  },
  {
   "cell_type": "markdown",
   "metadata": {},
   "source": [
    "<div style=\"color:#5F9EA0\">\n",
    "\n",
    "##### Quarterly Data Integration\n",
    "\n",
    "</div>\n",
    "- We will merge quarterly BEA PCE rate of change data framework with the FRED transformed quarter-over-quarter rate of change into a unified framework using pandas, ensuring seamless integration and compatibility. \n",
    "- This step is vital for consolidating different economic indicators into a single, comprehensive analysis."
   ]
  },
  {
   "cell_type": "code",
   "execution_count": 29,
   "metadata": {},
   "outputs": [],
   "source": [
    "# pce_rate_of_change.to_csv(\"./results/pce_rate_of_change.csv\")\n",
    "# fred_quarterly_rate_of_change.to_csv(\"./results/fred_quarterly_rate_of_change.csv\")"
   ]
  },
  {
   "cell_type": "code",
   "execution_count": 30,
   "metadata": {},
   "outputs": [
    {
     "data": {
      "text/plain": [
       "PCE                                                 1.000000\n",
       "All Employees: Service-Providing Industries         0.877329\n",
       "All Employees: Total nonfarm                        0.863020\n",
       "Civilian Employment                                 0.844082\n",
       "All Employees: Retail Trade                         0.837907\n",
       "All Employees: Trade, Transportation & Utilities    0.832987\n",
       "All Employees: Government                           0.714063\n",
       "All Employees: Wholesale Trade                      0.691054\n",
       "All Employees: Nondurable goods                     0.615093\n",
       "IP Index                                            0.611541\n",
       "Avg Weekly Hours : Manufacturing                    0.606079\n",
       "IP: Materials                                       0.595763\n",
       "IP: Manufacturing (SIC)                             0.579840\n",
       "All Employees: Financial Activities                 0.579413\n",
       "IP: Final Products and Nonindustrial Supplies       0.569535\n",
       "All Employees: Manufacturing                        0.569383\n",
       "Capacity Utilization: Manufacturing                 0.557938\n",
       "All Employees: Goods-Producing Industries           0.554938\n",
       "Ratio of Help Wanted/No. Unemployed                 0.535295\n",
       "CPI : Apparel                                       0.530656\n",
       "Name: PCE, dtype: float64"
      ]
     },
     "execution_count": 30,
     "metadata": {},
     "output_type": "execute_result"
    }
   ],
   "source": [
    "# only keep \"PCE\" column\n",
    "pce_rate_of_change = pce_rate_of_change[['PCE']]\n",
    "\n",
    "# Joining the datasets on their index values\n",
    "joined_dataset = pce_rate_of_change.join(fred_quarterly_rate_of_change, how='outer')\n",
    "\n",
    "# Calculate the Pearson correlation matrix for the joined dataset\n",
    "correlation_matrix = joined_dataset.corr()\n",
    "\n",
    "# Extract the correlations related to 'PCE'\n",
    "pce_correlations = correlation_matrix['PCE'].sort_values(ascending=False)\n",
    "\n",
    "# Display the correlations related to 'PCE'\n",
    "pce_correlations.head(20)  # Displaying the top few correlations for brevity"
   ]
  },
  {
   "cell_type": "markdown",
   "metadata": {},
   "source": [
    "<div style=\"color:#00BFFF\">\n",
    "\n",
    "## Linear Regression Analysis to Determine Variable Influence on PCE"
   ]
  },
  {
   "cell_type": "markdown",
   "metadata": {},
   "source": [
    "<div style=\"color:#5F9EA0\">\n",
    "\n",
    "##### Linear Regression Analysis"
   ]
  },
  {
   "cell_type": "markdown",
   "metadata": {},
   "source": [
    "This section of the notebook conducts a linear regression analysis to explore how different variables in our dataset influence the Private Consumption Expenditure (PCE). The primary goal is to determine the strength of the linear relationship each variable has with PCE, quantified using the \\( R^2 \\) (coefficient of determination) metric.Variables with higher \\( R^2 \\) values are of particular interest as they may be key drivers of PCE variations.By understanding these relationships, we can better comprehend the dynamics influencing Private Consumption Expenditure, an essential component of economic analysis.\n",
    "\n",
    "**Steps in the Analysis:**\n",
    "\n",
    "1. **Data Preparation:**\n",
    "   - We exclude 'PCE' from the list of independent variables as it is our dependent variable.\n",
    "   - The dataset is cleaned to remove any rows with NaN or infinite values to ensure the validity of our regression analysis.\n",
    "\n",
    "2. **Linear Regression:**\n",
    "   - For each independent variable, we perform a simple linear regression against 'PCE'.\n",
    "   - Only variables with a sufficient number of observations (set by `min_threshold`) are considered to ensure robust regression results.\n",
    "\n",
    "3. **Calculation of \\( R^2 \\) Values:**\n",
    "   - After fitting the model, we predict 'PCE' using each independent variable and compute the \\( R^2 \\) value.\n",
    "   - The \\( R^2 \\) value indicates how much of the variance in 'PCE' is explained by the variable. A higher \\( R^2 \\) suggests a stronger explanatory power."
   ]
  },
  {
   "cell_type": "code",
   "execution_count": 31,
   "metadata": {},
   "outputs": [
    {
     "data": {
      "text/plain": [
       "[('All Employees: Service-Providing Industries', 0.7697065236105182),\n",
       " ('All Employees: Total nonfarm', 0.744802939987474),\n",
       " ('Civilian Employment', 0.7124750526695423),\n",
       " ('All Employees: Retail Trade', 0.7020874019744379),\n",
       " ('All Employees: Trade, Transportation & Utilities', 0.693866744808085),\n",
       " ('Civilian Unemployment Rate', 0.611706621173607),\n",
       " ('Civilians Unemployed for 5-14 Weeks', 0.6081086981728158),\n",
       " ('All Employees: Government', 0.5098859381028717),\n",
       " ('All Employees: Wholesale Trade', 0.47755560848550793),\n",
       " ('Real M2 Money Stock', 0.3801158057208808)]"
      ]
     },
     "execution_count": 31,
     "metadata": {},
     "output_type": "execute_result"
    }
   ],
   "source": [
    "from sklearn.linear_model import LinearRegression\n",
    "from sklearn.metrics import r2_score\n",
    "\n",
    "# Prepare the independent variables (excluding 'PCE')\n",
    "independent_vars = joined_dataset.drop(columns=['PCE']).columns\n",
    "\n",
    "# Prepare the dependent variable 'PCE'\n",
    "dependent_var = joined_dataset['PCE']\n",
    "\n",
    "# Setting a minimum threshold for the number of observations required for regression\n",
    "min_threshold = 30\n",
    "\n",
    "# Dictionary to store R^2 values for each variable\n",
    "r2_values = {}\n",
    "\n",
    "# Perform linear regression for each independent variable\n",
    "for var in independent_vars:\n",
    "    # Drop rows where either the independent or dependent variable is NaN or infinite\n",
    "    combined_data = joined_dataset[[var, 'PCE']].replace([np.inf, -np.inf], np.nan).dropna()\n",
    "\n",
    "    if len(combined_data) >= min_threshold:\n",
    "        # Prepare the data for regression\n",
    "        X = combined_data[var].values.reshape(-1, 1)\n",
    "        y = combined_data['PCE'].values\n",
    "\n",
    "        # Create and fit the model\n",
    "        model = LinearRegression()\n",
    "        model.fit(X, y)\n",
    "\n",
    "        # Predict and calculate R^2\n",
    "        predictions = model.predict(X)\n",
    "        r2_values[var] = r2_score(y, predictions)\n",
    "\n",
    "# Sorting the R^2 values\n",
    "r2_values_sorted = dict(sorted(r2_values.items(), key=lambda item: item[1], reverse=True))\n",
    "\n",
    "# Assuming 'defn' is a DataFrame as described\n",
    "groups = defn.set_index('description')['group'].to_dict()\n",
    "\n",
    "# Displaying the top few R^2 values for brevity\n",
    "list(r2_values_sorted.items())[:10]"
   ]
  },
  {
   "cell_type": "markdown",
   "metadata": {},
   "source": [
    "<div style=\"color:#5F9EA0\">\n",
    "\n",
    "##### Grouping, Sorting and Displaying Results:"
   ]
  },
  {
   "cell_type": "markdown",
   "metadata": {},
   "source": [
    "\n",
    "   - The \\( R^2 \\) values are sorted in descending order, and the top results are displayed.\n",
    "   - This ranking helps us identify which variables have the most significant linear relationship with 'PCE'."
   ]
  },
  {
   "cell_type": "code",
   "execution_count": 32,
   "metadata": {},
   "outputs": [],
   "source": [
    "\n",
    "# Mapping the R^2 values to their respective groups\n",
    "grouped_r2_values = {}\n",
    "for var, r2 in r2_values.items():\n",
    "    group = groups.get(var, 'Unknown')  # Default to 'Unknown' if no group is found\n",
    "    if group not in grouped_r2_values:\n",
    "        grouped_r2_values[group] = {}\n",
    "    grouped_r2_values[group][var] = r2\n",
    "    \n",
    "#grouped_r2_values"
   ]
  },
  {
   "cell_type": "code",
   "execution_count": 33,
   "metadata": {},
   "outputs": [
    {
     "data": {
      "text/html": [
       "<div>\n",
       "<style scoped>\n",
       "    .dataframe tbody tr th:only-of-type {\n",
       "        vertical-align: middle;\n",
       "    }\n",
       "\n",
       "    .dataframe tbody tr th {\n",
       "        vertical-align: top;\n",
       "    }\n",
       "\n",
       "    .dataframe thead tr th {\n",
       "        text-align: left;\n",
       "    }\n",
       "</style>\n",
       "<table border=\"1\" class=\"dataframe\">\n",
       "  <thead>\n",
       "    <tr>\n",
       "      <th></th>\n",
       "      <th colspan=\"2\" halign=\"left\">Output and Income</th>\n",
       "      <th colspan=\"2\" halign=\"left\">Consumption, Orders, and Inventories</th>\n",
       "      <th colspan=\"2\" halign=\"left\">Labor Market</th>\n",
       "      <th colspan=\"2\" halign=\"left\">Housing</th>\n",
       "      <th colspan=\"2\" halign=\"left\">Money and Credit</th>\n",
       "      <th colspan=\"2\" halign=\"left\">Stock Market</th>\n",
       "      <th colspan=\"2\" halign=\"left\">Interest and Exchange Rates</th>\n",
       "      <th colspan=\"2\" halign=\"left\">Prices</th>\n",
       "    </tr>\n",
       "    <tr>\n",
       "      <th></th>\n",
       "      <th>Economic Indicator</th>\n",
       "      <th>R^2</th>\n",
       "      <th>Economic Indicator</th>\n",
       "      <th>R^2</th>\n",
       "      <th>Economic Indicator</th>\n",
       "      <th>R^2</th>\n",
       "      <th>Economic Indicator</th>\n",
       "      <th>R^2</th>\n",
       "      <th>Economic Indicator</th>\n",
       "      <th>R^2</th>\n",
       "      <th>Economic Indicator</th>\n",
       "      <th>R^2</th>\n",
       "      <th>Economic Indicator</th>\n",
       "      <th>R^2</th>\n",
       "      <th>Economic Indicator</th>\n",
       "      <th>R^2</th>\n",
       "    </tr>\n",
       "  </thead>\n",
       "  <tbody>\n",
       "    <tr>\n",
       "      <th>0</th>\n",
       "      <td>IP Index</td>\n",
       "      <td>0.373983</td>\n",
       "      <td>Total Business Inventories</td>\n",
       "      <td>0.254974</td>\n",
       "      <td>All Employees: Service-Providing Industries</td>\n",
       "      <td>0.769707</td>\n",
       "      <td>Housing Starts, South</td>\n",
       "      <td>0.075301</td>\n",
       "      <td>Real M2 Money Stock</td>\n",
       "      <td>0.380116</td>\n",
       "      <td>S&amp;P s Composite Common Stock: Dividend Yield</td>\n",
       "      <td>0.015525</td>\n",
       "      <td>5-Year Treasury C Minus FEDFUNDS</td>\n",
       "      <td>0.100640</td>\n",
       "      <td>CPI : Apparel</td>\n",
       "      <td>0.281596</td>\n",
       "    </tr>\n",
       "    <tr>\n",
       "      <th>1</th>\n",
       "      <td>IP: Materials</td>\n",
       "      <td>0.354933</td>\n",
       "      <td>New Orders for Consumer Goods</td>\n",
       "      <td>0.106353</td>\n",
       "      <td>All Employees: Total nonfarm</td>\n",
       "      <td>0.744803</td>\n",
       "      <td>New Private Housing Permits, South (SAAR)</td>\n",
       "      <td>0.071372</td>\n",
       "      <td>M1 Money Stock</td>\n",
       "      <td>0.361820</td>\n",
       "      <td>S&amp;P s Common Stock Price Index: Composite</td>\n",
       "      <td>0.012179</td>\n",
       "      <td>5-Year Treasury Rate</td>\n",
       "      <td>0.082012</td>\n",
       "      <td>CPI : All Items Less Food</td>\n",
       "      <td>0.250432</td>\n",
       "    </tr>\n",
       "    <tr>\n",
       "      <th>2</th>\n",
       "      <td>IP: Manufacturing (SIC)</td>\n",
       "      <td>0.336215</td>\n",
       "      <td>New Orders for Durable Goods</td>\n",
       "      <td>0.090587</td>\n",
       "      <td>Civilian Employment</td>\n",
       "      <td>0.712475</td>\n",
       "      <td>New Private Housing Permits, West (SAAR)</td>\n",
       "      <td>0.060197</td>\n",
       "      <td>M2 Money Stock</td>\n",
       "      <td>0.269206</td>\n",
       "      <td>S&amp;P s Common Stock Price Index: Industrials</td>\n",
       "      <td>0.006812</td>\n",
       "      <td>E?ective Federal Funds Rate</td>\n",
       "      <td>0.066374</td>\n",
       "      <td>CPI : Durables</td>\n",
       "      <td>0.239406</td>\n",
       "    </tr>\n",
       "    <tr>\n",
       "      <th>3</th>\n",
       "      <td>IP: Final Products and Nonindustrial Supplies</td>\n",
       "      <td>0.324370</td>\n",
       "      <td>Real personal consumption expenditures</td>\n",
       "      <td>0.083938</td>\n",
       "      <td>All Employees: Retail Trade</td>\n",
       "      <td>0.702087</td>\n",
       "      <td>New Private Housing Permits (SAAR)</td>\n",
       "      <td>0.051309</td>\n",
       "      <td>Commercial and Industrial Loans</td>\n",
       "      <td>0.232464</td>\n",
       "      <td>S&amp;P s Composite Common Stock: Price-Earnings Ratio</td>\n",
       "      <td>0.005381</td>\n",
       "      <td>10-Year Treasury Rate</td>\n",
       "      <td>0.050702</td>\n",
       "      <td>CPI : Transportation</td>\n",
       "      <td>0.236931</td>\n",
       "    </tr>\n",
       "    <tr>\n",
       "      <th>4</th>\n",
       "      <td>Capacity Utilization: Manufacturing</td>\n",
       "      <td>0.311295</td>\n",
       "      <td>New Orders for Nondefense Capital Goods</td>\n",
       "      <td>0.063099</td>\n",
       "      <td>All Employees: Trade, Transportation &amp; Utilities</td>\n",
       "      <td>0.693867</td>\n",
       "      <td>Housing Starts: Total New Privately Owned</td>\n",
       "      <td>0.036233</td>\n",
       "      <td>Total Consumer Loans and Leases Outstanding</td>\n",
       "      <td>0.065464</td>\n",
       "      <td>NaN</td>\n",
       "      <td>NaN</td>\n",
       "      <td>3-Month AA Financial Commercial Paper Rate</td>\n",
       "      <td>0.047863</td>\n",
       "      <td>CPI : All items less medical care</td>\n",
       "      <td>0.228849</td>\n",
       "    </tr>\n",
       "    <tr>\n",
       "      <th>5</th>\n",
       "      <td>IP: Durable Materials</td>\n",
       "      <td>0.279216</td>\n",
       "      <td>Un lled Orders for Durable Goods</td>\n",
       "      <td>0.060042</td>\n",
       "      <td>Civilian Unemployment Rate</td>\n",
       "      <td>0.611707</td>\n",
       "      <td>New Private Housing Permits, Northeast (SAAR)</td>\n",
       "      <td>0.004414</td>\n",
       "      <td>Total Reserves of Depository Institutions</td>\n",
       "      <td>0.059436</td>\n",
       "      <td>NaN</td>\n",
       "      <td>NaN</td>\n",
       "      <td>Moody s Seasoned Aaa Corporate Bond Yield</td>\n",
       "      <td>0.044637</td>\n",
       "      <td>PPI: Intermediate Materials</td>\n",
       "      <td>0.223586</td>\n",
       "    </tr>\n",
       "    <tr>\n",
       "      <th>6</th>\n",
       "      <td>IP: Final Products (Market Group)</td>\n",
       "      <td>0.221625</td>\n",
       "      <td>Total Business: Inventories to Sales Ratio</td>\n",
       "      <td>0.041213</td>\n",
       "      <td>Civilians Unemployed for 5-14 Weeks</td>\n",
       "      <td>0.608109</td>\n",
       "      <td>New Private Housing Permits, Midwest (SAAR)</td>\n",
       "      <td>0.002196</td>\n",
       "      <td>Nonrevolving consumer credit to Personal Income</td>\n",
       "      <td>0.043198</td>\n",
       "      <td>NaN</td>\n",
       "      <td>NaN</td>\n",
       "      <td>1-Year Treasury Rate</td>\n",
       "      <td>0.043114</td>\n",
       "      <td>CPI : All Items</td>\n",
       "      <td>0.218724</td>\n",
       "    </tr>\n",
       "    <tr>\n",
       "      <th>7</th>\n",
       "      <td>IP: Business Equipment</td>\n",
       "      <td>0.156438</td>\n",
       "      <td>Real Manu. and Trade Industries Sales</td>\n",
       "      <td>0.024016</td>\n",
       "      <td>All Employees: Government</td>\n",
       "      <td>0.509886</td>\n",
       "      <td>Housing Starts, Northeast</td>\n",
       "      <td>0.001440</td>\n",
       "      <td>Consumer Motor Vehicle Loans Outstanding</td>\n",
       "      <td>0.041672</td>\n",
       "      <td>NaN</td>\n",
       "      <td>NaN</td>\n",
       "      <td>Moody s Baa Corporate Bond Minus FEDFUNDS</td>\n",
       "      <td>0.026228</td>\n",
       "      <td>Personal Cons. Expend.: Chain Index</td>\n",
       "      <td>0.214941</td>\n",
       "    </tr>\n",
       "    <tr>\n",
       "      <th>8</th>\n",
       "      <td>IP: Nondurable Materials</td>\n",
       "      <td>0.152066</td>\n",
       "      <td>Consumer Sentiment Index</td>\n",
       "      <td>0.010955</td>\n",
       "      <td>All Employees: Wholesale Trade</td>\n",
       "      <td>0.477556</td>\n",
       "      <td>Housing Starts, Midwest</td>\n",
       "      <td>0.000596</td>\n",
       "      <td>Total Nonrevolving Credit</td>\n",
       "      <td>0.041229</td>\n",
       "      <td>NaN</td>\n",
       "      <td>NaN</td>\n",
       "      <td>Canada / U.S. Foreign Exchange Rate</td>\n",
       "      <td>0.025457</td>\n",
       "      <td>Personal Cons. Exp: Services</td>\n",
       "      <td>0.211007</td>\n",
       "    </tr>\n",
       "    <tr>\n",
       "      <th>9</th>\n",
       "      <td>Real personal income ex transfer receipts</td>\n",
       "      <td>0.102993</td>\n",
       "      <td>Retail and Food Services Sales</td>\n",
       "      <td>0.001446</td>\n",
       "      <td>All Employees: Nondurable goods</td>\n",
       "      <td>0.378340</td>\n",
       "      <td>Housing Starts, West</td>\n",
       "      <td>0.000019</td>\n",
       "      <td>Securities in Bank Credit at All Commercial Banks</td>\n",
       "      <td>0.009283</td>\n",
       "      <td>NaN</td>\n",
       "      <td>NaN</td>\n",
       "      <td>3-Month Commercial Paper Minus FEDFUNDS</td>\n",
       "      <td>0.022338</td>\n",
       "      <td>CPI : All items less shelter</td>\n",
       "      <td>0.203398</td>\n",
       "    </tr>\n",
       "  </tbody>\n",
       "</table>\n",
       "</div>"
      ],
      "text/plain": [
       "                               Output and Income            \\\n",
       "                              Economic Indicator       R^2   \n",
       "0                                       IP Index  0.373983   \n",
       "1                                  IP: Materials  0.354933   \n",
       "2                        IP: Manufacturing (SIC)  0.336215   \n",
       "3  IP: Final Products and Nonindustrial Supplies  0.324370   \n",
       "4            Capacity Utilization: Manufacturing  0.311295   \n",
       "5                          IP: Durable Materials  0.279216   \n",
       "6              IP: Final Products (Market Group)  0.221625   \n",
       "7                         IP: Business Equipment  0.156438   \n",
       "8                       IP: Nondurable Materials  0.152066   \n",
       "9      Real personal income ex transfer receipts  0.102993   \n",
       "\n",
       "         Consumption, Orders, and Inventories            \\\n",
       "                           Economic Indicator       R^2   \n",
       "0                  Total Business Inventories  0.254974   \n",
       "1               New Orders for Consumer Goods  0.106353   \n",
       "2                New Orders for Durable Goods  0.090587   \n",
       "3      Real personal consumption expenditures  0.083938   \n",
       "4     New Orders for Nondefense Capital Goods  0.063099   \n",
       "5            Un lled Orders for Durable Goods  0.060042   \n",
       "6  Total Business: Inventories to Sales Ratio  0.041213   \n",
       "7       Real Manu. and Trade Industries Sales  0.024016   \n",
       "8                    Consumer Sentiment Index  0.010955   \n",
       "9              Retail and Food Services Sales  0.001446   \n",
       "\n",
       "                                       Labor Market            \\\n",
       "                                 Economic Indicator       R^2   \n",
       "0       All Employees: Service-Providing Industries  0.769707   \n",
       "1                      All Employees: Total nonfarm  0.744803   \n",
       "2                               Civilian Employment  0.712475   \n",
       "3                       All Employees: Retail Trade  0.702087   \n",
       "4  All Employees: Trade, Transportation & Utilities  0.693867   \n",
       "5                        Civilian Unemployment Rate  0.611707   \n",
       "6               Civilians Unemployed for 5-14 Weeks  0.608109   \n",
       "7                         All Employees: Government  0.509886   \n",
       "8                    All Employees: Wholesale Trade  0.477556   \n",
       "9                   All Employees: Nondurable goods  0.378340   \n",
       "\n",
       "                                         Housing            \\\n",
       "                              Economic Indicator       R^2   \n",
       "0                          Housing Starts, South  0.075301   \n",
       "1      New Private Housing Permits, South (SAAR)  0.071372   \n",
       "2       New Private Housing Permits, West (SAAR)  0.060197   \n",
       "3             New Private Housing Permits (SAAR)  0.051309   \n",
       "4      Housing Starts: Total New Privately Owned  0.036233   \n",
       "5  New Private Housing Permits, Northeast (SAAR)  0.004414   \n",
       "6    New Private Housing Permits, Midwest (SAAR)  0.002196   \n",
       "7                      Housing Starts, Northeast  0.001440   \n",
       "8                        Housing Starts, Midwest  0.000596   \n",
       "9                           Housing Starts, West  0.000019   \n",
       "\n",
       "                                    Money and Credit            \\\n",
       "                                  Economic Indicator       R^2   \n",
       "0                                Real M2 Money Stock  0.380116   \n",
       "1                                     M1 Money Stock  0.361820   \n",
       "2                                     M2 Money Stock  0.269206   \n",
       "3                    Commercial and Industrial Loans  0.232464   \n",
       "4        Total Consumer Loans and Leases Outstanding  0.065464   \n",
       "5          Total Reserves of Depository Institutions  0.059436   \n",
       "6    Nonrevolving consumer credit to Personal Income  0.043198   \n",
       "7           Consumer Motor Vehicle Loans Outstanding  0.041672   \n",
       "8                          Total Nonrevolving Credit  0.041229   \n",
       "9  Securities in Bank Credit at All Commercial Banks  0.009283   \n",
       "\n",
       "                                         Stock Market            \\\n",
       "                                   Economic Indicator       R^2   \n",
       "0        S&P s Composite Common Stock: Dividend Yield  0.015525   \n",
       "1           S&P s Common Stock Price Index: Composite  0.012179   \n",
       "2         S&P s Common Stock Price Index: Industrials  0.006812   \n",
       "3  S&P s Composite Common Stock: Price-Earnings Ratio  0.005381   \n",
       "4                                                 NaN       NaN   \n",
       "5                                                 NaN       NaN   \n",
       "6                                                 NaN       NaN   \n",
       "7                                                 NaN       NaN   \n",
       "8                                                 NaN       NaN   \n",
       "9                                                 NaN       NaN   \n",
       "\n",
       "                  Interest and Exchange Rates            \\\n",
       "                           Economic Indicator       R^2   \n",
       "0            5-Year Treasury C Minus FEDFUNDS  0.100640   \n",
       "1                        5-Year Treasury Rate  0.082012   \n",
       "2                 E?ective Federal Funds Rate  0.066374   \n",
       "3                       10-Year Treasury Rate  0.050702   \n",
       "4  3-Month AA Financial Commercial Paper Rate  0.047863   \n",
       "5   Moody s Seasoned Aaa Corporate Bond Yield  0.044637   \n",
       "6                        1-Year Treasury Rate  0.043114   \n",
       "7   Moody s Baa Corporate Bond Minus FEDFUNDS  0.026228   \n",
       "8         Canada / U.S. Foreign Exchange Rate  0.025457   \n",
       "9     3-Month Commercial Paper Minus FEDFUNDS  0.022338   \n",
       "\n",
       "                                Prices            \n",
       "                    Economic Indicator       R^2  \n",
       "0                        CPI : Apparel  0.281596  \n",
       "1            CPI : All Items Less Food  0.250432  \n",
       "2                       CPI : Durables  0.239406  \n",
       "3                 CPI : Transportation  0.236931  \n",
       "4    CPI : All items less medical care  0.228849  \n",
       "5          PPI: Intermediate Materials  0.223586  \n",
       "6                      CPI : All Items  0.218724  \n",
       "7  Personal Cons. Expend.: Chain Index  0.214941  \n",
       "8         Personal Cons. Exp: Services  0.211007  \n",
       "9         CPI : All items less shelter  0.203398  "
      ]
     },
     "execution_count": 33,
     "metadata": {},
     "output_type": "execute_result"
    }
   ],
   "source": [
    "# Create a sorted DataFrame for each group\n",
    "group_dfs = []\n",
    "for group, indicators in grouped_r2_values.items():\n",
    "    # Create DataFrame and sort by R^2 values\n",
    "    group_df = pd.DataFrame(list(indicators.items()), columns=['Economic Indicator', 'R^2'])\n",
    "    group_df.sort_values(by='R^2', ascending=False, inplace=True)  # Sort by R^2 in descending order\n",
    "    group_df.reset_index(drop=True, inplace=True)  # Reset index to maintain sorted order\n",
    "    group_dfs.append(group_df)\n",
    "\n",
    "# Concatenate all sorted group DataFrames horizontally\n",
    "final_df = pd.concat(group_dfs, axis=1, keys=grouped_r2_values.keys())\n",
    "\n",
    "# Display the resulting DataFrame\n",
    "final_df.head(10)"
   ]
  },
  {
   "cell_type": "code",
   "execution_count": 34,
   "metadata": {},
   "outputs": [],
   "source": [
    "# Plotting the R^2 values\n",
    "# plt.figure(figsize=(7, 3))\n",
    "# plt.bar(range(len(r2_values_sorted)), list(r2_values_sorted.values()))\n",
    "# plt.title(r'$R^2$ - Regression on Individual Factors', fontsize=14, fontweight=600)\n",
    "# plt.xlabel('Variables')\n",
    "# plt.ylabel(r'$R^2$ Value')\n",
    "# plt.show()"
   ]
  },
  {
   "cell_type": "code",
   "execution_count": 35,
   "metadata": {},
   "outputs": [
    {
     "data": {
      "application/vnd.plotly.v1+json": {
       "config": {
        "plotlyServerURL": "https://plot.ly"
       },
       "data": [
        {
         "name": "Output and Income",
         "type": "bar",
         "x": [
          "IP Index",
          "IP: Materials",
          "IP: Manufacturing (SIC)",
          "IP: Final Products and Nonindustrial Supplies",
          "Capacity Utilization: Manufacturing",
          "IP: Durable Materials",
          "IP: Final Products (Market Group)",
          "IP: Business Equipment",
          "IP: Nondurable Materials",
          "Real personal income ex transfer receipts",
          "IP: Consumer Goods",
          "IP: Fuels",
          "IP: Nondurable Consumer Goods",
          "Real Personal Income",
          "IP: Durable Consumer Goods"
         ],
         "xaxis": "x",
         "y": [
          0.3739828862282626,
          0.3549332735917512,
          0.33621471779746237,
          0.32436975663115986,
          0.31129528829355513,
          0.27921611192980655,
          0.2216252967655341,
          0.1564375926307363,
          0.15206582573501215,
          0.10299300410871637,
          0.09633543374934106,
          0.09195486345363457,
          0.06092207229795621,
          0.04406638841890964,
          0.00061181873222238
         ],
         "yaxis": "y"
        },
        {
         "name": "Consumption, Orders, and Inventories",
         "type": "bar",
         "x": [
          "Total Business Inventories",
          "New Orders for Consumer Goods",
          "New Orders for Durable Goods",
          "Real personal consumption expenditures",
          "New Orders for Nondefense Capital Goods",
          "Un lled Orders for Durable Goods",
          "Total Business: Inventories to Sales Ratio",
          "Real Manu. and Trade Industries Sales",
          "Consumer Sentiment Index",
          "Retail and Food Services Sales"
         ],
         "xaxis": "x2",
         "y": [
          0.2549735309869958,
          0.10635263043213361,
          0.09058733402899366,
          0.08393785754319905,
          0.0630994306858379,
          0.060041826624214756,
          0.04121315404477066,
          0.024016365052470623,
          0.010954914076208966,
          0.0014459432547284656
         ],
         "yaxis": "y2"
        },
        {
         "name": "Labor Market",
         "type": "bar",
         "x": [
          "All Employees: Service-Providing Industries",
          "All Employees: Total nonfarm",
          "Civilian Employment",
          "All Employees: Retail Trade",
          "All Employees: Trade, Transportation & Utilities",
          "Civilian Unemployment Rate",
          "Civilians Unemployed for 5-14 Weeks",
          "All Employees: Government",
          "All Employees: Wholesale Trade",
          "All Employees: Nondurable goods",
          "Avg Weekly Hours : Manufacturing",
          "All Employees: Financial Activities",
          "All Employees: Manufacturing",
          "All Employees: Goods-Producing Industries",
          "Ratio of Help Wanted/No. Unemployed",
          "All Employees: Durable goods",
          "Initial Claims",
          "Avg Weekly Overtime Hours : Manufacturing",
          "All Employees: Construction",
          "All Employees: Mining and Logging: Mining",
          "Avg Weekly Hours : Goods-Producing",
          "Civilian Labor Force",
          "Avg Hourly Earnings : Manufacturing",
          "Help-Wanted Index for United States",
          "Avg Hourly Earnings : Goods-Producing",
          "Civilians Unemployed - Less Than 5 Weeks",
          "Average Duration of Unemployment (Weeks)",
          "Civilians Unemployed for 27 Weeks and Over",
          "Civilians Unemployed - 15 Weeks & Over",
          "Civilians Unemployed for 15-26 Weeks",
          "Avg Hourly Earnings : Construction"
         ],
         "xaxis": "x3",
         "y": [
          0.7697065236105182,
          0.744802939987474,
          0.7124750526695423,
          0.7020874019744379,
          0.693866744808085,
          0.611706621173607,
          0.6081086981728158,
          0.5098859381028717,
          0.47755560848550793,
          0.37833969358410235,
          0.3673323585040432,
          0.3357194117206258,
          0.3241974685750977,
          0.3079557881630671,
          0.2865409580704208,
          0.28011743652172516,
          0.25096851489279604,
          0.20848880814440662,
          0.1879300413700753,
          0.17759989176567892,
          0.17547241463786611,
          0.16079606339342223,
          0.15291848659158958,
          0.03330474633672942,
          0.03252951840049456,
          0.02979665718008062,
          0.012433735414267955,
          0.004995726297366443,
          0.0033530676338306975,
          0.0011130967736212583,
          0.00017428842043587522
         ],
         "yaxis": "y3"
        },
        {
         "name": "Housing",
         "type": "bar",
         "x": [
          "Housing Starts, South",
          "New Private Housing Permits, South (SAAR)",
          "New Private Housing Permits, West (SAAR)",
          "New Private Housing Permits (SAAR)",
          "Housing Starts: Total New Privately Owned",
          "New Private Housing Permits, Northeast (SAAR)",
          "New Private Housing Permits, Midwest (SAAR)",
          "Housing Starts, Northeast",
          "Housing Starts, Midwest",
          "Housing Starts, West"
         ],
         "xaxis": "x4",
         "y": [
          0.07530101718157067,
          0.0713715101045298,
          0.06019697530121848,
          0.05130858056557841,
          0.03623304488501533,
          0.004413759449587773,
          0.0021959311873318565,
          0.0014404647062054021,
          0.0005962760601323502,
          0.00001894618743236709
         ],
         "yaxis": "y4"
        },
        {
         "name": "Money and Credit",
         "type": "bar",
         "x": [
          "Real M2 Money Stock",
          "M1 Money Stock",
          "M2 Money Stock",
          "Commercial and Industrial Loans",
          "Total Consumer Loans and Leases Outstanding",
          "Total Reserves of Depository Institutions",
          "Nonrevolving consumer credit to Personal Income",
          "Consumer Motor Vehicle Loans Outstanding",
          "Total Nonrevolving Credit",
          "Securities in Bank Credit at All Commercial Banks",
          "Real Estate Loans at All Commercial Banks",
          "Reserves Of Depository Institutions"
         ],
         "xaxis": "x5",
         "y": [
          0.3801158057208808,
          0.3618203820923026,
          0.2692060660671678,
          0.2324638018140589,
          0.06546413512927374,
          0.0594355655460338,
          0.04319808463061037,
          0.04167223055546598,
          0.041229466293111416,
          0.009282843943033914,
          0.0004817190307201402,
          0.00004985161528570092
         ],
         "yaxis": "y5"
        },
        {
         "name": "Stock Market",
         "type": "bar",
         "x": [
          "S&P s Composite Common Stock: Dividend Yield",
          "S&P s Common Stock Price Index: Composite",
          "S&P s Common Stock Price Index: Industrials",
          "S&P s Composite Common Stock: Price-Earnings Ratio"
         ],
         "xaxis": "x6",
         "y": [
          0.015524748586066783,
          0.012178914309875277,
          0.006812285030141418,
          0.0053806507983648055
         ],
         "yaxis": "y6"
        },
        {
         "name": "Interest and Exchange Rates",
         "type": "bar",
         "x": [
          "5-Year Treasury C Minus FEDFUNDS",
          "5-Year Treasury Rate",
          "E?ective Federal Funds Rate",
          "10-Year Treasury Rate",
          "3-Month AA Financial Commercial Paper Rate",
          "Moody s Seasoned Aaa Corporate Bond Yield",
          "1-Year Treasury Rate",
          "Moody s Baa Corporate Bond Minus FEDFUNDS",
          "Canada / U.S. Foreign Exchange Rate",
          "3-Month Commercial Paper Minus FEDFUNDS",
          "U.S. / U.K. Foreign Exchange Rate",
          "6-Month Treasury Bill:",
          "Japan / U.S. Foreign Exchange Rate",
          "Moody s Seasoned Baa Corporate Bond Yield",
          "1-Year Treasury C Minus FEDFUNDS",
          "Switzerland / U.S. Foreign Exchange Rate",
          "3-Month Treasury C Minus FEDFUNDS",
          "Moody s Aaa Corporate Bond Minus FEDFUNDS",
          "3-Month Treasury Bill:",
          "10-Year Treasury C Minus FEDFUNDS",
          "6-Month Treasury C Minus FEDFUNDS"
         ],
         "xaxis": "x7",
         "y": [
          0.1006396071330593,
          0.08201216617362062,
          0.06637354118414018,
          0.050701996588930154,
          0.04786258199514526,
          0.04463690198623238,
          0.04311386307393672,
          0.026227961353541218,
          0.025456620415746034,
          0.02233791093997506,
          0.02068462110658531,
          0.017844583911093448,
          0.009291464959407358,
          0.003907561874343823,
          0.0028394897714475453,
          0.001834664497788463,
          0.001800248530915205,
          0.0012637526805899801,
          0.0009387372490092805,
          0.0003676908305801918,
          0.00010040088607699005
         ],
         "yaxis": "y7"
        },
        {
         "name": "Prices",
         "type": "bar",
         "x": [
          "CPI : Apparel",
          "CPI : All Items Less Food",
          "CPI : Durables",
          "CPI : Transportation",
          "CPI : All items less medical care",
          "PPI: Intermediate Materials",
          "CPI : All Items",
          "Personal Cons. Expend.: Chain Index",
          "Personal Cons. Exp: Services",
          "CPI : All items less shelter",
          "Personal Cons. Exp: Durable goods",
          "CPI : Commodities",
          "CPI : Services",
          "PPI: Finished Goods",
          "PPI: Finished Consumer Goods",
          "PPI: Crude Materials",
          "Personal Cons. Exp: Nondurable goods",
          "PPI: Metals and metal products:",
          "CPI : Medical Care",
          "Crude Oil, spliced WTI and Cushing"
         ],
         "xaxis": "x8",
         "y": [
          0.2815955052704343,
          0.2504321327309743,
          0.23940623932096416,
          0.23693126395825526,
          0.2288486626345997,
          0.22358565065110958,
          0.21872432769628314,
          0.2149412393220158,
          0.21100732199937522,
          0.2033979944591524,
          0.19805694867515244,
          0.16166863684886013,
          0.15601268292652049,
          0.12842233141385395,
          0.12329498724011567,
          0.10051707143486222,
          0.08233296361966969,
          0.07195717983224481,
          0.020506542094290148,
          0.000052768515004575356
         ],
         "yaxis": "y8"
        }
       ],
       "layout": {
        "annotations": [
         {
          "font": {
           "size": 16
          },
          "showarrow": false,
          "text": "Output and Income",
          "x": 0.5,
          "xanchor": "center",
          "xref": "paper",
          "y": 1,
          "yanchor": "bottom",
          "yref": "paper"
         },
         {
          "font": {
           "size": 16
          },
          "showarrow": false,
          "text": "Consumption, Orders, and Inventories",
          "x": 0.5,
          "xanchor": "center",
          "xref": "paper",
          "y": 0.8671875,
          "yanchor": "bottom",
          "yref": "paper"
         },
         {
          "font": {
           "size": 16
          },
          "showarrow": false,
          "text": "Labor Market",
          "x": 0.5,
          "xanchor": "center",
          "xref": "paper",
          "y": 0.734375,
          "yanchor": "bottom",
          "yref": "paper"
         },
         {
          "font": {
           "size": 16
          },
          "showarrow": false,
          "text": "Housing",
          "x": 0.5,
          "xanchor": "center",
          "xref": "paper",
          "y": 0.6015625,
          "yanchor": "bottom",
          "yref": "paper"
         },
         {
          "font": {
           "size": 16
          },
          "showarrow": false,
          "text": "Money and Credit",
          "x": 0.5,
          "xanchor": "center",
          "xref": "paper",
          "y": 0.46875,
          "yanchor": "bottom",
          "yref": "paper"
         },
         {
          "font": {
           "size": 16
          },
          "showarrow": false,
          "text": "Stock Market",
          "x": 0.5,
          "xanchor": "center",
          "xref": "paper",
          "y": 0.3359375,
          "yanchor": "bottom",
          "yref": "paper"
         },
         {
          "font": {
           "size": 16
          },
          "showarrow": false,
          "text": "Interest and Exchange Rates",
          "x": 0.5,
          "xanchor": "center",
          "xref": "paper",
          "y": 0.203125,
          "yanchor": "bottom",
          "yref": "paper"
         },
         {
          "font": {
           "size": 16
          },
          "showarrow": false,
          "text": "Prices",
          "x": 0.5,
          "xanchor": "center",
          "xref": "paper",
          "y": 0.0703125,
          "yanchor": "bottom",
          "yref": "paper"
         }
        ],
        "height": 1000,
        "showlegend": false,
        "template": {
         "data": {
          "bar": [
           {
            "error_x": {
             "color": "#2a3f5f"
            },
            "error_y": {
             "color": "#2a3f5f"
            },
            "marker": {
             "line": {
              "color": "#E5ECF6",
              "width": 0.5
             },
             "pattern": {
              "fillmode": "overlay",
              "size": 10,
              "solidity": 0.2
             }
            },
            "type": "bar"
           }
          ],
          "barpolar": [
           {
            "marker": {
             "line": {
              "color": "#E5ECF6",
              "width": 0.5
             },
             "pattern": {
              "fillmode": "overlay",
              "size": 10,
              "solidity": 0.2
             }
            },
            "type": "barpolar"
           }
          ],
          "carpet": [
           {
            "aaxis": {
             "endlinecolor": "#2a3f5f",
             "gridcolor": "white",
             "linecolor": "white",
             "minorgridcolor": "white",
             "startlinecolor": "#2a3f5f"
            },
            "baxis": {
             "endlinecolor": "#2a3f5f",
             "gridcolor": "white",
             "linecolor": "white",
             "minorgridcolor": "white",
             "startlinecolor": "#2a3f5f"
            },
            "type": "carpet"
           }
          ],
          "choropleth": [
           {
            "colorbar": {
             "outlinewidth": 0,
             "ticks": ""
            },
            "type": "choropleth"
           }
          ],
          "contour": [
           {
            "colorbar": {
             "outlinewidth": 0,
             "ticks": ""
            },
            "colorscale": [
             [
              0,
              "#0d0887"
             ],
             [
              0.1111111111111111,
              "#46039f"
             ],
             [
              0.2222222222222222,
              "#7201a8"
             ],
             [
              0.3333333333333333,
              "#9c179e"
             ],
             [
              0.4444444444444444,
              "#bd3786"
             ],
             [
              0.5555555555555556,
              "#d8576b"
             ],
             [
              0.6666666666666666,
              "#ed7953"
             ],
             [
              0.7777777777777778,
              "#fb9f3a"
             ],
             [
              0.8888888888888888,
              "#fdca26"
             ],
             [
              1,
              "#f0f921"
             ]
            ],
            "type": "contour"
           }
          ],
          "contourcarpet": [
           {
            "colorbar": {
             "outlinewidth": 0,
             "ticks": ""
            },
            "type": "contourcarpet"
           }
          ],
          "heatmap": [
           {
            "colorbar": {
             "outlinewidth": 0,
             "ticks": ""
            },
            "colorscale": [
             [
              0,
              "#0d0887"
             ],
             [
              0.1111111111111111,
              "#46039f"
             ],
             [
              0.2222222222222222,
              "#7201a8"
             ],
             [
              0.3333333333333333,
              "#9c179e"
             ],
             [
              0.4444444444444444,
              "#bd3786"
             ],
             [
              0.5555555555555556,
              "#d8576b"
             ],
             [
              0.6666666666666666,
              "#ed7953"
             ],
             [
              0.7777777777777778,
              "#fb9f3a"
             ],
             [
              0.8888888888888888,
              "#fdca26"
             ],
             [
              1,
              "#f0f921"
             ]
            ],
            "type": "heatmap"
           }
          ],
          "heatmapgl": [
           {
            "colorbar": {
             "outlinewidth": 0,
             "ticks": ""
            },
            "colorscale": [
             [
              0,
              "#0d0887"
             ],
             [
              0.1111111111111111,
              "#46039f"
             ],
             [
              0.2222222222222222,
              "#7201a8"
             ],
             [
              0.3333333333333333,
              "#9c179e"
             ],
             [
              0.4444444444444444,
              "#bd3786"
             ],
             [
              0.5555555555555556,
              "#d8576b"
             ],
             [
              0.6666666666666666,
              "#ed7953"
             ],
             [
              0.7777777777777778,
              "#fb9f3a"
             ],
             [
              0.8888888888888888,
              "#fdca26"
             ],
             [
              1,
              "#f0f921"
             ]
            ],
            "type": "heatmapgl"
           }
          ],
          "histogram": [
           {
            "marker": {
             "pattern": {
              "fillmode": "overlay",
              "size": 10,
              "solidity": 0.2
             }
            },
            "type": "histogram"
           }
          ],
          "histogram2d": [
           {
            "colorbar": {
             "outlinewidth": 0,
             "ticks": ""
            },
            "colorscale": [
             [
              0,
              "#0d0887"
             ],
             [
              0.1111111111111111,
              "#46039f"
             ],
             [
              0.2222222222222222,
              "#7201a8"
             ],
             [
              0.3333333333333333,
              "#9c179e"
             ],
             [
              0.4444444444444444,
              "#bd3786"
             ],
             [
              0.5555555555555556,
              "#d8576b"
             ],
             [
              0.6666666666666666,
              "#ed7953"
             ],
             [
              0.7777777777777778,
              "#fb9f3a"
             ],
             [
              0.8888888888888888,
              "#fdca26"
             ],
             [
              1,
              "#f0f921"
             ]
            ],
            "type": "histogram2d"
           }
          ],
          "histogram2dcontour": [
           {
            "colorbar": {
             "outlinewidth": 0,
             "ticks": ""
            },
            "colorscale": [
             [
              0,
              "#0d0887"
             ],
             [
              0.1111111111111111,
              "#46039f"
             ],
             [
              0.2222222222222222,
              "#7201a8"
             ],
             [
              0.3333333333333333,
              "#9c179e"
             ],
             [
              0.4444444444444444,
              "#bd3786"
             ],
             [
              0.5555555555555556,
              "#d8576b"
             ],
             [
              0.6666666666666666,
              "#ed7953"
             ],
             [
              0.7777777777777778,
              "#fb9f3a"
             ],
             [
              0.8888888888888888,
              "#fdca26"
             ],
             [
              1,
              "#f0f921"
             ]
            ],
            "type": "histogram2dcontour"
           }
          ],
          "mesh3d": [
           {
            "colorbar": {
             "outlinewidth": 0,
             "ticks": ""
            },
            "type": "mesh3d"
           }
          ],
          "parcoords": [
           {
            "line": {
             "colorbar": {
              "outlinewidth": 0,
              "ticks": ""
             }
            },
            "type": "parcoords"
           }
          ],
          "pie": [
           {
            "automargin": true,
            "type": "pie"
           }
          ],
          "scatter": [
           {
            "fillpattern": {
             "fillmode": "overlay",
             "size": 10,
             "solidity": 0.2
            },
            "type": "scatter"
           }
          ],
          "scatter3d": [
           {
            "line": {
             "colorbar": {
              "outlinewidth": 0,
              "ticks": ""
             }
            },
            "marker": {
             "colorbar": {
              "outlinewidth": 0,
              "ticks": ""
             }
            },
            "type": "scatter3d"
           }
          ],
          "scattercarpet": [
           {
            "marker": {
             "colorbar": {
              "outlinewidth": 0,
              "ticks": ""
             }
            },
            "type": "scattercarpet"
           }
          ],
          "scattergeo": [
           {
            "marker": {
             "colorbar": {
              "outlinewidth": 0,
              "ticks": ""
             }
            },
            "type": "scattergeo"
           }
          ],
          "scattergl": [
           {
            "marker": {
             "colorbar": {
              "outlinewidth": 0,
              "ticks": ""
             }
            },
            "type": "scattergl"
           }
          ],
          "scattermapbox": [
           {
            "marker": {
             "colorbar": {
              "outlinewidth": 0,
              "ticks": ""
             }
            },
            "type": "scattermapbox"
           }
          ],
          "scatterpolar": [
           {
            "marker": {
             "colorbar": {
              "outlinewidth": 0,
              "ticks": ""
             }
            },
            "type": "scatterpolar"
           }
          ],
          "scatterpolargl": [
           {
            "marker": {
             "colorbar": {
              "outlinewidth": 0,
              "ticks": ""
             }
            },
            "type": "scatterpolargl"
           }
          ],
          "scatterternary": [
           {
            "marker": {
             "colorbar": {
              "outlinewidth": 0,
              "ticks": ""
             }
            },
            "type": "scatterternary"
           }
          ],
          "surface": [
           {
            "colorbar": {
             "outlinewidth": 0,
             "ticks": ""
            },
            "colorscale": [
             [
              0,
              "#0d0887"
             ],
             [
              0.1111111111111111,
              "#46039f"
             ],
             [
              0.2222222222222222,
              "#7201a8"
             ],
             [
              0.3333333333333333,
              "#9c179e"
             ],
             [
              0.4444444444444444,
              "#bd3786"
             ],
             [
              0.5555555555555556,
              "#d8576b"
             ],
             [
              0.6666666666666666,
              "#ed7953"
             ],
             [
              0.7777777777777778,
              "#fb9f3a"
             ],
             [
              0.8888888888888888,
              "#fdca26"
             ],
             [
              1,
              "#f0f921"
             ]
            ],
            "type": "surface"
           }
          ],
          "table": [
           {
            "cells": {
             "fill": {
              "color": "#EBF0F8"
             },
             "line": {
              "color": "white"
             }
            },
            "header": {
             "fill": {
              "color": "#C8D4E3"
             },
             "line": {
              "color": "white"
             }
            },
            "type": "table"
           }
          ]
         },
         "layout": {
          "annotationdefaults": {
           "arrowcolor": "#2a3f5f",
           "arrowhead": 0,
           "arrowwidth": 1
          },
          "autotypenumbers": "strict",
          "coloraxis": {
           "colorbar": {
            "outlinewidth": 0,
            "ticks": ""
           }
          },
          "colorscale": {
           "diverging": [
            [
             0,
             "#8e0152"
            ],
            [
             0.1,
             "#c51b7d"
            ],
            [
             0.2,
             "#de77ae"
            ],
            [
             0.3,
             "#f1b6da"
            ],
            [
             0.4,
             "#fde0ef"
            ],
            [
             0.5,
             "#f7f7f7"
            ],
            [
             0.6,
             "#e6f5d0"
            ],
            [
             0.7,
             "#b8e186"
            ],
            [
             0.8,
             "#7fbc41"
            ],
            [
             0.9,
             "#4d9221"
            ],
            [
             1,
             "#276419"
            ]
           ],
           "sequential": [
            [
             0,
             "#0d0887"
            ],
            [
             0.1111111111111111,
             "#46039f"
            ],
            [
             0.2222222222222222,
             "#7201a8"
            ],
            [
             0.3333333333333333,
             "#9c179e"
            ],
            [
             0.4444444444444444,
             "#bd3786"
            ],
            [
             0.5555555555555556,
             "#d8576b"
            ],
            [
             0.6666666666666666,
             "#ed7953"
            ],
            [
             0.7777777777777778,
             "#fb9f3a"
            ],
            [
             0.8888888888888888,
             "#fdca26"
            ],
            [
             1,
             "#f0f921"
            ]
           ],
           "sequentialminus": [
            [
             0,
             "#0d0887"
            ],
            [
             0.1111111111111111,
             "#46039f"
            ],
            [
             0.2222222222222222,
             "#7201a8"
            ],
            [
             0.3333333333333333,
             "#9c179e"
            ],
            [
             0.4444444444444444,
             "#bd3786"
            ],
            [
             0.5555555555555556,
             "#d8576b"
            ],
            [
             0.6666666666666666,
             "#ed7953"
            ],
            [
             0.7777777777777778,
             "#fb9f3a"
            ],
            [
             0.8888888888888888,
             "#fdca26"
            ],
            [
             1,
             "#f0f921"
            ]
           ]
          },
          "colorway": [
           "#636efa",
           "#EF553B",
           "#00cc96",
           "#ab63fa",
           "#FFA15A",
           "#19d3f3",
           "#FF6692",
           "#B6E880",
           "#FF97FF",
           "#FECB52"
          ],
          "font": {
           "color": "#2a3f5f"
          },
          "geo": {
           "bgcolor": "white",
           "lakecolor": "white",
           "landcolor": "#E5ECF6",
           "showlakes": true,
           "showland": true,
           "subunitcolor": "white"
          },
          "hoverlabel": {
           "align": "left"
          },
          "hovermode": "closest",
          "mapbox": {
           "style": "light"
          },
          "paper_bgcolor": "white",
          "plot_bgcolor": "#E5ECF6",
          "polar": {
           "angularaxis": {
            "gridcolor": "white",
            "linecolor": "white",
            "ticks": ""
           },
           "bgcolor": "#E5ECF6",
           "radialaxis": {
            "gridcolor": "white",
            "linecolor": "white",
            "ticks": ""
           }
          },
          "scene": {
           "xaxis": {
            "backgroundcolor": "#E5ECF6",
            "gridcolor": "white",
            "gridwidth": 2,
            "linecolor": "white",
            "showbackground": true,
            "ticks": "",
            "zerolinecolor": "white"
           },
           "yaxis": {
            "backgroundcolor": "#E5ECF6",
            "gridcolor": "white",
            "gridwidth": 2,
            "linecolor": "white",
            "showbackground": true,
            "ticks": "",
            "zerolinecolor": "white"
           },
           "zaxis": {
            "backgroundcolor": "#E5ECF6",
            "gridcolor": "white",
            "gridwidth": 2,
            "linecolor": "white",
            "showbackground": true,
            "ticks": "",
            "zerolinecolor": "white"
           }
          },
          "shapedefaults": {
           "line": {
            "color": "#2a3f5f"
           }
          },
          "ternary": {
           "aaxis": {
            "gridcolor": "white",
            "linecolor": "white",
            "ticks": ""
           },
           "baxis": {
            "gridcolor": "white",
            "linecolor": "white",
            "ticks": ""
           },
           "bgcolor": "#E5ECF6",
           "caxis": {
            "gridcolor": "white",
            "linecolor": "white",
            "ticks": ""
           }
          },
          "title": {
           "x": 0.05
          },
          "xaxis": {
           "automargin": true,
           "gridcolor": "white",
           "linecolor": "white",
           "ticks": "",
           "title": {
            "standoff": 15
           },
           "zerolinecolor": "white",
           "zerolinewidth": 2
          },
          "yaxis": {
           "automargin": true,
           "gridcolor": "white",
           "linecolor": "white",
           "ticks": "",
           "title": {
            "standoff": 15
           },
           "zerolinecolor": "white",
           "zerolinewidth": 2
          }
         }
        },
        "title": {
         "text": "$R^2$ - Regression on Individual Factors by Group"
        },
        "xaxis": {
         "anchor": "y",
         "domain": [
          0,
          1
         ],
         "showticklabels": false,
         "title": {
          "text": ""
         }
        },
        "xaxis2": {
         "anchor": "y2",
         "domain": [
          0,
          1
         ],
         "showticklabels": false,
         "title": {
          "text": ""
         }
        },
        "xaxis3": {
         "anchor": "y3",
         "domain": [
          0,
          1
         ],
         "showticklabels": false,
         "title": {
          "text": ""
         }
        },
        "xaxis4": {
         "anchor": "y4",
         "domain": [
          0,
          1
         ],
         "showticklabels": false,
         "title": {
          "text": ""
         }
        },
        "xaxis5": {
         "anchor": "y5",
         "domain": [
          0,
          1
         ],
         "showticklabels": false,
         "title": {
          "text": ""
         }
        },
        "xaxis6": {
         "anchor": "y6",
         "domain": [
          0,
          1
         ],
         "showticklabels": false,
         "title": {
          "text": ""
         }
        },
        "xaxis7": {
         "anchor": "y7",
         "domain": [
          0,
          1
         ],
         "showticklabels": false,
         "title": {
          "text": ""
         }
        },
        "xaxis8": {
         "anchor": "y8",
         "domain": [
          0,
          1
         ],
         "showticklabels": false,
         "title": {
          "text": ""
         }
        },
        "yaxis": {
         "anchor": "x",
         "domain": [
          0.9296875,
          1
         ]
        },
        "yaxis2": {
         "anchor": "x2",
         "domain": [
          0.796875,
          0.8671875
         ]
        },
        "yaxis3": {
         "anchor": "x3",
         "domain": [
          0.6640625,
          0.734375
         ]
        },
        "yaxis4": {
         "anchor": "x4",
         "domain": [
          0.53125,
          0.6015625
         ]
        },
        "yaxis5": {
         "anchor": "x5",
         "domain": [
          0.3984375,
          0.46875
         ]
        },
        "yaxis6": {
         "anchor": "x6",
         "domain": [
          0.265625,
          0.3359375
         ]
        },
        "yaxis7": {
         "anchor": "x7",
         "domain": [
          0.1328125,
          0.203125
         ]
        },
        "yaxis8": {
         "anchor": "x8",
         "domain": [
          0,
          0.0703125
         ],
         "title": {
          "text": "R^2 Value"
         }
        }
       }
      }
     },
     "metadata": {},
     "output_type": "display_data"
    }
   ],
   "source": [
    "import plotly.graph_objects as go\n",
    "from plotly.subplots import make_subplots\n",
    "\n",
    "# Determine the number of groups\n",
    "num_groups = len(grouped_r2_values)\n",
    "\n",
    "# Create subplots with shared y-axis\n",
    "fig = make_subplots(rows=num_groups, cols=1, shared_yaxes=True, subplot_titles=list(grouped_r2_values.keys()))\n",
    "\n",
    "# Plot each group in a separate subplot with sorted values\n",
    "for i, (group, values) in enumerate(grouped_r2_values.items(), start=1):\n",
    "    # Sort the values in descending order\n",
    "    sorted_values = dict(sorted(values.items(), key=lambda item: item[1], reverse=True))\n",
    "\n",
    "    fig.add_trace(\n",
    "        go.Bar(x=list(sorted_values.keys()), y=list(sorted_values.values()), name=group),\n",
    "        row=i, col=1\n",
    "    )\n",
    "\n",
    "# Update layout\n",
    "fig.update_layout(\n",
    "    height=1000,  # Adjust the height depending on the number of subplots\n",
    "    title_text=r'$R^2$ - Regression on Individual Factors by Group',\n",
    "    showlegend=False\n",
    ")\n",
    "\n",
    "# Update y-axis label and hide x-axis tick labels\n",
    "for i in range(1, num_groups + 1):\n",
    "    fig.update_xaxes(title_text='', showticklabels=False, row=i, col=1)\n",
    "fig.update_yaxes(title_text=r'R^2 Value', row=num_groups, col=1)\n",
    "\n",
    "#update subplot y-axis range to all have value 0-1\n",
    "# for i in range(1, num_groups + 1):\n",
    "#     fig.update_yaxes(range=[0, 1], row=i, col=1)\n",
    "\n",
    "# Show the figure\n",
    "fig.show()\n"
   ]
  },
  {
   "cell_type": "code",
   "execution_count": 36,
   "metadata": {},
   "outputs": [],
   "source": [
    "# # Grouping the R^2 values based on the 'group' they belong to\n",
    "# grouped_r2 = defn.set_index('description').join(pd.Series(r2_values, name='R2')).reset_index()\n",
    "\n",
    "# # Sort the R2 values within each group\n",
    "# grouped_r2_sorted = grouped_r2.groupby('group').apply(lambda x: x.sort_values('R2', ascending=True)).reset_index(drop=True)\n",
    "\n",
    "# # Adjust the code here if 'description' is not a column\n",
    "# # Make sure 'description' is a column in grouped_r2_sorted\n",
    "# if 'description' not in grouped_r2_sorted.columns:\n",
    "#     grouped_r2_sorted['description'] = grouped_r2_sorted.index\n",
    "\n",
    "# # Create lists to hold the sorted variables, their R2 values, and group names for labeling\n",
    "# sorted_vars = []\n",
    "# sorted_r2_values = []\n",
    "# group_labels = []\n",
    "\n",
    "# # For each group, extend the lists with the sorted variables and their R2 values\n",
    "# for group, data in grouped_r2_sorted.groupby('group'):\n",
    "#     sorted_r2_values.extend(data['R2'])  # This will be the y-axis values\n",
    "#     group_labels.extend([group] * len(data))  # This will repeat the group name for each variable\n",
    "\n",
    "# # Create the midpoints for the group labels on the x-axis\n",
    "# midpoints = []\n",
    "# last_index = 0\n",
    "# for group, count in grouped_r2_sorted['group'].value_counts().sort_index().iteritems():\n",
    "#     midpoint = last_index + count / 2\n",
    "#     midpoints.append(midpoint)\n",
    "#     last_index += count\n",
    "\n",
    "# with sns.color_palette('deep'):\n",
    "#     fig, ax = plt.subplots(figsize=(10, 7))  # Adjusted figure size for horizontal layout\n",
    "#     bars = ax.barh(range(len(sorted_r2_values)), sorted_r2_values)\n",
    "#     ax.set_yticks(midpoints)\n",
    "#     ax.set_yticklabels(grouped_r2_sorted['group'].unique(), va='center') # rotation=45\n",
    "\n",
    "#     # Adding shaded bands for groups\n",
    "#     last_index = 0\n",
    "#     for count in grouped_r2_sorted['group'].value_counts().sort_index():\n",
    "#         ax.fill_betweenx(np.arange(last_index, last_index + count), 0, 1.2, color='k', alpha=0.1)\n",
    "#         last_index += count\n",
    "\n",
    "#     ax.set_xlim(0, 1.0)\n",
    "#     ax.set_ylim(-1, len(sorted_r2_values))\n",
    "#     #set x axis label\n",
    "#     ax.set_xlabel(r'R^2 Value')\n",
    "#     fig.tight_layout()\n",
    "\n",
    "# plt.show()\n"
   ]
  },
  {
   "cell_type": "markdown",
   "metadata": {},
   "source": []
  },
  {
   "cell_type": "code",
   "execution_count": null,
   "metadata": {},
   "outputs": [],
   "source": []
  },
  {
   "cell_type": "code",
   "execution_count": null,
   "metadata": {},
   "outputs": [],
   "source": []
  },
  {
   "cell_type": "markdown",
   "metadata": {},
   "source": [
    "<div style=\"color:#5F9EA0\">\n",
    "\n",
    "##### Quality Assurance"
   ]
  },
  {
   "cell_type": "markdown",
   "metadata": {},
   "source": [
    "\n",
    "**Final anomaly Detection and Correction**: Employing statistical methods to detect and correct anomalies ensures that our analysis is based on accurate and representative data, free from distortions that could lead to erroneous conclusions.\n",
    "\n",
    "**Consistency Checks**: Conducting thorough checks for data consistency, especially when integrating diverse data sources, is essential to validate the reliability and accuracy of our findings."
   ]
  },
  {
   "cell_type": "code",
   "execution_count": 37,
   "metadata": {},
   "outputs": [],
   "source": [
    "#To be conducted"
   ]
  },
  {
   "cell_type": "markdown",
   "metadata": {},
   "source": [
    "<div style=\"color:#FFA500\">\n",
    "\n",
    "## Stationarity Assessment"
   ]
  },
  {
   "cell_type": "markdown",
   "metadata": {},
   "source": [
    "\n",
    "**Stationarity Assessment**: Using tests like the Augmented Dickey-Fuller ensures that our time series data is suitable for modelling and forecasting, as many statistical models require stationarity for valid results.\n",
    "\n",
    "**Addressing Non-Stationarity**: Techniques such as differencing or transformation will be applied to achieve stationarity, which is crucial for the accuracy and reliability of our predictive models and correlation analysis. "
   ]
  },
  {
   "cell_type": "code",
   "execution_count": 38,
   "metadata": {},
   "outputs": [],
   "source": [
    "#To be conducted"
   ]
  },
  {
   "cell_type": "markdown",
   "metadata": {},
   "source": [
    "<div style=\"color:#FFA500\">\n",
    "\n",
    "## 5. Analysis"
   ]
  },
  {
   "cell_type": "markdown",
   "metadata": {},
   "source": [
    "<div style=\"color:#FFA500\">\n",
    "\n",
    "### Exploratory Data Analysis (EDA)\n",
    "\n",
    "</div>\n",
    "\n",
    "Performed early in the project to get an overview of the data's characteristics. This step is crucial for identifying the most relevant variables for analysis, understanding the data's basic structure, and ensuring that hypotheses are grounded in both statistical findings and economic logic.\n",
    "\n",
    "- **Technique**: Using statistical tools to summarise the data, visualising distributions with histograms, identifying correlations with scatter plots, and detecting patterns and outliers with box plots.\n",
    "- **Objective**: To gain an initial understanding of data trends, outliers, and correlations and to identify any anomalies or irregularities that may influence further analysis. Hereafter we will incorporate economic theories to hypothesise potential relationships between variables."
   ]
  },
  {
   "cell_type": "code",
   "execution_count": 39,
   "metadata": {},
   "outputs": [],
   "source": [
    "#To be conducted"
   ]
  },
  {
   "cell_type": "markdown",
   "metadata": {},
   "source": [
    "<div style=\"color:#FFA500\">\n",
    "\n",
    "### Correlation and Proxy Validation Analysis\n",
    "\n",
    "</div>\n",
    "\n",
    "Implemented after seasonality adjustments to ensure that the relationships being analysed and the proxies being identified are not influenced by seasonal fluctuations and confirm that identified relationships are economically plausible as well as statistically significant.\n",
    "\n",
    "- **Technique**: Calculating Pearson or Spearman correlation coefficients to quantify the strength and direction of the relationship between different variables. Scatter plots will be used for a more nuanced view of these relationships.\n",
    "- **Objective**: To identify which monthly indicators from the high-frequency dataset show a strong and statistically significant correlation with quarterly consumer spending figures. Economic theory will be applied to interpret these correlations, ensuring they align with established economic principles and behaviors.\n",
    "\n"
   ]
  },
  {
   "cell_type": "code",
   "execution_count": 40,
   "metadata": {},
   "outputs": [],
   "source": [
    "#To be conducted"
   ]
  },
  {
   "cell_type": "markdown",
   "metadata": {},
   "source": [
    "<div style=\"color:#FFA500\">\n",
    "\n",
    "### Comparative and Temporal Analysis\n",
    "\n",
    "</div>\n",
    "\n",
    "Undertaken after correlation analysis to delve deeper into the dynamics of the relationships between consumer spending and the identified proxies, providing insights into potential causative or predictive trends."
   ]
  },
  {
   "cell_type": "markdown",
   "metadata": {},
   "source": [
    "**Lead and Lag Analysis**:\n",
    "\n",
    "- **Technique**: Analysing the time-shifted relationships between consumer spending and the proxies to identify if any indicators consistently lead or lag behind consumer spending patterns.\n",
    "- **Objective**: To discover predictive relationships where certain proxies might signal changes in consumer spending ahead of time or respond with a delay. *While relevant, the Lead and Lag Analysis could become complex and time-consuming. We need to ensure that it directly contributes to the goal of identifying proxies.*"
   ]
  },
  {
   "cell_type": "markdown",
   "metadata": {},
   "source": [
    "**Consumer Behaviour Indicators Correlation**:\n",
    "\n",
    "- **Technique**: Using scatter plots and heatmaps to examine how different indicators relate to consumer spending visually.\n",
    "- **Objective**: To explore more complex relationships between consumer spending and various high-frequency proxies and to identify patterns not evident in standard correlation analysis.\n",
    "\n"
   ]
  },
  {
   "cell_type": "code",
   "execution_count": 41,
   "metadata": {},
   "outputs": [],
   "source": [
    "#To be conducted"
   ]
  },
  {
   "cell_type": "markdown",
   "metadata": {},
   "source": [
    "<div style=\"color:#FFA500\">\n",
    "\n",
    "### Proxy Evaluation and Variable Selection\n",
    "\n",
    "</div>\n",
    "\n",
    "Essential for finalising the selection of proxies, ensuring they are representative of consumer spending trends and robust under different conditions.\n",
    "\n",
    "**Variable Selection and Reduction**:\n",
    "\n",
    "- **Technique**: Selecting proxies based on correlation outcomes and economic rationale.\n",
    "- **Objective**: To focus on a select group of high-frequency proxies that most accurately reflect and predict trends in consumer spending.\n",
    "\n"
   ]
  },
  {
   "cell_type": "code",
   "execution_count": 42,
   "metadata": {},
   "outputs": [],
   "source": [
    "#To be conducted"
   ]
  },
  {
   "cell_type": "markdown",
   "metadata": {},
   "source": [
    "<div style=\"color:#FFA500\">\n",
    "\n",
    "### Regression Analysis and Uncertainty Assessment\n",
    "\n",
    "</div>\n",
    "\n",
    "Performed as a concluding analytical step to provide a more nuanced understanding of how each identified proxy affects consumer spending. This step helps quantify the relationships discovered in earlier analyses.\n",
    "\n",
    "**Model Evaluation and Uncertainty Assessment**:\n",
    "\n",
    "- **Technique**: Utilizing advanced statistical techniques, such as bootstrapping or Monte Carlo simulations, to evaluate the robustness of the selected proxies.\n",
    "- **Objective**: To assess the reliability and stability of the chosen proxies under various economic scenarios and conditions. *Techniques like bootstrapping or Monte Carlo simulations might be more advanced than required for this project as the primary aim is to identify proxies rather than to build a predictive model.*"
   ]
  },
  {
   "cell_type": "markdown",
   "metadata": {},
   "source": [
    "\n",
    "**Regression Analysis**\n",
    "\n",
    "- **Technique**: Conduct linear regression analysis to quantify the impact of each selected proxy on consumer spending and assess the significance of regression coefficients.\n",
    "- **Objective**: To determine the strength and nature of the influence that each proxy has on consumer spending, thereby providing a quantitative measure of their relative importance."
   ]
  },
  {
   "cell_type": "code",
   "execution_count": null,
   "metadata": {},
   "outputs": [],
   "source": []
  },
  {
   "cell_type": "code",
   "execution_count": null,
   "metadata": {},
   "outputs": [],
   "source": []
  }
 ],
 "metadata": {
  "kernelspec": {
   "display_name": "myenv",
   "language": "python",
   "name": "python3"
  },
  "language_info": {
   "codemirror_mode": {
    "name": "ipython",
    "version": 3
   },
   "file_extension": ".py",
   "mimetype": "text/x-python",
   "name": "python",
   "nbconvert_exporter": "python",
   "pygments_lexer": "ipython3",
   "version": "3.11.7"
  },
  "orig_nbformat": 4
 },
 "nbformat": 4,
 "nbformat_minor": 2
}
