{
 "cells": [
  {
   "cell_type": "code",
   "execution_count": null,
   "metadata": {},
   "outputs": [],
   "source": [
    "def plot_seasonal_acf(dataset, seasonality_presence):\n",
    "    \"\"\"\n",
    "    Plot Autocorrelation Function (ACF) for each indicator identified as having seasonality.\n",
    "    \"\"\"\n",
    "    # Filter indicators identified as having seasonality\n",
    "    indicators_with_seasonality = [indicator for indicator, has_seasonality in seasonality_presence.items() if has_seasonality]\n",
    "\n",
    "    # Calculate the number of rows needed for subplots\n",
    "    num_indicators = len(indicators_with_seasonality)\n",
    "    num_rows = math.ceil(num_indicators / 4)\n",
    "\n",
    "    # Create subplots\n",
    "    fig, axes = plt.subplots(nrows=num_rows, ncols=4, figsize=(15, num_rows * 3))\n",
    "    axes = axes.flatten()  # Flatten to 1D array for easy iteration\n",
    "\n",
    "    # Iterate over each indicator and plot ACF\n",
    "    for i, column in enumerate(indicators_with_seasonality):\n",
    "        if column in dataset.columns and i < len(axes):\n",
    "            plot_acf(dataset[column], ax=axes[i], lags=20)  # Adjust lags as needed\n",
    "            axes[i].set_title(f\"{column}\", fontsize=7)\n",
    "\n",
    "    # Adjust layout and display the plot\n",
    "    plt.tight_layout()\n",
    "    plt.show()"
   ]
  }
 ],
 "metadata": {
  "language_info": {
   "name": "python"
  }
 },
 "nbformat": 4,
 "nbformat_minor": 2
}
