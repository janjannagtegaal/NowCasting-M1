{
 "cells": [
  {
   "cell_type": "code",
   "execution_count": null,
   "metadata": {},
   "outputs": [],
   "source": []
  },
  {
   "cell_type": "markdown",
   "metadata": {},
   "source": [
    "##### Variance Inflation Factor (VIF)\n",
    "\n",
    "VIF measures how much the variance of an estimated regression coefficient increases if the predictors are correlated. A VIF value greater than 10 is often considered indicative of multicollinearity."
   ]
  },
  {
   "cell_type": "code",
   "execution_count": null,
   "metadata": {},
   "outputs": [],
   "source": [
    "from statsmodels.stats.outliers_influence import variance_inflation_factor\n",
    "\n",
    "X = joined_dataset.copy()\n",
    "\n",
    "pce = X['PCE']\n",
    "\n",
    "# Exclude 'PCE' from VIF calculation but keep it in the dataset\n",
    "X_without_PCE = X.drop(columns=['PCE']) if 'PCE' in X.columns else X.copy()\n",
    "\n",
    "# Handle missing (NaN) and infinite (inf) values\n",
    "X_without_PCE = X_without_PCE.fillna(X_without_PCE.mean())\n"
   ]
  },
  {
   "cell_type": "code",
   "execution_count": null,
   "metadata": {},
   "outputs": [
    {
     "name": "stdout",
     "output_type": "stream",
     "text": [
      "                                               feature         VIF\n",
      "48                 Personal Cons. Expend.: Chain Index  945.259947\n",
      "41                                 PPI: Finished Goods  576.456603\n",
      "42                        PPI: Finished Consumer Goods  512.761422\n",
      "51                        Personal Cons. Exp: Services  422.030946\n",
      "16           All Employees: Goods-Producing Industries  248.483816\n",
      "50                Personal Cons. Exp: Nondurable goods  227.218059\n",
      "15                        All Employees: Total nonfarm  217.046088\n",
      "57                              Secondary_Sector_Index  209.832962\n",
      "52               Avg Hourly Earnings : Goods-Producing  168.465171\n",
      "28           S&P s Common Stock Price Index: Composite  120.265499\n",
      "29         S&P s Common Stock Price Index: Industrials  116.082784\n",
      "5                                             IP Index   83.667152\n",
      "47                                     CPI : All Items   82.649983\n",
      "63                                Final_Products_Index   80.970159\n",
      "11                                 Civilian Employment   73.529906\n",
      "54                 Avg Hourly Earnings : Manufacturing   71.444989\n",
      "35           Moody s Aaa Corporate Bond Minus FEDFUNDS   67.375619\n",
      "62                          Production_Equipment_Index   51.218540\n",
      "58                               Tertiary_Sector_Index   49.414929\n",
      "33           Moody s Seasoned Aaa Corporate Bond Yield   47.126928\n",
      "66                           Monetary_Aggregates_Index   46.729087\n",
      "32                         E?ective Federal Funds Rate   32.996872\n",
      "53                  Avg Hourly Earnings : Construction   29.905168\n",
      "61                                     Materials_Index   28.422452\n",
      "69                                Long_Term_Rate_Index   23.219611\n",
      "36           Moody s Baa Corporate Bond Minus FEDFUNDS   21.241866\n",
      "10                                Civilian Labor Force   19.438850\n",
      "4                       Retail and Food Services Sales   18.620377\n",
      "49                   Personal Cons. Exp: Durable goods   18.045812\n",
      "60                                Consumer_Goods_Index   16.272886\n",
      "26                                 Real M2 Money Stock   15.844700\n",
      "2               Real personal consumption expenditures   14.256988\n",
      "24                          Total Business Inventories   13.950844\n",
      "43                         PPI: Intermediate Materials   13.279364\n",
      "12                          Civilian Unemployment Rate   13.078122\n",
      "34           Moody s Seasoned Baa Corporate Bond Yield   12.703434\n",
      "68                               Short_Term_Rate_Index   12.311350\n",
      "3                Real Manu. and Trade Industries Sales    9.816868\n",
      "7                  Capacity Utilization: Manufacturing    9.448836\n",
      "25          Total Business: Inventories to Sales Ratio    9.154592\n",
      "0                                 Real Personal Income    9.131546\n",
      "19                    Avg Weekly Hours : Manufacturing    8.973422\n",
      "59                                 Public_Sector_Index    8.195669\n",
      "9                  Ratio of Help Wanted/No. Unemployed    7.836126\n",
      "65                             Commercial_Credit_Index    7.439701\n",
      "27     Nonrevolving consumer credit to Personal Income    6.976329\n",
      "8                  Help-Wanted Index for United States    5.616768\n",
      "45                  Crude Oil, spliced WTI and Cushing    5.426064\n",
      "17                  Avg Weekly Hours : Goods-Producing    5.396585\n",
      "56                                Primary_Sector_Index    4.614428\n",
      "55   Securities in Bank Credit at All Commercial Banks    4.574048\n",
      "14                                      Initial Claims    4.201067\n",
      "18           Avg Weekly Overtime Hours : Manufacturing    3.976162\n",
      "31  S&P s Composite Common Stock: Price-Earnings Ratio    3.956307\n",
      "44                                PPI: Crude Materials    3.872523\n",
      "70                                        Spread_Index    3.541767\n",
      "64                               Consumer_Credit_Index    3.428352\n",
      "23                    Un lled Orders for Durable Goods    3.276243\n",
      "67                              Banking_Reserves_Index    3.066449\n",
      "30        S&P s Composite Common Stock: Dividend Yield    3.059593\n",
      "1            Real personal income ex transfer receipts    3.048317\n",
      "46                     PPI: Metals and metal products:    2.892521\n",
      "37            Switzerland / U.S. Foreign Exchange Rate    2.859735\n",
      "22                        New Orders for Durable Goods    2.774441\n",
      "38                  Japan / U.S. Foreign Exchange Rate    2.732374\n",
      "13            Average Duration of Unemployment (Weeks)    2.575711\n",
      "20           Housing Starts: Total New Privately Owned    2.525095\n",
      "21                  New Private Housing Permits (SAAR)    2.268238\n",
      "40                 Canada / U.S. Foreign Exchange Rate    2.137308\n",
      "39                   U.S. / U.K. Foreign Exchange Rate    2.092180\n",
      "6                                            IP: Fuels    1.918114\n"
     ]
    }
   ],
   "source": [
    "vif_data = pd.DataFrame()\n",
    "vif_data[\"feature\"] = X_without_PCE.columns\n",
    "vif_data[\"VIF\"] = [variance_inflation_factor(X_without_PCE.values, i) for i in range(X_without_PCE.shape[1])]\n",
    "vif_data = vif_data.sort_values(by='VIF', ascending=False)\n",
    "print(vif_data)\n"
   ]
  },
  {
   "cell_type": "code",
   "execution_count": null,
   "metadata": {},
   "outputs": [
    {
     "name": "stdout",
     "output_type": "stream",
     "text": [
      "Dropping Personal Cons. Expend.: Chain Index with VIF: 945.2599469950171\n",
      "Dropping PPI: Finished Goods with VIF: 571.6269822542896\n",
      "Dropping All Employees: Goods-Producing Industries with VIF: 243.69387620699257\n",
      "Dropping All Employees: Total nonfarm with VIF: 208.15206109763997\n",
      "Dropping Avg Hourly Earnings : Goods-Producing with VIF: 151.5031443172232\n",
      "Dropping S&P s Common Stock Price Index: Composite with VIF: 116.19512062415967\n",
      "Dropping IP Index with VIF: 76.96138342360842\n",
      "Dropping Moody s Aaa Corporate Bond Minus FEDFUNDS with VIF: 66.26520811106896\n",
      "Dropping CPI : All Items with VIF: 63.90356767364602\n",
      "Dropping Final_Products_Index with VIF: 56.67837591607776\n",
      "Dropping Civilian Employment with VIF: 36.838458475666975\n",
      "Dropping Monetary_Aggregates_Index with VIF: 24.045518416428898\n",
      "Dropping Long_Term_Rate_Index with VIF: 19.30531102795037\n",
      "Dropping PPI: Finished Consumer Goods with VIF: 15.256176381812494\n",
      "Dropping Retail and Food Services Sales with VIF: 14.430489209931803\n",
      "Dropping Personal Cons. Exp: Services with VIF: 13.00751039907479\n",
      "Dropping Tertiary_Sector_Index with VIF: 11.662619210312242\n"
     ]
    }
   ],
   "source": [
    "\n",
    "ignored_columns =[]\n",
    "#ignored_columns = [\"Civilian Unemployment Rate\",\"Civilian Employment\",\"Housing Starts: Total New Privately Owned\",\"Avg Weekly Hours : Goods-Producing\",\n",
    "#                  \"Avg Weekly Hours : Manufacturing\",\"Personal Cons. Expend.: Chain Index\",\"Civilian Labor Force\",\"All Employees: Total nonfarm\"]  # Add any other columns you want to ignore in this list\n",
    "\n",
    "while True:\n",
    "    # Calculate VIF for features not in the ignored list\n",
    "    vif_data = pd.DataFrame()\n",
    "    vif_data[\"feature\"] = [column for column in X_without_PCE.columns if column not in ignored_columns]\n",
    "    vif_data[\"VIF\"] = [variance_inflation_factor(X_without_PCE[vif_data[\"feature\"]].values, i) for i in range(len(vif_data[\"feature\"]))]\n",
    "\n",
    "    # Find and drop the variable with the highest VIF if it's not in the ignored list\n",
    "    max_vif = vif_data[\"VIF\"].max()\n",
    "    if max_vif > 10:  # Assuming 10 as the threshold\n",
    "        feature_to_drop = vif_data.sort_values(\"VIF\", ascending=False).iloc[0][\"feature\"]\n",
    "        if feature_to_drop not in ignored_columns:\n",
    "            X_without_PCE.drop(columns=[feature_to_drop], inplace=True)\n",
    "            print(f\"Dropping {feature_to_drop} with VIF: {max_vif}\")\n",
    "        else:\n",
    "            # If the top VIF feature is in the ignore list, remove it from the VIF dataframe and continue\n",
    "            vif_data = vif_data[vif_data[\"feature\"] != feature_to_drop]\n",
    "    else:\n",
    "        break\n",
    "\n"
   ]
  },
  {
   "cell_type": "code",
   "execution_count": null,
   "metadata": {},
   "outputs": [],
   "source": [
    "\n",
    "# update the refined_dataset\n",
    "# Add 'PCE' back to the dataset if it was removed initially\n",
    "# refined_dataset = pd.concat([X_without_PCE, pce], axis=1) \n",
    "# refined_dataset.head()"
   ]
  }
 ],
 "metadata": {
  "language_info": {
   "name": "python"
  }
 },
 "nbformat": 4,
 "nbformat_minor": 2
}
