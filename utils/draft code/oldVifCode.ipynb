{
 "cells": [
  {
   "cell_type": "code",
   "execution_count": null,
   "metadata": {},
   "outputs": [],
   "source": []
  },
  {
   "cell_type": "code",
   "execution_count": null,
   "metadata": {},
   "outputs": [],
   "source": [
    "# from statsmodels.stats.outliers_influence import variance_inflation_factor\n",
    "\n",
    "# X = joined_dataset.copy()\n",
    "\n",
    "# pce = X[\"PCE\"]\n",
    "\n",
    "# # Exclude 'PCE' from VIF calculation but keep it in the dataset\n",
    "# X_without_PCE = X.drop(columns=[\"PCE\"]) if \"PCE\" in X.columns else X.copy()\n",
    "\n",
    "# # Handle missing (NaN) and infinite (inf) values\n",
    "# X_without_PCE = X_without_PCE.fillna(X_without_PCE.mean())\n",
    "\n",
    "# vif_data = pd.DataFrame()\n",
    "# vif_data[\"feature\"] = X_without_PCE.columns\n",
    "# vif_data[\"VIF\"] = [\n",
    "#     variance_inflation_factor(X_without_PCE.values, i)\n",
    "#     for i in range(X_without_PCE.shape[1])\n",
    "# ]\n",
    "# vif_data = vif_data.sort_values(by=\"VIF\", ascending=True)"
   ]
  },
  {
   "cell_type": "code",
   "execution_count": null,
   "metadata": {},
   "outputs": [],
   "source": [
    "# # Define a list of columns to ignore in the VIF calculation\n",
    "\n",
    "# ignored_columns = [\n",
    "#     \"Civilian Unemployment Rate\",\n",
    "#     \"Civilian Employment\",\n",
    "#     \"Civilian Labor Force\",\n",
    "#     \"CPI_Index\",\n",
    "#     \"IP Index\",\n",
    "#     \"Personal Cons. Expend.: Chain Index\",\n",
    "#     \"Civilians Unemployed\",\n",
    "#     \"All Employees: Total nonfarm\",\n",
    "#     \"Tertiary_Sector_Employment\",\n",
    "#     \"Retail and Food Services Sales\",\n",
    "#     \"CPI : All Items\",\n",
    "#     \"New Private Housing Permits (SAAR)\"\n",
    "# ]\n",
    "\n",
    "# # A Loop to Find and drop the variable with the highest VIF if it's not in the ignored list\n",
    "\n",
    "# while True:\n",
    "#     # Calculate VIF for features not in the ignored list\n",
    "#     vif_data = pd.DataFrame()\n",
    "#     vif_data[\"feature\"] = [\n",
    "#         column for column in X_without_PCE.columns if column not in ignored_columns\n",
    "#     ]\n",
    "#     vif_data[\"VIF\"] = [\n",
    "#         variance_inflation_factor(X_without_PCE[vif_data[\"feature\"]].values, i)\n",
    "#         for i in range(len(vif_data[\"feature\"]))\n",
    "#     ]\n",
    "\n",
    "#     # Find and drop the variable with the highest VIF if it's not in the ignored list\n",
    "#     max_vif = vif_data[\"VIF\"].max()\n",
    "#     if max_vif > 10:\n",
    "#         feature_to_drop = vif_data.sort_values(\"VIF\", ascending=False).iloc[0][\n",
    "#             \"feature\"\n",
    "#         ]\n",
    "#         if feature_to_drop not in ignored_columns:\n",
    "#             X_without_PCE.drop(columns=[feature_to_drop], inplace=True)\n",
    "#             print(f\"Dropping {feature_to_drop} with VIF: {max_vif}\")\n",
    "#         else:\n",
    "#             # If the top VIF feature is in the ignore list, remove it from the VIF dataframe and continue\n",
    "#             vif_data = vif_data[vif_data[\"feature\"] != feature_to_drop]\n",
    "#     else:\n",
    "#         break"
   ]
  }
 ],
 "metadata": {
  "language_info": {
   "name": "python"
  }
 },
 "nbformat": 4,
 "nbformat_minor": 2
}
