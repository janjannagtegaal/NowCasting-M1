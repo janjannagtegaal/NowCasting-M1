{
 "cells": [
  {
   "cell_type": "code",
   "execution_count": null,
   "metadata": {},
   "outputs": [],
   "source": [
    "# def plot_clustermap_of_correlations(dataset, method=\"pearson\", cluster_threshold=None):\n",
    "#     \"\"\"\n",
    "#     Plots a clustermap (hierarchical clustering heatmap) of the correlation matrix of the dataset.\n",
    "\n",
    "#     :param dataset: Pandas DataFrame containing the data.\n",
    "#     :param method: String, method of correlation (default 'pearson'). Other methods include 'spearman' and 'kendall'.\n",
    "#     :param cluster_threshold: Float, the threshold to apply a cutoff in the dendrogram. Clusters below this threshold are not shown.\n",
    "#     \"\"\"\n",
    "#     # Calculate the correlation matrix\n",
    "#     correlation_matrix = dataset.corr(method=method)\n",
    "\n",
    "#     # Create a clustermap\n",
    "#     clustergrid = sns.clustermap(\n",
    "#         correlation_matrix,\n",
    "#         method=\"average\",\n",
    "#         cmap=\"coolwarm\",\n",
    "#         linewidths=0.5,\n",
    "#         figsize=(13, 13),\n",
    "#     )\n",
    "\n",
    "#     # Apply a threshold to the clustering to clean up the dendrogram, if specified\n",
    "#     if cluster_threshold is not None:\n",
    "#         sns.clustermap(\n",
    "#             correlation_matrix,\n",
    "#             method=\"average\",\n",
    "#             cmap=\"coolwarm\",\n",
    "#             linewidths=0.5,\n",
    "#             figsize=(13, 13),\n",
    "#             col_cluster=False,\n",
    "#             row_cluster=False,\n",
    "#             color_threshold=cluster_threshold,\n",
    "#         )\n",
    "\n",
    "#     plt.setp(clustergrid.ax_heatmap.yaxis.get_majorticklabels(), rotation=0)\n",
    "#     plt.setp(clustergrid.ax_heatmap.xaxis.get_majorticklabels(), rotation=90)\n",
    "#     plt.show()\n",
    "\n",
    "\n",
    "# # Example usage:\n",
    "# plot_clustermap_of_correlations(joined_dataset, method=\"spearman\")"
   ]
  }
 ],
 "metadata": {
  "language_info": {
   "name": "python"
  }
 },
 "nbformat": 4,
 "nbformat_minor": 2
}
